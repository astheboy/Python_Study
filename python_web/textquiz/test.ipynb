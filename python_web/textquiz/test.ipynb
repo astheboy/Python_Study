{
 "cells": [
  {
   "cell_type": "code",
   "execution_count": 20,
   "metadata": {},
   "outputs": [
    {
     "name": "stdout",
     "output_type": "stream",
     "text": [
      "뜻을 찾을 수 없습니다.\n"
     ]
    }
   ],
   "source": [
    "import requests\n",
    "from bs4 import BeautifulSoup\n",
    "\n",
    "url = 'https://dic.daum.net/search.do?q=python'\n",
    "response = requests.get(url, timeout=10)\n",
    "soup = BeautifulSoup(response.text, 'html.parser')\n",
    "if soup.select_one('daum.txt_box') is not None:\n",
    "    meaning = soup.select_one('daum.txt_box').text\n",
    "else:\n",
    "    meaning = '뜻을 찾을 수 없습니다.'\n",
    "\n",
    "print(meaning)"
   ]
  }
 ],
 "metadata": {
  "kernelspec": {
   "display_name": "Python 3",
   "language": "python",
   "name": "python3"
  },
  "language_info": {
   "name": "python",
   "version": "3.11.1"
  },
  "orig_nbformat": 4
 },
 "nbformat": 4,
 "nbformat_minor": 2
}
