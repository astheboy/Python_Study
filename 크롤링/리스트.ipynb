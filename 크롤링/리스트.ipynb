{
 "cells": [
  {
   "cell_type": "code",
   "execution_count": 1,
   "id": "ba23f81b",
   "metadata": {},
   "outputs": [],
   "source": [
    "location=['서울특별시','부산광역시','광주광역시','대전광역시','인천광역시','대구광역시','울산광역시','경기도']"
   ]
  },
  {
   "cell_type": "code",
   "execution_count": 4,
   "id": "cd7e737e",
   "metadata": {},
   "outputs": [
    {
     "name": "stdout",
     "output_type": "stream",
     "text": [
      "['서울특별시', '부산광역시', '광주광역시', '대전광역시', '인천광역시', '대구광역시', '울산광역시', '경기도']\n"
     ]
    }
   ],
   "source": [
    "print(location)"
   ]
  },
  {
   "cell_type": "code",
   "execution_count": 7,
   "id": "94503cdc",
   "metadata": {},
   "outputs": [],
   "source": [
    "location.append('제주특별시')"
   ]
  },
  {
   "cell_type": "code",
   "execution_count": 9,
   "id": "8a52857f",
   "metadata": {},
   "outputs": [
    {
     "name": "stdout",
     "output_type": "stream",
     "text": [
      "['서울특별시', '부산광역시', '광주광역시', '대전광역시', '인천광역시', '대구광역시', '울산광역시', '경기도', '제주특별시', '제주특별시', '제주특별시']\n"
     ]
    }
   ],
   "source": [
    "print(location)"
   ]
  },
  {
   "cell_type": "code",
   "execution_count": 11,
   "id": "61712070",
   "metadata": {},
   "outputs": [
    {
     "name": "stdout",
     "output_type": "stream",
     "text": [
      "['부산광역시', '광주광역시', '대전광역시']\n"
     ]
    }
   ],
   "source": [
    "print(location[1:4])"
   ]
  },
  {
   "cell_type": "code",
   "execution_count": 15,
   "id": "a1b71248",
   "metadata": {},
   "outputs": [
    {
     "ename": "ValueError",
     "evalue": "list.remove(x): x not in list",
     "output_type": "error",
     "traceback": [
      "\u001b[0;31m---------------------------------------------------------------------------\u001b[0m",
      "\u001b[0;31mValueError\u001b[0m                                Traceback (most recent call last)",
      "\u001b[0;32m/var/folders/dc/wf8928dn1jn6z3pxz_k18x780000gn/T/ipykernel_9083/255531466.py\u001b[0m in \u001b[0;36m<module>\u001b[0;34m\u001b[0m\n\u001b[0;32m----> 1\u001b[0;31m \u001b[0mlocation\u001b[0m\u001b[0;34m.\u001b[0m\u001b[0mremove\u001b[0m\u001b[0;34m(\u001b[0m\u001b[0;34m'제주특별시'\u001b[0m\u001b[0;34m)\u001b[0m\u001b[0;34m\u001b[0m\u001b[0;34m\u001b[0m\u001b[0m\n\u001b[0m\u001b[1;32m      2\u001b[0m \u001b[0mprint\u001b[0m\u001b[0;34m(\u001b[0m\u001b[0mlocation\u001b[0m\u001b[0;34m)\u001b[0m\u001b[0;34m\u001b[0m\u001b[0;34m\u001b[0m\u001b[0m\n",
      "\u001b[0;31mValueError\u001b[0m: list.remove(x): x not in list"
     ]
    }
   ],
   "source": [
    "location.remove('제주특별시')\n",
    "print(location)"
   ]
  },
  {
   "cell_type": "code",
   "execution_count": 16,
   "id": "47cc3b9e",
   "metadata": {},
   "outputs": [
    {
     "name": "stdout",
     "output_type": "stream",
     "text": [
      "['서울특별시', '부산광역시', '광주광역시', '대전광역시', '인천광역시', '대구광역시', '울산광역시', '경기도', '제주특별시']\n"
     ]
    }
   ],
   "source": [
    "location.append('제주특별시')\n",
    "print(location)"
   ]
  },
  {
   "cell_type": "code",
   "execution_count": 17,
   "id": "fb851453",
   "metadata": {},
   "outputs": [],
   "source": [
    "location2=list()"
   ]
  },
  {
   "cell_type": "code",
   "execution_count": 18,
   "id": "3e73244a",
   "metadata": {},
   "outputs": [
    {
     "name": "stdout",
     "output_type": "stream",
     "text": [
      "['서울특별시', '부산광역시', '광주광역시', '대전광역시', '인천광역시', '대구광역시', '울산광역시', '경기도', '제주특별시']\n",
      "['강원도']\n"
     ]
    }
   ],
   "source": [
    "location2.append('강원도')\n",
    "print(location)\n",
    "print(location2)"
   ]
  },
  {
   "cell_type": "code",
   "execution_count": 19,
   "id": "aa6cfa9a",
   "metadata": {},
   "outputs": [
    {
     "name": "stdout",
     "output_type": "stream",
     "text": [
      "['부천시', '부산광역시', '광주광역시', '대전광역시', '인천광역시', '대구광역시', '울산광역시', '경기도', '제주특별시']\n"
     ]
    }
   ],
   "source": [
    "location[0]='부천시'\n",
    "print(location)"
   ]
  },
  {
   "cell_type": "code",
   "execution_count": 20,
   "id": "83361fad",
   "metadata": {},
   "outputs": [],
   "source": [
    "location[0]='서울특별시'"
   ]
  },
  {
   "cell_type": "code",
   "execution_count": 21,
   "id": "c0071c7f",
   "metadata": {},
   "outputs": [
    {
     "name": "stdout",
     "output_type": "stream",
     "text": [
      "['서울특별시', '부산광역시', '광주광역시', '대전광역시', '인천광역시', '대구광역시', '울산광역시', '경기도', '제주특별시']\n"
     ]
    }
   ],
   "source": [
    "print(location)"
   ]
  },
  {
   "cell_type": "code",
   "execution_count": 22,
   "id": "73d55c59",
   "metadata": {},
   "outputs": [
    {
     "name": "stdout",
     "output_type": "stream",
     "text": [
      "['경기도', '광주광역시', '대구광역시', '대전광역시', '부산광역시', '서울특별시', '울산광역시', '인천광역시', '제주특별시']\n"
     ]
    }
   ],
   "source": [
    "location.sort()\n",
    "print(location)"
   ]
  },
  {
   "cell_type": "code",
   "execution_count": 23,
   "id": "bde7f85e",
   "metadata": {},
   "outputs": [
    {
     "name": "stdout",
     "output_type": "stream",
     "text": [
      "['제주특별시', '인천광역시', '울산광역시', '서울특별시', '부산광역시', '대전광역시', '대구광역시', '광주광역시', '경기도']\n"
     ]
    }
   ],
   "source": [
    "location.reverse()\n",
    "print(location)"
   ]
  },
  {
   "cell_type": "code",
   "execution_count": 24,
   "id": "a20b3db5",
   "metadata": {},
   "outputs": [
    {
     "data": {
      "text/plain": [
       "['python', 'is', 'easy.']"
      ]
     },
     "execution_count": 24,
     "metadata": {},
     "output_type": "execute_result"
    }
   ],
   "source": [
    "text='python is easy.'\n",
    "text.split()"
   ]
  },
  {
   "cell_type": "code",
   "execution_count": 25,
   "id": "c6be309d",
   "metadata": {},
   "outputs": [
    {
     "name": "stdout",
     "output_type": "stream",
     "text": [
      "python is easy.\n"
     ]
    }
   ],
   "source": [
    "print(text)"
   ]
  },
  {
   "cell_type": "code",
   "execution_count": 26,
   "id": "0cb3022f",
   "metadata": {},
   "outputs": [
    {
     "name": "stdout",
     "output_type": "stream",
     "text": [
      "python is easy.\n",
      "['python', 'is', 'easy.']\n"
     ]
    }
   ],
   "source": [
    "print(text)\n",
    "print(text.split())"
   ]
  },
  {
   "cell_type": "code",
   "execution_count": 28,
   "id": "7dfcd78e",
   "metadata": {},
   "outputs": [
    {
     "name": "stdout",
     "output_type": "stream",
     "text": [
      "python is easy.\n",
      "['python', 'is', 'easy.']\n"
     ]
    }
   ],
   "source": [
    "python_string_list=text.split()\n",
    "print(text)\n",
    "print(python_string_list)"
   ]
  },
  {
   "cell_type": "code",
   "execution_count": null,
   "id": "3cd54251",
   "metadata": {},
   "outputs": [],
   "source": []
  }
 ],
 "metadata": {
  "kernelspec": {
   "display_name": "Python 3 (ipykernel)",
   "language": "python",
   "name": "python3"
  },
  "language_info": {
   "codemirror_mode": {
    "name": "ipython",
    "version": 3
   },
   "file_extension": ".py",
   "mimetype": "text/x-python",
   "name": "python",
   "nbconvert_exporter": "python",
   "pygments_lexer": "ipython3",
   "version": "3.9.7"
  }
 },
 "nbformat": 4,
 "nbformat_minor": 5
}
