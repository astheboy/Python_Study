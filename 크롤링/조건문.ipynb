{
 "cells": [
  {
   "cell_type": "markdown",
   "id": "117db907",
   "metadata": {},
   "source": [
    "나이가 19살이상이면 \"당신은 성인입니다\"를 출력하는 조건문"
   ]
  },
  {
   "cell_type": "code",
   "execution_count": 4,
   "id": "b5a3a9ed",
   "metadata": {},
   "outputs": [
    {
     "name": "stdout",
     "output_type": "stream",
     "text": [
      "당신의 나이는 몇살인가요?18\n",
      "당신은 성인이 아닙니다.\n"
     ]
    }
   ],
   "source": [
    "age=int(input(\"당신의 나이는 몇살인가요?\"))\n",
    "\n",
    "if age>=19:\n",
    "    print('당신은 성인입니다.')\n",
    "else:\n",
    "    print('당신은 성인이 아닙니다.')"
   ]
  },
  {
   "cell_type": "code",
   "execution_count": 6,
   "id": "1f8e7a00",
   "metadata": {},
   "outputs": [
    {
     "name": "stdout",
     "output_type": "stream",
     "text": [
      "현금이 얼마있나요?150000\n",
      "레스토랑을 갑시다.\n"
     ]
    }
   ],
   "source": [
    "cash=int(input(\"현금이 얼마있나요?\"))\n",
    "\n",
    "if cash>=100000:\n",
    "    print(\"레스토랑을 갑시다.\")"
   ]
  },
  {
   "cell_type": "markdown",
   "id": "16c87c4f",
   "metadata": {},
   "source": [
    "### 딕셔너리 활용"
   ]
  },
  {
   "cell_type": "code",
   "execution_count": 20,
   "id": "d9273bcd",
   "metadata": {},
   "outputs": [
    {
     "ename": "NameError",
     "evalue": "name 'name' is not defined",
     "output_type": "error",
     "traceback": [
      "\u001b[0;31m---------------------------------------------------------------------------\u001b[0m",
      "\u001b[0;31mNameError\u001b[0m                                 Traceback (most recent call last)",
      "\u001b[0;32m/var/folders/dc/wf8928dn1jn6z3pxz_k18x780000gn/T/ipykernel_11188/3436054003.py\u001b[0m in \u001b[0;36m<module>\u001b[0;34m\u001b[0m\n\u001b[1;32m      5\u001b[0m     \u001b[0mi\u001b[0m\u001b[0;34m=\u001b[0m\u001b[0mi\u001b[0m\u001b[0;34m+\u001b[0m\u001b[0;36m1\u001b[0m\u001b[0;34m\u001b[0m\u001b[0;34m\u001b[0m\u001b[0m\n\u001b[1;32m      6\u001b[0m \u001b[0;34m\u001b[0m\u001b[0m\n\u001b[0;32m----> 7\u001b[0;31m \u001b[0mdic\u001b[0m\u001b[0;34m=\u001b[0m\u001b[0;34m{\u001b[0m\u001b[0;34m'name'\u001b[0m\u001b[0;34m:\u001b[0m\u001b[0mname\u001b[0m\u001b[0;34m,\u001b[0m \u001b[0;34m'age'\u001b[0m\u001b[0;34m:\u001b[0m\u001b[0mage\u001b[0m\u001b[0;34m}\u001b[0m\u001b[0;34m\u001b[0m\u001b[0;34m\u001b[0m\u001b[0m\n\u001b[0m",
      "\u001b[0;31mNameError\u001b[0m: name 'name' is not defined"
     ]
    }
   ],
   "source": [
    "i=0\n",
    "while i > 10:\n",
    "    name=str(input(\"이름을 입력해주세요.\"))\n",
    "    age=int(input(\"나이를 입력해주세요.\"))\n",
    "    i=i+1\n",
    "    \n",
    "dic={'name':name, 'age':age}"
   ]
  },
  {
   "cell_type": "code",
   "execution_count": null,
   "id": "109f3d8f",
   "metadata": {},
   "outputs": [],
   "source": []
  }
 ],
 "metadata": {
  "kernelspec": {
   "display_name": "Python 3 (ipykernel)",
   "language": "python",
   "name": "python3"
  },
  "language_info": {
   "codemirror_mode": {
    "name": "ipython",
    "version": 3
   },
   "file_extension": ".py",
   "mimetype": "text/x-python",
   "name": "python",
   "nbconvert_exporter": "python",
   "pygments_lexer": "ipython3",
   "version": "3.9.7"
  }
 },
 "nbformat": 4,
 "nbformat_minor": 5
}
