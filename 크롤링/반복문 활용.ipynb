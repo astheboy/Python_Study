{
 "cells": [
  {
   "cell_type": "markdown",
   "id": "ea3e4055",
   "metadata": {},
   "source": [
    "1~10까지의 숫자에 대해 모두 더한 값을 출력하는 프로그램"
   ]
  },
  {
   "cell_type": "code",
   "execution_count": 3,
   "id": "5b27af2d",
   "metadata": {},
   "outputs": [
    {
     "name": "stdout",
     "output_type": "stream",
     "text": [
      "55\n"
     ]
    }
   ],
   "source": [
    "sum = 0\n",
    "\n",
    "for index in range(1, 11):\n",
    "    sum=sum+index\n",
    "print(sum)"
   ]
  },
  {
   "cell_type": "markdown",
   "id": "88a6393e",
   "metadata": {},
   "source": [
    "2~9단 곱셈구구표 출력 프로그램"
   ]
  },
  {
   "cell_type": "code",
   "execution_count": 10,
   "id": "541f71e3",
   "metadata": {},
   "outputs": [
    {
     "name": "stdout",
     "output_type": "stream",
     "text": [
      "\n",
      "2 단\n",
      "\n",
      "2 * 1 = 2\n",
      "2 * 2 = 4\n",
      "2 * 3 = 6\n",
      "2 * 4 = 8\n",
      "2 * 5 = 10\n",
      "2 * 6 = 12\n",
      "2 * 7 = 14\n",
      "2 * 8 = 16\n",
      "2 * 9 = 18\n",
      "-------------------\n",
      "\n",
      "3 단\n",
      "\n",
      "3 * 1 = 3\n",
      "3 * 2 = 6\n",
      "3 * 3 = 9\n",
      "3 * 4 = 12\n",
      "3 * 5 = 15\n",
      "3 * 6 = 18\n",
      "3 * 7 = 21\n",
      "3 * 8 = 24\n",
      "3 * 9 = 27\n",
      "-------------------\n",
      "\n",
      "4 단\n",
      "\n",
      "4 * 1 = 4\n",
      "4 * 2 = 8\n",
      "4 * 3 = 12\n",
      "4 * 4 = 16\n",
      "4 * 5 = 20\n",
      "4 * 6 = 24\n",
      "4 * 7 = 28\n",
      "4 * 8 = 32\n",
      "4 * 9 = 36\n",
      "-------------------\n",
      "\n",
      "5 단\n",
      "\n",
      "5 * 1 = 5\n",
      "5 * 2 = 10\n",
      "5 * 3 = 15\n",
      "5 * 4 = 20\n",
      "5 * 5 = 25\n",
      "5 * 6 = 30\n",
      "5 * 7 = 35\n",
      "5 * 8 = 40\n",
      "5 * 9 = 45\n",
      "-------------------\n",
      "\n",
      "6 단\n",
      "\n",
      "6 * 1 = 6\n",
      "6 * 2 = 12\n",
      "6 * 3 = 18\n",
      "6 * 4 = 24\n",
      "6 * 5 = 30\n",
      "6 * 6 = 36\n",
      "6 * 7 = 42\n",
      "6 * 8 = 48\n",
      "6 * 9 = 54\n",
      "-------------------\n",
      "\n",
      "7 단\n",
      "\n",
      "7 * 1 = 7\n",
      "7 * 2 = 14\n",
      "7 * 3 = 21\n",
      "7 * 4 = 28\n",
      "7 * 5 = 35\n",
      "7 * 6 = 42\n",
      "7 * 7 = 49\n",
      "7 * 8 = 56\n",
      "7 * 9 = 63\n",
      "-------------------\n",
      "\n",
      "8 단\n",
      "\n",
      "8 * 1 = 8\n",
      "8 * 2 = 16\n",
      "8 * 3 = 24\n",
      "8 * 4 = 32\n",
      "8 * 5 = 40\n",
      "8 * 6 = 48\n",
      "8 * 7 = 56\n",
      "8 * 8 = 64\n",
      "8 * 9 = 72\n",
      "-------------------\n",
      "\n",
      "9 단\n",
      "\n",
      "9 * 1 = 9\n",
      "9 * 2 = 18\n",
      "9 * 3 = 27\n",
      "9 * 4 = 36\n",
      "9 * 5 = 45\n",
      "9 * 6 = 54\n",
      "9 * 7 = 63\n",
      "9 * 8 = 72\n",
      "9 * 9 = 81\n",
      "-------------------\n"
     ]
    }
   ],
   "source": [
    "sum=0\n",
    "\n",
    "for index1 in range(2,10):\n",
    "    print()\n",
    "    print(index1,\"단\")\n",
    "    print()\n",
    "    for index2 in range(1,10):\n",
    "        sum=index1*index2\n",
    "        print(index1, '*', index2, '=', sum)\n",
    "    print('-------------------')"
   ]
  },
  {
   "cell_type": "markdown",
   "id": "c0d5b8df",
   "metadata": {},
   "source": [
    "사용자로부터 2~9사이의 숫자를 입력 받은 후, 해당 숫자에 대한 구구단을 출력하기"
   ]
  },
  {
   "cell_type": "code",
   "execution_count": 11,
   "id": "710dd83a",
   "metadata": {},
   "outputs": [
    {
     "name": "stdout",
     "output_type": "stream",
     "text": [
      "4\n",
      "4 * 1 = 4\n",
      "4 * 2 = 8\n",
      "4 * 3 = 12\n",
      "4 * 4 = 16\n",
      "4 * 5 = 20\n",
      "4 * 6 = 24\n",
      "4 * 7 = 28\n",
      "4 * 8 = 32\n",
      "4 * 9 = 36\n"
     ]
    }
   ],
   "source": [
    "data = int(input())\n",
    "\n",
    "if data >=2 and data <=9:\n",
    "    for digit in range(1,10):\n",
    "        print(data, \"*\", digit, \"=\", data * digit)"
   ]
  },
  {
   "cell_type": "code",
   "execution_count": 13,
   "id": "8ab127f0",
   "metadata": {},
   "outputs": [
    {
     "name": "stdout",
     "output_type": "stream",
     "text": [
      "['Dave', 'David', 'Andy', 'Arthor']\n",
      "Dave\n",
      "David\n",
      "Andy\n",
      "Arthor\n"
     ]
    }
   ],
   "source": [
    "data = \"Dave,David,Andy,Arthor\"\n",
    "\n",
    "data_list=data.split(\",\")\n",
    "\n",
    "print(data_list)\n",
    "\n",
    "for str_data in data_list:\n",
    "    print(str_data)"
   ]
  },
  {
   "cell_type": "code",
   "execution_count": 14,
   "id": "7901a154",
   "metadata": {},
   "outputs": [
    {
     "name": "stdout",
     "output_type": "stream",
     "text": [
      "Dave,David,Andy,Arthor\n",
      "['Dave', 'David', 'Andy', 'Arthor']\n",
      "Dave\n",
      "David\n",
      "Andy\n",
      "Arthor\n"
     ]
    }
   ],
   "source": [
    "data = input()\n",
    "\n",
    "data_list=data.split(\",\") #문자열 쪼개기\n",
    "\n",
    "print(data_list)\n",
    "\n",
    "for str_data in data_list:\n",
    "    print(str_data)"
   ]
  },
  {
   "cell_type": "code",
   "execution_count": 15,
   "id": "bd49e067",
   "metadata": {},
   "outputs": [
    {
     "name": "stdout",
     "output_type": "stream",
     "text": [
      "[Dave]\n",
      "[David]\n",
      "[Andy]\n",
      "[Artchor]\n"
     ]
    }
   ],
   "source": [
    "data = \"[Dave],[David],[Andy],[Artchor]\"\n",
    "\n",
    "for str_data in data.split(\",\"):\n",
    "    print(str_data)"
   ]
  },
  {
   "cell_type": "code",
   "execution_count": 17,
   "id": "4d1a73d0",
   "metadata": {},
   "outputs": [
    {
     "name": "stdout",
     "output_type": "stream",
     "text": [
      "Dave\n",
      "David\n",
      "Andy\n",
      "Artchor\n"
     ]
    }
   ],
   "source": [
    "data = \"[Dave],[David],[Andy],[Artchor]\"\n",
    "\n",
    "for str_data in data.split(\",\"):\n",
    "    print(str_data[1:-1]) #슬라이서"
   ]
  },
  {
   "cell_type": "code",
   "execution_count": null,
   "id": "9cb6e4fc",
   "metadata": {},
   "outputs": [],
   "source": []
  }
 ],
 "metadata": {
  "kernelspec": {
   "display_name": "Python 3 (ipykernel)",
   "language": "python",
   "name": "python3"
  },
  "language_info": {
   "codemirror_mode": {
    "name": "ipython",
    "version": 3
   },
   "file_extension": ".py",
   "mimetype": "text/x-python",
   "name": "python",
   "nbconvert_exporter": "python",
   "pygments_lexer": "ipython3",
   "version": "3.9.7"
  }
 },
 "nbformat": 4,
 "nbformat_minor": 5
}
