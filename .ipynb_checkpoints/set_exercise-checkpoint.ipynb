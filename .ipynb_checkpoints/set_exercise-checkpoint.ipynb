{
 "cells": [
  {
   "cell_type": "code",
   "execution_count": 23,
   "id": "3fa0c0a6",
   "metadata": {},
   "outputs": [
    {
     "name": "stdout",
     "output_type": "stream",
     "text": [
      "1 0 0   달 달러\n"
     ]
    }
   ],
   "source": [
    "prices = '100 달러'\n",
    "\n",
    "f = prices[4:]\n",
    "\n",
    "print(a, b, c, d, e, f)"
   ]
  },
  {
   "cell_type": "code",
   "execution_count": 29,
   "id": "b8ca07f9",
   "metadata": {},
   "outputs": [
    {
     "name": "stdout",
     "output_type": "stream",
     "text": [
      "300 달러\n",
      "333600 원\n"
     ]
    }
   ],
   "source": [
    "prices = input()\n",
    "\n",
    "if prices[4:]  == '달러':\n",
    "    print (int(prices[:4]) * 1112, '원') #달러 금액을 입력받은 후 달러 글자 앞의 숫자를 자른 후 환율을 곱해 원화로 환산한다."
   ]
  },
  {
   "cell_type": "code",
   "execution_count": 31,
   "id": "2cb56620",
   "metadata": {},
   "outputs": [
    {
     "name": "stdout",
     "output_type": "stream",
     "text": [
      "400 위안\n",
      "68400 원\n"
     ]
    }
   ],
   "source": [
    "prices = input()\n",
    "\n",
    "if prices[4:]  == '달러':\n",
    "    print (int(prices[:4]) * 1112, '원') #달러 금액을 입력받으면 달러 글자 앞의 숫자를 자른 후 환율을 곱해 원화로 환산한다.\n",
    "elif prices[4:] == '위안':\n",
    "    print (int(prices[:4]) * 171, '원') #위안 금액을 입력받으면 위안 글자 앞의 숫자를 자른 후 환율을 곱해 원화로 환산한다."
   ]
  },
  {
   "cell_type": "code",
   "execution_count": 35,
   "id": "60a94b5b",
   "metadata": {},
   "outputs": [
    {
     "name": "stdout",
     "output_type": "stream",
     "text": [
      "달러\n",
      "위안\n",
      "엔\n"
     ]
    }
   ],
   "source": [
    "exchange = {'달러':1112, '위안':171, '엔':1010}\n",
    "\n",
    "for exchange_item in exchange.keys():\n",
    "    print(exchange_item)"
   ]
  },
  {
   "cell_type": "code",
   "execution_count": 37,
   "id": "2758f580",
   "metadata": {},
   "outputs": [
    {
     "name": "stdout",
     "output_type": "stream",
     "text": [
      "100 달러\n",
      "1112\n"
     ]
    }
   ],
   "source": [
    "exchange = {'달러':1112, '위안':171, '엔':1010}\n",
    "prices = input()\n",
    "for exchange_item in exchange.keys():\n",
    "    if prices[4:] == exchange_item:\n",
    "        print(exchange[exchange_item])\n",
    "    "
   ]
  },
  {
   "cell_type": "code",
   "execution_count": 38,
   "id": "e55b9123",
   "metadata": {},
   "outputs": [
    {
     "name": "stdout",
     "output_type": "stream",
     "text": [
      "200 위안\n",
      "34200 원\n"
     ]
    }
   ],
   "source": [
    "exchange = {'달러':1112, '위안':171, '엔':1010}   #딕셔너리와 for문을 사용하여 원화로 환율을 변경하는 코드\n",
    "prices = input()\n",
    "for exchange_item in exchange.keys():\n",
    "    if prices[4:] == exchange_item:\n",
    "        print(int(prices[:4]) * exchange[exchange_item], '원')"
   ]
  },
  {
   "cell_type": "code",
   "execution_count": 40,
   "id": "f9b3c41b",
   "metadata": {},
   "outputs": [
    {
     "name": "stdout",
     "output_type": "stream",
     "text": [
      "0\n",
      "1\n",
      "2\n",
      "3\n",
      "4\n",
      "5\n",
      "6\n",
      "7\n",
      "8\n",
      "9\n"
     ]
    }
   ],
   "source": [
    "for index in range(10):\n",
    "    print(index)"
   ]
  },
  {
   "cell_type": "code",
   "execution_count": 42,
   "id": "e1d7fd36",
   "metadata": {},
   "outputs": [
    {
     "name": "stdout",
     "output_type": "stream",
     "text": [
      "2\n",
      "3\n",
      "4\n",
      "5\n",
      "6\n",
      "7\n",
      "8\n",
      "9\n"
     ]
    }
   ],
   "source": [
    "for index in range(2, 10):\n",
    "    print(index)"
   ]
  },
  {
   "cell_type": "code",
   "execution_count": 45,
   "id": "f1b67f80",
   "metadata": {},
   "outputs": [
    {
     "name": "stdout",
     "output_type": "stream",
     "text": [
      "2 1\n",
      "2 2\n",
      "2 3\n",
      "2 4\n",
      "2 5\n",
      "2 6\n",
      "2 7\n",
      "2 8\n",
      "2 9\n",
      "3 1\n",
      "3 2\n",
      "3 3\n",
      "3 4\n",
      "3 5\n",
      "3 6\n",
      "3 7\n",
      "3 8\n",
      "3 9\n",
      "4 1\n",
      "4 2\n",
      "4 3\n",
      "4 4\n",
      "4 5\n",
      "4 6\n",
      "4 7\n",
      "4 8\n",
      "4 9\n",
      "5 1\n",
      "5 2\n",
      "5 3\n",
      "5 4\n",
      "5 5\n",
      "5 6\n",
      "5 7\n",
      "5 8\n",
      "5 9\n",
      "6 1\n",
      "6 2\n",
      "6 3\n",
      "6 4\n",
      "6 5\n",
      "6 6\n",
      "6 7\n",
      "6 8\n",
      "6 9\n",
      "7 1\n",
      "7 2\n",
      "7 3\n",
      "7 4\n",
      "7 5\n",
      "7 6\n",
      "7 7\n",
      "7 8\n",
      "7 9\n",
      "8 1\n",
      "8 2\n",
      "8 3\n",
      "8 4\n",
      "8 5\n",
      "8 6\n",
      "8 7\n",
      "8 8\n",
      "8 9\n",
      "9 1\n",
      "9 2\n",
      "9 3\n",
      "9 4\n",
      "9 5\n",
      "9 6\n",
      "9 7\n",
      "9 8\n",
      "9 9\n"
     ]
    }
   ],
   "source": [
    "for index in range(2, 10):\n",
    "    for index2 in range(1,10):\n",
    "        print(index, index2)"
   ]
  },
  {
   "cell_type": "code",
   "execution_count": 59,
   "id": "79a90551",
   "metadata": {},
   "outputs": [
    {
     "name": "stdout",
     "output_type": "stream",
     "text": [
      "곱셈 결과 짝수인 경우\n",
      "------\n",
      "2 단\n",
      "------\n",
      "2 * 1 = 2\n",
      "2 * 2 = 4\n",
      "2 * 3 = 6\n",
      "2 * 4 = 8\n",
      "2 * 5 = 10\n",
      "2 * 6 = 12\n",
      "2 * 7 = 14\n",
      "2 * 8 = 16\n",
      "2 * 9 = 18\n",
      "------\n",
      "\n",
      "\n",
      "3 단\n",
      "------\n",
      "3 * 2 = 6\n",
      "3 * 4 = 12\n",
      "3 * 6 = 18\n",
      "3 * 8 = 24\n",
      "------\n",
      "\n",
      "\n",
      "4 단\n",
      "------\n",
      "4 * 1 = 4\n",
      "4 * 2 = 8\n",
      "4 * 3 = 12\n",
      "4 * 4 = 16\n",
      "4 * 5 = 20\n",
      "4 * 6 = 24\n",
      "4 * 7 = 28\n",
      "4 * 8 = 32\n",
      "4 * 9 = 36\n",
      "------\n",
      "\n",
      "\n",
      "5 단\n",
      "------\n",
      "5 * 2 = 10\n",
      "5 * 4 = 20\n",
      "5 * 6 = 30\n",
      "5 * 8 = 40\n",
      "------\n",
      "\n",
      "\n",
      "6 단\n",
      "------\n",
      "6 * 1 = 6\n",
      "6 * 2 = 12\n",
      "6 * 3 = 18\n",
      "6 * 4 = 24\n",
      "6 * 5 = 30\n",
      "6 * 6 = 36\n",
      "6 * 7 = 42\n",
      "6 * 8 = 48\n",
      "6 * 9 = 54\n",
      "------\n",
      "\n",
      "\n",
      "7 단\n",
      "------\n",
      "7 * 2 = 14\n",
      "7 * 4 = 28\n",
      "7 * 6 = 42\n",
      "7 * 8 = 56\n",
      "------\n",
      "\n",
      "\n",
      "8 단\n",
      "------\n",
      "8 * 1 = 8\n",
      "8 * 2 = 16\n",
      "8 * 3 = 24\n",
      "8 * 4 = 32\n",
      "8 * 5 = 40\n",
      "8 * 6 = 48\n",
      "8 * 7 = 56\n",
      "8 * 8 = 64\n",
      "8 * 9 = 72\n",
      "------\n",
      "\n",
      "\n",
      "9 단\n",
      "------\n",
      "9 * 2 = 18\n",
      "9 * 4 = 36\n",
      "9 * 6 = 54\n",
      "9 * 8 = 72\n",
      "------\n",
      "\n",
      "\n"
     ]
    }
   ],
   "source": [
    "print(\"곱셈 결과 짝수인 경우\")\n",
    "print(\"------\")\n",
    "for index in range(2, 10):\n",
    "    print(index, \"단\")\n",
    "    print(\"------\")\n",
    "    for index2 in range(1,10):\n",
    "        total = index*index2\n",
    "        if total % 2 == 0:  #곱셈 결과가 짝수인 경우만 출력\n",
    "            print(index,'*', index2, '=', total)\n",
    "    print(\"------\")\n",
    "    print(\"\\n\")"
   ]
  },
  {
   "cell_type": "code",
   "execution_count": 60,
   "id": "70e3b91c",
   "metadata": {},
   "outputs": [
    {
     "name": "stdout",
     "output_type": "stream",
     "text": [
      "곱셈 결과 홀수인 경우\n",
      "------\n",
      "2 단\n",
      "------\n",
      "------\n",
      "\n",
      "\n",
      "3 단\n",
      "------\n",
      "3 * 1 = 3\n",
      "3 * 3 = 9\n",
      "3 * 5 = 15\n",
      "3 * 7 = 21\n",
      "3 * 9 = 27\n",
      "------\n",
      "\n",
      "\n",
      "4 단\n",
      "------\n",
      "------\n",
      "\n",
      "\n",
      "5 단\n",
      "------\n",
      "5 * 1 = 5\n",
      "5 * 3 = 15\n",
      "5 * 5 = 25\n",
      "5 * 7 = 35\n",
      "5 * 9 = 45\n",
      "------\n",
      "\n",
      "\n",
      "6 단\n",
      "------\n",
      "------\n",
      "\n",
      "\n",
      "7 단\n",
      "------\n",
      "7 * 1 = 7\n",
      "7 * 3 = 21\n",
      "7 * 5 = 35\n",
      "7 * 7 = 49\n",
      "7 * 9 = 63\n",
      "------\n",
      "\n",
      "\n",
      "8 단\n",
      "------\n",
      "------\n",
      "\n",
      "\n",
      "9 단\n",
      "------\n",
      "9 * 1 = 9\n",
      "9 * 3 = 27\n",
      "9 * 5 = 45\n",
      "9 * 7 = 63\n",
      "9 * 9 = 81\n",
      "------\n",
      "\n",
      "\n"
     ]
    }
   ],
   "source": [
    "print(\"곱셈 결과 홀수인 경우\")\n",
    "print(\"------\")\n",
    "for index in range(2, 10):\n",
    "    print(index, \"단\")\n",
    "    print(\"------\")\n",
    "    for index2 in range(1,10):\n",
    "        total = index*index2\n",
    "        if total % 2 == 1:  #곱셈 결과가 짝수인 경우만 출력\n",
    "            print(index,'*', index2, '=', total)\n",
    "    print(\"------\")\n",
    "    print(\"\\n\")"
   ]
  },
  {
   "cell_type": "code",
   "execution_count": 58,
   "id": "1de083ed",
   "metadata": {},
   "outputs": [
    {
     "name": "stdout",
     "output_type": "stream",
     "text": [
      "6209동 101호\n",
      "6209동 102호\n",
      "6209동 103호\n",
      "6209동 104호\n",
      "\n",
      "\n",
      "6208동 101호\n",
      "6208동 102호\n",
      "6208동 103호\n",
      "6208동 104호\n",
      "\n",
      "\n",
      "6207동 101호\n",
      "6207동 102호\n",
      "6207동 103호\n",
      "6207동 104호\n",
      "\n",
      "\n"
     ]
    }
   ],
   "source": [
    "dongs = [\"6209동\", \"6208동\", \"6207동\"]\n",
    "hos= [\"101호\", \"102호\", \"103호\", \"104호\"]\n",
    "\n",
    "for dong in dongs:\n",
    "    for ho in hos:\n",
    "        print(dong, ho)\n",
    "    print(\"\\n\")"
   ]
  }
 ],
 "metadata": {
  "kernelspec": {
   "display_name": "Python 3 (ipykernel)",
   "language": "python",
   "name": "python3"
  },
  "language_info": {
   "codemirror_mode": {
    "name": "ipython",
    "version": 3
   },
   "file_extension": ".py",
   "mimetype": "text/x-python",
   "name": "python",
   "nbconvert_exporter": "python",
   "pygments_lexer": "ipython3",
   "version": "3.9.7"
  }
 },
 "nbformat": 4,
 "nbformat_minor": 5
}
