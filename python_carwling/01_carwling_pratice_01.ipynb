{
 "cells": [
  {
   "cell_type": "markdown",
   "metadata": {},
   "source": [
    "## 필요 라이브러리\n",
    "\n",
    "- requests\n",
    "    - 웹페이지 가져오기 라이브러리\n",
    "- bs4(BeautifulSoup)\n",
    "    - 웹페이지 분석(크롤링) 라이브러리"
   ]
  },
  {
   "cell_type": "markdown",
   "metadata": {},
   "source": [
    "## 크롤링 예제1"
   ]
  },
  {
   "cell_type": "code",
   "execution_count": 1,
   "metadata": {},
   "outputs": [
    {
     "name": "stdout",
     "output_type": "stream",
     "text": [
      "네이버 부동산 :: 내집마련의 시작, 네이버 부동산\n"
     ]
    }
   ],
   "source": [
    "import requests #라이브러리 임포트\n",
    "from bs4 import BeautifulSoup\n",
    "res = requests.get('https://auction1.land.naver.com/auction/ca_list.php?si=29&state=91&order=602') #웹페이지 가져오기\n",
    "soup = BeautifulSoup(res.content, 'html.parser') #웹페이지 파싱하기\n",
    "mydata = soup.find('title') #필요한 데이터(타이틀) 추출\n",
    "\n",
    "print(mydata.get_text()) #추출 데이터 활용하기\n"
   ]
  }
 ],
 "metadata": {
  "kernelspec": {
   "display_name": "Python 3.9.13 ('base')",
   "language": "python",
   "name": "python3"
  },
  "language_info": {
   "codemirror_mode": {
    "name": "ipython",
    "version": 3
   },
   "file_extension": ".py",
   "mimetype": "text/x-python",
   "name": "python",
   "nbconvert_exporter": "python",
   "pygments_lexer": "ipython3",
   "version": "3.9.13"
  },
  "orig_nbformat": 4,
  "vscode": {
   "interpreter": {
    "hash": "1a78b5adbb636a1457b0c5d4cfcb2ac4d0cae006dda14d7173991df069a98825"
   }
  }
 },
 "nbformat": 4,
 "nbformat_minor": 2
}
