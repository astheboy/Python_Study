{
 "cells": [
  {
   "cell_type": "code",
   "execution_count": 44,
   "metadata": {},
   "outputs": [
    {
     "name": "stdout",
     "output_type": "stream",
     "text": [
      "Requirement already satisfied: openai==0.28 in /Users/hanseungryun/.local/share/virtualenvs/python_project-adx53-jm/lib/python3.11/site-packages (0.28.0)\n",
      "Requirement already satisfied: requests>=2.20 in /Users/hanseungryun/.local/share/virtualenvs/python_project-adx53-jm/lib/python3.11/site-packages (from openai==0.28) (2.31.0)\n",
      "Requirement already satisfied: tqdm in /Users/hanseungryun/.local/share/virtualenvs/python_project-adx53-jm/lib/python3.11/site-packages (from openai==0.28) (4.66.1)\n",
      "Requirement already satisfied: aiohttp in /Users/hanseungryun/.local/share/virtualenvs/python_project-adx53-jm/lib/python3.11/site-packages (from openai==0.28) (3.9.1)\n",
      "Requirement already satisfied: charset-normalizer<4,>=2 in /Users/hanseungryun/.local/share/virtualenvs/python_project-adx53-jm/lib/python3.11/site-packages (from requests>=2.20->openai==0.28) (3.3.2)\n",
      "Requirement already satisfied: idna<4,>=2.5 in /Users/hanseungryun/.local/share/virtualenvs/python_project-adx53-jm/lib/python3.11/site-packages (from requests>=2.20->openai==0.28) (3.6)\n",
      "Requirement already satisfied: urllib3<3,>=1.21.1 in /Users/hanseungryun/.local/share/virtualenvs/python_project-adx53-jm/lib/python3.11/site-packages (from requests>=2.20->openai==0.28) (2.1.0)\n",
      "Requirement already satisfied: certifi>=2017.4.17 in /Users/hanseungryun/.local/share/virtualenvs/python_project-adx53-jm/lib/python3.11/site-packages (from requests>=2.20->openai==0.28) (2023.11.17)\n",
      "Requirement already satisfied: attrs>=17.3.0 in /Users/hanseungryun/.local/share/virtualenvs/python_project-adx53-jm/lib/python3.11/site-packages (from aiohttp->openai==0.28) (23.1.0)\n",
      "Requirement already satisfied: multidict<7.0,>=4.5 in /Users/hanseungryun/.local/share/virtualenvs/python_project-adx53-jm/lib/python3.11/site-packages (from aiohttp->openai==0.28) (6.0.4)\n",
      "Requirement already satisfied: yarl<2.0,>=1.0 in /Users/hanseungryun/.local/share/virtualenvs/python_project-adx53-jm/lib/python3.11/site-packages (from aiohttp->openai==0.28) (1.9.4)\n",
      "Requirement already satisfied: frozenlist>=1.1.1 in /Users/hanseungryun/.local/share/virtualenvs/python_project-adx53-jm/lib/python3.11/site-packages (from aiohttp->openai==0.28) (1.4.0)\n",
      "Requirement already satisfied: aiosignal>=1.1.2 in /Users/hanseungryun/.local/share/virtualenvs/python_project-adx53-jm/lib/python3.11/site-packages (from aiohttp->openai==0.28) (1.3.1)\n",
      "Note: you may need to restart the kernel to use updated packages.\n"
     ]
    }
   ],
   "source": [
    "pip install openai==0.28"
   ]
  },
  {
   "cell_type": "code",
   "execution_count": 1,
   "metadata": {},
   "outputs": [],
   "source": [
    "import openai"
   ]
  },
  {
   "cell_type": "code",
   "execution_count": 2,
   "metadata": {},
   "outputs": [],
   "source": [
    "import json"
   ]
  },
  {
   "cell_type": "code",
   "execution_count": 3,
   "metadata": {},
   "outputs": [
    {
     "name": "stdout",
     "output_type": "stream",
     "text": [
      "Requirement already satisfied: python-dotenv in /Users/hanseungryun/.local/share/virtualenvs/python_project-adx53-jm/lib/python3.11/site-packages (1.0.0)\n",
      "Note: you may need to restart the kernel to use updated packages.\n"
     ]
    }
   ],
   "source": [
    "pip install python-dotenv"
   ]
  },
  {
   "cell_type": "code",
   "execution_count": 4,
   "metadata": {},
   "outputs": [],
   "source": [
    "from dotenv import dotenv_values"
   ]
  },
  {
   "cell_type": "code",
   "execution_count": 5,
   "metadata": {},
   "outputs": [],
   "source": [
    "config = dotenv_values(\".env\")"
   ]
  },
  {
   "cell_type": "code",
   "execution_count": 6,
   "metadata": {},
   "outputs": [],
   "source": [
    "openai.api_key = config[\"OPENAI_API_KEY\"]"
   ]
  },
  {
   "cell_type": "code",
   "execution_count": 47,
   "metadata": {},
   "outputs": [],
   "source": [
    "from IPython.display import Markdown, display\n",
    "\n",
    "def display_colors(colors):\n",
    "    display(Markdown('<h1>Color Palette</h1>'))\n",
    "    \n",
    "    display(Markdown(\"  \".join(\n",
    "        f\"<span style='color: {color}'>{chr(9607) * 4}</span>\"\n",
    "        for color in colors\n",
    "    )))\n",
    "    \n"
   ]
  },
  {
   "cell_type": "code",
   "execution_count": 48,
   "metadata": {},
   "outputs": [],
   "source": [
    "def get_and_render_colors(msg): \n",
    "    prompt = f\"\"\"\n",
    "    당신은 색상 팔레트 출력 보조자입니다. 아래의 text에 대한 색상 팔레트를 읽고 어울리는 색을 만들어 주세요.\n",
    "    당신은 주제, 분위기, 지시에 맞는 색 팔레트를 생성해야 한다. 팔레트는 2에서 8개 사이여야 한다.\n",
    "\n",
    "    Q: 색상표에 대한 다음 구두 설명을 색상 목록으로 변환합니다: 바다의 모습\n",
    "    A: [\"#909baf\", \"#2e6f95\", \"#5f9d98\",\"#f8cc5a\", \"#3c8f76\"]\n",
    "\n",
    "    Q: 색상표에 대한 다음 구두 설명을 색상 목록으로 변환합니다: 가을 단풍, 가을 나뭇잎\n",
    "    A: [\"#23000E\", \"#E7972D\", \"#E4c8a1\",\"#f3bf19\", \"#e15024\", \"#5e1c20\"]\n",
    "\n",
    "    출력형식 : 16진수 색상 코드의 JSON 배열\n",
    "\n",
    "    Q: 색상표에 대한 다음 구두 설명을 색상 목록으로 변환합니다: {msg}\n",
    "    A: \n",
    "\n",
    "    \"\"\"\n",
    "    response = openai.Completion.create(\n",
    "        prompt=prompt,\n",
    "        model=\"text-davinci-003\",\n",
    "        max_tokens=200,\n",
    "    )\n",
    "\n",
    "    colors = json.loads(response[\"choices\"][0][\"text\"])\n",
    "    print(colors)\n",
    "    print(colors[1])\n",
    "    display_colors(colors)\n"
   ]
  },
  {
   "cell_type": "code",
   "execution_count": 51,
   "metadata": {},
   "outputs": [
    {
     "name": "stdout",
     "output_type": "stream",
     "text": [
      "['#67395d', '#a4babd', '#467f44', '#fabbf7', '#6894e4', '#d9b08c', '#7e4f5a']\n",
      "#a4babd\n"
     ]
    },
    {
     "data": {
      "text/markdown": [
       "<h1>Color Pallete</h1>"
      ],
      "text/plain": [
       "<IPython.core.display.Markdown object>"
      ]
     },
     "metadata": {},
     "output_type": "display_data"
    },
    {
     "data": {
      "text/markdown": [
       "<span style='color: #67395d'>▇▇▇▇</span>  <span style='color: #a4babd'>▇▇▇▇</span>  <span style='color: #467f44'>▇▇▇▇</span>  <span style='color: #fabbf7'>▇▇▇▇</span>  <span style='color: #6894e4'>▇▇▇▇</span>  <span style='color: #d9b08c'>▇▇▇▇</span>  <span style='color: #7e4f5a'>▇▇▇▇</span>"
      ],
      "text/plain": [
       "<IPython.core.display.Markdown object>"
      ]
     },
     "metadata": {},
     "output_type": "display_data"
    }
   ],
   "source": [
    "get_and_render_colors(\"풍요로운 들판\")"
   ]
  },
  {
   "cell_type": "code",
   "execution_count": null,
   "metadata": {},
   "outputs": [],
   "source": []
  },
  {
   "cell_type": "code",
   "execution_count": null,
   "metadata": {},
   "outputs": [],
   "source": []
  },
  {
   "cell_type": "code",
   "execution_count": null,
   "metadata": {},
   "outputs": [],
   "source": []
  },
  {
   "cell_type": "code",
   "execution_count": null,
   "metadata": {},
   "outputs": [],
   "source": []
  },
  {
   "cell_type": "code",
   "execution_count": null,
   "metadata": {},
   "outputs": [],
   "source": []
  },
  {
   "cell_type": "code",
   "execution_count": null,
   "metadata": {},
   "outputs": [],
   "source": []
  },
  {
   "cell_type": "code",
   "execution_count": null,
   "metadata": {},
   "outputs": [],
   "source": []
  },
  {
   "cell_type": "code",
   "execution_count": null,
   "metadata": {},
   "outputs": [],
   "source": []
  },
  {
   "cell_type": "code",
   "execution_count": null,
   "metadata": {},
   "outputs": [],
   "source": []
  },
  {
   "cell_type": "code",
   "execution_count": null,
   "metadata": {},
   "outputs": [],
   "source": []
  },
  {
   "cell_type": "code",
   "execution_count": null,
   "metadata": {},
   "outputs": [],
   "source": []
  },
  {
   "cell_type": "code",
   "execution_count": null,
   "metadata": {},
   "outputs": [],
   "source": []
  },
  {
   "cell_type": "code",
   "execution_count": null,
   "metadata": {},
   "outputs": [],
   "source": []
  },
  {
   "cell_type": "code",
   "execution_count": null,
   "metadata": {},
   "outputs": [],
   "source": []
  },
  {
   "cell_type": "code",
   "execution_count": null,
   "metadata": {},
   "outputs": [],
   "source": []
  },
  {
   "cell_type": "code",
   "execution_count": null,
   "metadata": {},
   "outputs": [],
   "source": []
  },
  {
   "cell_type": "code",
   "execution_count": null,
   "metadata": {},
   "outputs": [],
   "source": []
  },
  {
   "cell_type": "code",
   "execution_count": null,
   "metadata": {},
   "outputs": [],
   "source": []
  }
 ],
 "metadata": {
  "kernelspec": {
   "display_name": "python_project-adx53-jm",
   "language": "python",
   "name": "python3"
  },
  "language_info": {
   "codemirror_mode": {
    "name": "ipython",
    "version": 3
   },
   "file_extension": ".py",
   "mimetype": "text/x-python",
   "name": "python",
   "nbconvert_exporter": "python",
   "pygments_lexer": "ipython3",
   "version": "3.11.3"
  }
 },
 "nbformat": 4,
 "nbformat_minor": 2
}
