{
 "cells": [
  {
   "cell_type": "markdown",
   "metadata": {},
   "source": [
    "## Reeborg's World를 활용한 파이썬 함수의 활용\n",
    "- 참고 사이트\n",
    "    - [함수 정의](https://docs.python.org/ko/3.9/tutorial/controlflow.html#defining-functions)\n",
    "    - [파이썬 표준 라이브러리](https://docs.python.org/ko/3.9/library/index.html?highlight=%EB%82%B4%EC%9E%A5%20%EB%9D%BC%EC%9D%B4%EB%B8%8C%EB%9F%AC%EB%A6%AC)\n",
    "    - [파이썬 내장 함수](https://docs.python.org/ko/3.9/library/functions.html)\n",
    "    \n"
   ]
  },
  {
   "cell_type": "markdown",
   "metadata": {},
   "source": [
    "## Reeborg's World 파이썬 코딩"
   ]
  },
  {
   "cell_type": "markdown",
   "metadata": {},
   "source": [
    "### 장애물 뛰어넘기 - for() 함수 사용\n",
    "- [장애물 뛰어넘기](https://reeborg.ca/reeborg.html?lang=en&mode=python&menu=worlds%2Fmenus%2Freeborg_intro_en.json&name=Hurdle%201&url=worlds%2Ftutorial_en%2Fhurdle1.json)\n",
    "\n",
    "![1차 프로그램 결과](https://cdn-std.droplr.net/files/acc_602408/NGH4IT)\n",
    "- 1차 프로그램\n",
    "\n",
    "```\n",
    "def turn_right():\n",
    "    turn_left()\n",
    "    turn_left()\n",
    "    turn_left()\n",
    "def jump_huddle():\n",
    "    move()\n",
    "    turn_left()\n",
    "    move()\n",
    "    turn_right()\n",
    "    move()\n",
    "    turn_right()\n",
    "    move()\n",
    "    turn_left()\n",
    "    \n",
    "for i in range(6):\n",
    "    jump_huddle()\n",
    "```\n",
    "![2차 프로그램 결과](https://cdn-std.droplr.net/files/acc_602408/8j1g4r)\n",
    "- 2차 프로그램\n",
    "```\n",
    "def turn_move_right():\n",
    "    move()\n",
    "    for i in range(3):\n",
    "        turn_left()\n",
    "def jump_huddle():\n",
    "    move()\n",
    "    turn_left()\n",
    "    turn_move_right()\n",
    "    turn_move_right()\n",
    "    move()\n",
    "    turn_left()\n",
    "    \n",
    "for i in range(6):\n",
    "    jump_huddle()\n",
    "\n",
    "```"
   ]
  },
  {
   "cell_type": "markdown",
   "metadata": {},
   "source": [
    "### 장애물 뛰어넘기 - while()함수 사용\n",
    "\n",
    "![결과](https://cdn-std.droplr.net/files/acc_602408/RzYBnf)\n",
    "\n",
    "프로그램 결과\n",
    "```\n",
    "def turn_move_right():\n",
    "    move()\n",
    "    for i in range(3):\n",
    "        turn_left()\n",
    "def jump_huddle():\n",
    "    move()\n",
    "    turn_left()\n",
    "    turn_move_right()\n",
    "    turn_move_right()\n",
    "    move()\n",
    "    turn_left()\n",
    "    \n",
    "while at_goal() != True :\n",
    "    jump_huddle()\n",
    "\n",
    "# while not at_goa():\n",
    "#    jump_huddle()\n",
    "```"
   ]
  },
  {
   "cell_type": "markdown",
   "metadata": {},
   "source": [
    "### 랜덤 장애물 뛰어넘기 - While()함수 사용"
   ]
  },
  {
   "cell_type": "markdown",
   "metadata": {},
   "source": [
    "![https://cdn-std.droplr.net/files/acc_602408/HRzGgh](https://cdn-std.droplr.net/files/acc_602408/HRzGgh)"
   ]
  },
  {
   "cell_type": "markdown",
   "metadata": {},
   "source": [
    "프로그램 결과\n",
    "\n",
    "```\n",
    "def turn_move_right():\n",
    "    move()\n",
    "    for i in range(3):\n",
    "        turn_left()\n",
    "def jump_huddle():\n",
    "    turn_left()\n",
    "    turn_move_right()\n",
    "    turn_move_right()\n",
    "    move()\n",
    "    turn_left()\n",
    "\n",
    "while at_goal() != True :\n",
    "    move()\n",
    "    while wall_in_front() == True :\n",
    "      jump_huddle()\n",
    "\n",
    "#while not at_goal():\n",
    "#    if wall_in_front():\n",
    "#        jump_huddle():\n",
    "#    else:\n",
    "#        move()\n",
    "```"
   ]
  },
  {
   "cell_type": "markdown",
   "metadata": {},
   "source": [
    "### 다양한 높이의 장애물 뛰어넘기"
   ]
  },
  {
   "cell_type": "markdown",
   "metadata": {},
   "source": [
    "![결과물](https://cdn-std.droplr.net/files/acc_602408/X6eaQg)"
   ]
  },
  {
   "cell_type": "markdown",
   "metadata": {},
   "source": [
    "프로그램 결과\n",
    "\n",
    "```\n",
    "def turn_right():\n",
    "    for k in range(2):\n",
    "        for i in range(3):\n",
    "            turn_left()\n",
    "        move()\n",
    "        \n",
    "while at_goal() != True :\n",
    "    if wall_on_right():\n",
    "        if wall_in_front():\n",
    "            turn_left()\n",
    "        else:\n",
    "            move()\n",
    "    else:\n",
    "        turn_right()\n",
    "```\n"
   ]
  },
  {
   "cell_type": "markdown",
   "metadata": {},
   "source": [
    "### 미로탈출"
   ]
  },
  {
   "cell_type": "markdown",
   "metadata": {},
   "source": [
    "![결과사진](https://cdn-std.droplr.net/files/acc_602408/BVPkCD)"
   ]
  },
  {
   "cell_type": "markdown",
   "metadata": {},
   "source": [
    "프로그램 결과(1차)\n",
    "\n",
    "```\n",
    "def turn_right():\n",
    "    for i in range(3):\n",
    "        turn_left()\n",
    "    move()\n",
    "        \n",
    "while at_goal() != True :\n",
    "    if wall_on_right():\n",
    "        if wall_in_front():\n",
    "            turn_left()\n",
    "        else:\n",
    "            move()\n",
    "    else:\n",
    "        turn_right()\n",
    "```"
   ]
  },
  {
   "cell_type": "markdown",
   "metadata": {},
   "source": [
    "프로그램 결과(2차 - 앞쪽과  오른쪽에 벽이 없을 때)\n",
    "```\n",
    "def turn_right():\n",
    "    for i in range(3):\n",
    "        turn_left()\n",
    "    move()\n",
    "        \n",
    "while at_goal() != True :\n",
    "    if wall_on_right():\n",
    "        if wall_in_front():\n",
    "            turn_left()\n",
    "        elif front_is_clear():\n",
    "            move()\n",
    "        else:\n",
    "            move()\n",
    "    else:\n",
    "        turn_right()\n",
    "```"
   ]
  }
 ],
 "metadata": {
  "kernelspec": {
   "display_name": "Python 3 (ipykernel)",
   "language": "python",
   "name": "python3"
  },
  "language_info": {
   "codemirror_mode": {
    "name": "ipython",
    "version": 3
   },
   "file_extension": ".py",
   "mimetype": "text/x-python",
   "name": "python",
   "nbconvert_exporter": "python",
   "pygments_lexer": "ipython3",
   "version": "3.9.13"
  },
  "vscode": {
   "interpreter": {
    "hash": "1a78b5adbb636a1457b0c5d4cfcb2ac4d0cae006dda14d7173991df069a98825"
   }
  }
 },
 "nbformat": 4,
 "nbformat_minor": 2
}
