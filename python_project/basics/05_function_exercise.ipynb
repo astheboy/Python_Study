{
 "cells": [
  {
   "cell_type": "markdown",
   "metadata": {},
   "source": [
    "### 함수 연습 문제1\n",
    "문제) Fun Coding 을 출력하는 funcoding() 함수를 만들어보고, 호출해보세요."
   ]
  },
  {
   "cell_type": "code",
   "execution_count": 14,
   "metadata": {},
   "outputs": [
    {
     "name": "stdout",
     "output_type": "stream",
     "text": [
      "상상 코더\n"
     ]
    }
   ],
   "source": [
    "def funcoding(data):\n",
    "    print (data)\n",
    "\n",
    "data = input()\n",
    "funcoding(data)"
   ]
  },
  {
   "cell_type": "markdown",
   "metadata": {},
   "source": [
    "---"
   ]
  },
  {
   "cell_type": "markdown",
   "metadata": {
    "collapsed": true
   },
   "source": [
    "### 함수 연습 문제2\n",
    "임의의 문자열을 넣으면 해당 문자열을 출력하는 funcoding() 함수를 만들어보고, 호출해보세요.\n",
    "```python\n",
    "출력 예:\n",
    "funcoding(\"Fun Coding\")\n",
    "\n",
    "Fun Coding\n",
    "```\n"
   ]
  },
  {
   "cell_type": "code",
   "execution_count": 3,
   "metadata": {},
   "outputs": [
    {
     "name": "stdout",
     "output_type": "stream",
     "text": [
      "상상 코더\n"
     ]
    }
   ],
   "source": [
    "def funcoding(argument1):\n",
    "    print (argument1)\n",
    "\n",
    "funcoding(\"상상 코더\")"
   ]
  },
  {
   "cell_type": "markdown",
   "metadata": {},
   "source": [
    "---"
   ]
  },
  {
   "cell_type": "markdown",
   "metadata": {},
   "source": [
    "### 함수 연습 문제3\n",
    "임의의 세 개의 숫자를 인자로 넣으면 세 숫자를 더한 값을 출력해주는 함수를 만들어보고, 호출해보세요.\n",
    "```python\n",
    "출력 예:\n",
    "plus(1, 2, 3)\n",
    "\n",
    "6\n",
    "```"
   ]
  },
  {
   "cell_type": "code",
   "execution_count": 5,
   "metadata": {},
   "outputs": [
    {
     "name": "stdout",
     "output_type": "stream",
     "text": [
      "6\n"
     ]
    }
   ],
   "source": [
    "def plus(num1, num2, num3):\n",
    "    print(num1 + num2+ num3)\n",
    "\n",
    "plus(1,2,3)"
   ]
  },
  {
   "cell_type": "markdown",
   "metadata": {},
   "source": [
    "---"
   ]
  },
  {
   "cell_type": "markdown",
   "metadata": {},
   "source": [
    "### 함수 연습 문제4\n",
    "임의의 두 개의 숫자를 인자로 넣으면 두 개의 숫자를 곱한 값을 리턴해주는 함수를 만들어보고, 특정 변수에 해당 리턴값을 넣고, 호출해보세요.\n",
    "```python\n",
    "출력 예:\n",
    "data = multiply(2, 3)\n",
    "print (data)\n",
    "\n",
    "6\n",
    "```"
   ]
  },
  {
   "cell_type": "code",
   "execution_count": 12,
   "metadata": {},
   "outputs": [
    {
     "name": "stdout",
     "output_type": "stream",
     "text": [
      "입력한 첫 번째 숫자는: 59\n",
      "입력한 두 번째 숫자는: 62\n",
      "두 수의 곱셈 결과: 59 * 62 = 3658\n"
     ]
    }
   ],
   "source": [
    "def multiply(num1, num2):\n",
    "    total = int(num1 * num2)\n",
    "    print(\"입력한 첫 번째 숫자는:\" , num1)\n",
    "    print(\"입력한 두 번째 숫자는:\" , num2)\n",
    "    print(\"두 수의 곱셈 결과:\", num1, \"*\", num2, \"=\", total)\n",
    "    \n",
    "num1 = int(input(\"첫 번째 숫자를 입력해 주세요.\"))\n",
    "num2 = int(input(\"두 번째 숫자를 입력해 주세요.\"))\n",
    "\n",
    "multiply(num1, num2)"
   ]
  },
  {
   "cell_type": "markdown",
   "metadata": {},
   "source": [
    "---"
   ]
  },
  {
   "cell_type": "markdown",
   "metadata": {},
   "source": [
    "\n",
    "### 함수 연습 문제5\n",
    "사칙연산을 지원하는 함수를 다음과 같이 만들고, 특정 변수에 해당 리턴값을 넣고, 호출해보세요.\n",
    "\n",
    "```python\n",
    "첫번째 인자: 숫자\n",
    "두번째 인자: 숫자\n",
    "세번째 인자: \"*\" 또는 \"+\"\n",
    "\n",
    "세번째 인자에 따라 첫번째 인자와 두번째 인자를 곱하거나, 더한 값을 리턴\n",
    "만약, 세번째 인자가 \"*\" 또는 \"+\" 가 아니라면, 0을 리턴\n",
    "출력 예1:\n",
    "data = cal(2, 3, \"*\")\n",
    "print (data)\n",
    "\n",
    "6\n",
    "\n",
    "출력 예2:\n",
    "data = cal(2, 3, \"+\")\n",
    "print (data)\n",
    "\n",
    "5\n",
    "\n",
    "출력 예3:\n",
    "data = cal(2, 3, \"-\")\n",
    "print (data)\n",
    "\n",
    "0\n",
    "```"
   ]
  },
  {
   "cell_type": "code",
   "execution_count": 18,
   "metadata": {},
   "outputs": [
    {
     "name": "stdout",
     "output_type": "stream",
     "text": [
      "입력한 첫 번째 숫자는: 55\n",
      "입력한 두 번째 숫자는: 98\n",
      "계산할 연산자 : +\n",
      "두 수의 덧셈의 결과: 153\n"
     ]
    }
   ],
   "source": [
    "def cal(a, b, c):\n",
    "    print(\"입력한 첫 번째 숫자는:\" , a)\n",
    "    print(\"입력한 두 번째 숫자는:\" , b)\n",
    "    print(\"선택 연산자 :\", c)\n",
    "    if c == \"+\" : \n",
    "        sum = int(a + b)\n",
    "        print(\"두 수의 덧셈의 결과:\", sum)\n",
    "    elif c == \"*\" :\n",
    "        multiply = int(a * b)\n",
    "        print(\"두 수의 곱셈 결과는:\", multiply)\n",
    "    else :\n",
    "        print(\"올바른 연산자를 입력해 주세요\")\n",
    "    \n",
    "    \n",
    "    \n",
    "a = int(input(\"첫 번째 숫자를 입력해 주세요.\"))\n",
    "b = int(input(\"두 번째 숫자를 입력해 주세요.\"))\n",
    "c = str(input(\"계산할 두 연산자를 입력해 주세요( + , *)\"))\n",
    "\n",
    "cal(a, b, c)\n"
   ]
  },
  {
   "cell_type": "markdown",
   "metadata": {},
   "source": [
    "---"
   ]
  },
  {
   "cell_type": "markdown",
   "metadata": {},
   "source": [
    "### 함수 연습 문제6\n",
    "\n",
    "문제5에서 작성한 함수에 사칙연산 기능을 \"-\" (빼기) 와 \"/\" (나누기) 도 지원하도록 추가해서, 호출해보세요.<br>\n",
    "단, \"/\" 일 경우, 두번째 인자가 0이면, -1 을 리턴하도록 작성하세요."
   ]
  },
  {
   "cell_type": "code",
   "execution_count": 19,
   "metadata": {},
   "outputs": [
    {
     "name": "stdout",
     "output_type": "stream",
     "text": [
      "입력한 첫 번째 숫자는: 60\n",
      "입력한 두 번째 숫자는: 0\n",
      "선택 연산자 : /\n",
      "-1\n"
     ]
    }
   ],
   "source": [
    "def cal(a, b, c):\n",
    "    print(\"입력한 첫 번째 숫자는:\" , a)\n",
    "    print(\"입력한 두 번째 숫자는:\" , b)\n",
    "    print(\"선택 연산자 :\", c)\n",
    "    if c == \"+\" : \n",
    "        sum = int(a + b)\n",
    "        print(\"두 수의 덧셈의 결과:\", sum)\n",
    "    elif c == \"-\" :\n",
    "        subtract = int(a - b)\n",
    "        print(\"두 수의 뺄셈 결과는:\", subtract)    \n",
    "    elif c == \"*\" :\n",
    "        multiply = int(a * b)\n",
    "        print(\"두 수의 곱셈 결과는:\", multiply)\n",
    "    elif c == \"/\" and b != 0 :\n",
    "        multiply = int(a / b)\n",
    "        print(\"두 수의 나눗셈 결과는:\", multiply)\n",
    "    else :\n",
    "        print(\"-1\")\n",
    "    \n",
    "    \n",
    "    \n",
    "a = int(input(\"첫 번째 숫자를 입력해 주세요.\"))\n",
    "b = int(input(\"두 번째 숫자를 입력해 주세요.\"))\n",
    "c = str(input(\"계산할 연산자를 입력해 주세요( + , -, *, /)\"))\n",
    "\n",
    "cal(a, b, c)"
   ]
  },
  {
   "cell_type": "markdown",
   "metadata": {},
   "source": [
    "---"
   ]
  },
  {
   "cell_type": "markdown",
   "metadata": {},
   "source": [
    "### 함수 연습 문제7\n",
    "다음과 같은 기능을 하는 함수를 작성하고, 호출해보세요.\n",
    "```python\n",
    "첫번째 인자: 문자열\n",
    "두번째 인자: 숫자\n",
    "리턴값: 문자열을 숫자만큼 넣은 리스트\n",
    "출력 예1:\n",
    "print_string(\"Fun\", 3)\n",
    "\n",
    "[\"Fun\", \"Fun\", \"Fun\"]\n",
    "```"
   ]
  },
  {
   "cell_type": "code",
   "execution_count": 22,
   "metadata": {},
   "outputs": [
    {
     "name": "stdout",
     "output_type": "stream",
     "text": [
      "입력한 문자: 상상코더\n",
      "입력 횟수: 5\n",
      "['상상코더', '상상코더', '상상코더', '상상코더', '상상코더']\n"
     ]
    }
   ],
   "source": [
    "def print_string(a, b):\n",
    "    \n",
    "    print(\"입력한 문자:\", a)\n",
    "    print(\"입력 횟수:\", b)\n",
    "    \n",
    "    data = list()\n",
    "\n",
    "    for i in range(1, b+1):\n",
    "        data.append(a)\n",
    "    \n",
    "    print(data)\n",
    "\n",
    "a = str(input(\"리스트에 입력할 문자를 입력해주세요.\"))\n",
    "b = int(input(\"반복 입력할 횟수를 입력해 주세요\"))\n",
    "\n",
    "print_string(a,b)"
   ]
  }
 ],
 "metadata": {
  "kernelspec": {
   "display_name": "Python 3.9.13 ('base')",
   "language": "python",
   "name": "python3"
  },
  "language_info": {
   "codemirror_mode": {
    "name": "ipython",
    "version": 3
   },
   "file_extension": ".py",
   "mimetype": "text/x-python",
   "name": "python",
   "nbconvert_exporter": "python",
   "pygments_lexer": "ipython3",
   "version": "3.9.13"
  },
  "nbTranslate": {
   "displayLangs": [
    "*"
   ],
   "hotkey": "alt-t",
   "langInMainMenu": true,
   "sourceLang": "en",
   "targetLang": "fr",
   "useGoogleTranslate": true
  },
  "vscode": {
   "interpreter": {
    "hash": "1a78b5adbb636a1457b0c5d4cfcb2ac4d0cae006dda14d7173991df069a98825"
   }
  }
 },
 "nbformat": 4,
 "nbformat_minor": 2
}
