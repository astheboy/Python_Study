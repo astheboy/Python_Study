{
 "cells": [
  {
   "cell_type": "markdown",
   "metadata": {},
   "source": [
    "## 1. 파이썬 라이브러리"
   ]
  },
  {
   "cell_type": "markdown",
   "metadata": {},
   "source": [
    "### 라이브러리: 미리 만들어놓은 함수 집합, 이름이 있음"
   ]
  },
  {
   "cell_type": "markdown",
   "metadata": {},
   "source": [
    "### 예제: 지수승 구하기 (예: $3^3$) - 함수로 만들어보기"
   ]
  },
  {
   "cell_type": "code",
   "execution_count": 2,
   "metadata": {},
   "outputs": [
    {
     "data": {
      "text/plain": [
       "27"
      ]
     },
     "execution_count": 2,
     "metadata": {},
     "output_type": "execute_result"
    }
   ],
   "source": [
    "3 ** 3"
   ]
  },
  {
   "cell_type": "code",
   "execution_count": 1,
   "metadata": {},
   "outputs": [
    {
     "data": {
      "text/plain": [
       "387420489"
      ]
     },
     "execution_count": 1,
     "metadata": {},
     "output_type": "execute_result"
    }
   ],
   "source": [
    "9 ** 9"
   ]
  },
  {
   "cell_type": "markdown",
   "metadata": {},
   "source": [
    "### 임의의 숫자와 지수를 입력으로 받아서, 지수승 구하기"
   ]
  },
  {
   "cell_type": "code",
   "execution_count": 7,
   "metadata": {},
   "outputs": [
    {
     "name": "stdout",
     "output_type": "stream",
     "text": [
      "숫자: 5\n",
      "지수: 6\n",
      "5 의 6 지수승 결과: 15625\n"
     ]
    }
   ],
   "source": [
    "def exponential(digit, exponent):\n",
    "    value = digit ** exponent\n",
    "    return value\n",
    "\n",
    "a = int(input(\"지수를 구하고자 하는 숫자를 입력해 주세요.\"))\n",
    "b = int(input(\"계산 할 지수를 입력해 주세요.\"))\n",
    "\n",
    "print(\"숫자:\", a)\n",
    "print(\"지수:\", b)\n",
    "print(a,\"의\", b,\"지수승 결과:\", exponential(a, b))"
   ]
  },
  {
   "cell_type": "markdown",
   "metadata": {},
   "source": [
    "### 수학함수들을 모아놓은 라이브러리가 있음 - math 라이브러리\n",
    "* math 라이브러리에 pow 라는 이름으로 지수승을 계산해주는 함수를 구현해놓았음"
   ]
  },
  {
   "cell_type": "code",
   "execution_count": 8,
   "metadata": {},
   "outputs": [
    {
     "name": "stdout",
     "output_type": "stream",
     "text": [
      "27.0\n"
     ]
    }
   ],
   "source": [
    "import math\n",
    "num = math.pow(3, 3)\n",
    "print (num)"
   ]
  },
  {
   "cell_type": "code",
   "execution_count": 14,
   "metadata": {},
   "outputs": [
    {
     "name": "stdout",
     "output_type": "stream",
     "text": [
      "숫자: 5.0\n",
      "지수: 10.0\n",
      "5.0 의 10.0 지수승 결과: 9765625.0\n"
     ]
    }
   ],
   "source": [
    "import math\n",
    "num = math.pow(a, b)\n",
    "a = float(input(\"지수를 구하고자 하는 숫자를 입력해 주세요.\"))\n",
    "b = float(input(\"계산 할 지수를 입력해 주세요.\"))\n",
    "\n",
    "print(\"숫자:\", a)\n",
    "print(\"지수:\", b)\n",
    "print(a,\"의\", b,\"지수승 결과:\", num)"
   ]
  },
  {
   "cell_type": "markdown",
   "metadata": {},
   "source": [
    "* math 라이브러리에 factorial 라는 이름으로 펙토리얼 (예: 5! 는 1 x 2 x 3 x 4 x 5)을 계산해주는 함수를 구현해놓았음"
   ]
  },
  {
   "cell_type": "code",
   "execution_count": 15,
   "metadata": {},
   "outputs": [
    {
     "data": {
      "text/plain": [
       "120"
      ]
     },
     "execution_count": 15,
     "metadata": {},
     "output_type": "execute_result"
    }
   ],
   "source": [
    "math.factorial(5)"
   ]
  },
  {
   "cell_type": "markdown",
   "metadata": {},
   "source": [
    "### 얼마나 많은 함수들이 math 라이브러리에 있을까?\n",
    "* https://docs.python.org/3/library/math.html"
   ]
  },
  {
   "cell_type": "markdown",
   "metadata": {},
   "source": [
    "### 라이브러리 사용하기 - 기본 사용법1\n",
    "\n",
    "```\n",
    "import 라이브러리명\n",
    "\n",
    "라이브러리명.함수명()\n",
    "```"
   ]
  },
  {
   "cell_type": "markdown",
   "metadata": {},
   "source": [
    "### 예: math 라이브러리에 있는 factorial() 함수 사용하기\n",
    "\n",
    "```python\n",
    "import math\n",
    "\n",
    "math.factorial(5)\n",
    "```\n",
    "\n",
    "* 해당 라이브러리에 있는 함수를 사용하기 위해서는 해당 라이브러리명.함수명으로 써야 함\n",
    "  - math.factorial(5): math 라이브러리에 있는 factorial() 함수를 사용"
   ]
  },
  {
   "cell_type": "code",
   "execution_count": 16,
   "metadata": {},
   "outputs": [
    {
     "name": "stdout",
     "output_type": "stream",
     "text": [
      "120\n"
     ]
    }
   ],
   "source": [
    "import math\n",
    "\n",
    "print (math.factorial(5))"
   ]
  },
  {
   "cell_type": "markdown",
   "metadata": {},
   "source": [
    "### 라이브러리 사용하기 - 기본 사용법2\n",
    "* 라이브러리에서 일부 함수만 라이브러리 \n",
    "함수만을 불러 사용하기 위해서는 다음과 같이 from 라이브러명 import 함수명 으로 사용\n",
    "* 마치 해당 함수를 현재 코드 상단에 선언한 것과 마찬가지가 됨\n",
    "  - 라이브러리명.함수명 으로 쓰지 않고 함수명만 쓰면 됨"
   ]
  },
  {
   "cell_type": "code",
   "execution_count": 18,
   "metadata": {},
   "outputs": [
    {
     "name": "stdout",
     "output_type": "stream",
     "text": [
      "2.23606797749979\n",
      "120\n"
     ]
    }
   ],
   "source": [
    "# math 라이브러리에 있는 함수 중, sqrt, factorial 함수만 import\n",
    "from math import sqrt, factorial  #사용하고자 하는 함수 모두 호출\n",
    "\n",
    "num = sqrt(5) #제곱근 #여러개를 호출하면 라이브러리.함수 형태로 호출하지 않아도 됨. 위에서 라이브러리를 선언했기 때문에 함수를 바로 사용 가능\n",
    "print (num)\n",
    "num2 = factorial(5) #팩토리얼\n",
    "print (num2)"
   ]
  },
  {
   "cell_type": "markdown",
   "metadata": {},
   "source": [
    "### 다음과 같이 쓰면, 해당 라이브러리에 있는 모든 함수를 라이브러리명 없이 쓸 수 있음"
   ]
  },
  {
   "cell_type": "code",
   "execution_count": 21,
   "metadata": {},
   "outputs": [
    {
     "name": "stderr",
     "output_type": "stream",
     "text": [
      "/var/folders/2j/rtmpv1x91q9632mhk14cjxhr0000gn/T/ipykernel_13650/908265973.py:4: DeprecationWarning: Using factorial() with floats is deprecated\n",
      "  num2 = factorial(b)\n",
      "/var/folders/2j/rtmpv1x91q9632mhk14cjxhr0000gn/T/ipykernel_13650/908265973.py:5: DeprecationWarning: Using factorial() with floats is deprecated\n",
      "  num3 = sqrt(a) + factorial(b)\n"
     ]
    },
    {
     "name": "stdout",
     "output_type": "stream",
     "text": [
      "제곱근 8.23606797749979\n",
      "계승 3628800\n",
      "제곱근과 계승의 합: 3628802.2360679773\n"
     ]
    }
   ],
   "source": [
    "# math 라이브러리에 있는 모든 함수를 import\n",
    "from math import *\n",
    "num1 = sqrt(a)\n",
    "num2 = factorial(b) \n",
    "num3 = sqrt(a) + factorial(b)\n",
    "\n",
    "a = float(input(\"제곱근을 구하고자 하는 숫자를 입력해 주세요.\"))\n",
    "b = float(input(\"계승을 구하고자 하는 숫자를 입력해 주세요.\"))\n",
    "print(\"제곱근\", num)\n",
    "print(\"계승\", num2)\n",
    "print(\"제곱근과 계승의 합:\", num3)"
   ]
  },
  {
   "cell_type": "markdown",
   "metadata": {},
   "source": [
    "### 라이브러리에 있는 함수명이 길거나 해서 다른 이름으로 쓰고 싶으면 다음과 같이 작성"
   ]
  },
  {
   "cell_type": "code",
   "execution_count": null,
   "metadata": {},
   "outputs": [],
   "source": [
    "import math as d #as를 이용하면 함수명을 줄여서 사용 가능\n",
    "num = d.factorial(5)\n",
    "print (num)"
   ]
  },
  {
   "cell_type": "code",
   "execution_count": null,
   "metadata": {},
   "outputs": [],
   "source": [
    "# factorial() 함수를 f()로 사용 가능\n",
    "from math import factorial as f #math 라이브러이의 factorial 함수를 f로 줄여씀\n",
    "num = f(5)\n",
    "print (num)"
   ]
  },
  {
   "cell_type": "markdown",
   "metadata": {},
   "source": [
    "### 라이브러리가 없으면! 자기 PC에서 실행이 안됨 -- 설치하면 됨\n",
    "* 터미널 (맥은 terminal 프로그램, 윈도우는 Anaconda Prompt 프로그램을 실행해서 다음과 같은 특별한 명령을 수행)\n",
    "  - pip install 라이브러리명\n"
   ]
  }
 ],
 "metadata": {
  "kernelspec": {
   "display_name": "Python 3.9.13 ('base')",
   "language": "python",
   "name": "python3"
  },
  "language_info": {
   "codemirror_mode": {
    "name": "ipython",
    "version": 3
   },
   "file_extension": ".py",
   "mimetype": "text/x-python",
   "name": "python",
   "nbconvert_exporter": "python",
   "pygments_lexer": "ipython3",
   "version": "3.9.13"
  },
  "nbTranslate": {
   "displayLangs": [
    "*"
   ],
   "hotkey": "alt-t",
   "langInMainMenu": true,
   "sourceLang": "en",
   "targetLang": "fr",
   "useGoogleTranslate": true
  },
  "vscode": {
   "interpreter": {
    "hash": "1a78b5adbb636a1457b0c5d4cfcb2ac4d0cae006dda14d7173991df069a98825"
   }
  }
 },
 "nbformat": 4,
 "nbformat_minor": 1
}
