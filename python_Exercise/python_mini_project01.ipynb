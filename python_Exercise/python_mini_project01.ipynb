{
 "cells": [
  {
   "cell_type": "markdown",
   "metadata": {},
   "source": [
    "## 랜덤 가위, 바위, 보 프로그램"
   ]
  },
  {
   "cell_type": "code",
   "execution_count": 7,
   "metadata": {},
   "outputs": [
    {
     "name": "stdout",
     "output_type": "stream",
     "text": [
      "{'player': '보', 'computer': '가위'}\n",
      "당신이 졌습니다.\n"
     ]
    }
   ],
   "source": [
    "\n",
    "import random #random 라이브러리 호출\n",
    "\n",
    "def get_choices():\n",
    "  player_choice = input(\"당신의 선택은 (가위, 바위, 보): \")\n",
    "  options = [\"가위\", \"바위\", \"보\"]\n",
    "  computer_choice = random.choice(options) #random 라이브러리로 options을 무작위 선택\n",
    "  choices = {\"player\" : player_choice, \"computer\": computer_choice} #선태 결과를 딕셔너리 자료형으로 입력\n",
    "  return choices #딕셔너리 결과를 반환\n",
    "\n",
    "def check_win(player, computer): #선택된 인수값을 비교하여 결과에 알맞은 문자열 출력\n",
    "  print(choices)\n",
    "  if player == computer:\n",
    "    return \"비겼습니다.\"\n",
    "\n",
    "  elif player == \"바위\":\n",
    "    if computer == \"가위\":\n",
    "      return \"당신이 이겼습니다.\"\n",
    "    else:\n",
    "      return \"당신이 졌습니다.\"\n",
    "  elif player == \"가위\":\n",
    "    if computer == \"보\":\n",
    "      return \"당신이 이겼습니다.\"\n",
    "    else:\n",
    "      return \"당신이 졌습니다.\"\n",
    "  elif player == \"보\":\n",
    "    if computer == \"바위\":\n",
    "      return \"당신이 이겼습니다.\"\n",
    "    else:\n",
    "      return \"당신이 졌습니다.\"\n",
    "\n",
    "\n",
    "choices = get_choices()  #사용자와 컴퓨터의 가위, 바위, 보를 선택하는 함수 호출\n",
    "result = check_win(choices[\"player\"], choices[\"computer\"]) # chocies 딕셔너리에 입력된 값을 check_win()함수의 인수로 입력\n",
    "print(result) #출력 결과물을 print()으로 출력\n",
    "\n"
   ]
  },
  {
   "cell_type": "markdown",
   "metadata": {},
   "source": [
    "## 생일을 이용해 인생 시계 및 그래프 만들기"
   ]
  },
  {
   "cell_type": "markdown",
   "metadata": {},
   "source": [
    "### 생일 입력 받고 마침표를 기준으로 문자열 분리하기"
   ]
  },
  {
   "cell_type": "code",
   "execution_count": 11,
   "metadata": {},
   "outputs": [
    {
     "name": "stdout",
     "output_type": "stream",
     "text": [
      "78 2 1\n"
     ]
    }
   ],
   "source": [
    "yy, mm, dd = input(\"당신의 생년, 월, 일을 입력해 주세요 ((예) 80.1.30) : \").split('.')\n",
    "\n",
    "print(yy, mm, dd)"
   ]
  },
  {
   "cell_type": "markdown",
   "metadata": {},
   "source": [
    "### 생일을 이용해 인생 시계 및 그래프 만들기"
   ]
  },
  {
   "cell_type": "code",
   "execution_count": 2,
   "metadata": {},
   "outputs": [
    {
     "name": "stdout",
     "output_type": "stream",
     "text": [
      "당신의 생년월일은 1990.1.1 입니다.\n",
      "오늘 날짜는 2022.12.3입니다.\n",
      "당신의 현재까지 395개월을 살아오셨군요 또한 1708주를 살아오셨어요.\n",
      "앞으로 90년을 기준으로 685개월이 남았습니다. 또한 2972주가 남았구요\n",
      "앞으로도 멋진 인생을 살아봐요!!\n",
      "\n",
      "🔴 당신의 90년 인생 그래프(백분율) 🔵\n",
      "🔴 : 살아 온 시간\n",
      "🔵 : 살아 갈 시간\n",
      "\n",
      "🔵 🔵 🔵 🔵 🔵 🔵 🔵 🔵 🔵 🔵 \n",
      "🔵 🔵 🔵 🔵 🔵 🔵 🔵 🔵 🔵 🔵 \n",
      "🔵 🔵 🔵 🔵 🔵 🔵 🔵 🔵 🔵 🔵 \n",
      "🔵 🔵 🔵 🔵 🔵 🔵 🔵 🔵 🔵 🔵 \n",
      "🔵 🔵 🔵 🔵 🔵 🔵 🔵 🔵 🔵 🔵 \n",
      "🔵 🔵 🔵 🔵 🔵 🔵 🔵 🔵 🔵 🔵 \n",
      "🔵 🔵 🔵 🔵 🔵 🔵 🔵 🔵 🔵 🔵 \n",
      "🔵 🔵 🔵 🔴 🔴 🔴 🔴 🔴 🔴 🔴 \n",
      "🔴 🔴 🔴 🔴 🔴 🔴 🔴 🔴 🔴 🔴 \n",
      "🔴 🔴 🔴 🔴 🔴 🔴 🔴 🔴 🔴 🔴 \n",
      "🔴 🔴 🔴 🔴 🔴 🔴 🔴 🔴 🔴 🔴 \n"
     ]
    }
   ],
   "source": [
    "#오늘 날짜 불러오기\n",
    "from datetime import datetime  #현재 날짜 라이브러리\n",
    "\n",
    "today_year = datetime.today().year\n",
    "today_month = datetime.today().month\n",
    "today_day = datetime.today().day\n",
    "\n",
    "#자신의 생일 및 목표 나이 입력 받기\n",
    "user_year, user_month, user_day = input(\"당신의 생년, 월, 일을 입력해 주세요 ((예) 1980.1.30) : \").split('.')\n",
    "user_year, user_month, user_day = int(user_year), int(user_month), int(user_day)\n",
    "goal_age = int(input(\"당신의 목표 나이를 입력해주세요.(예) 80 : \"))\n",
    "\n",
    "#현재 날짜와 오늘 날짜 차이 계산하기\n",
    "today_month_count = today_year * 12 + today_month #오늘 날짜를 개월 수로 표현\n",
    "user_month_count = user_year * 12 + user_month #유저 생일을 주로 표현\n",
    "\n",
    "today_week_count = today_year * 52 + today_month * 4 #오늘 날짜를 주 수로 표현\n",
    "user_week_count = user_year * 52 + user_month * 4 #유저 생일을 주 수로 표현\n",
    "\n",
    "\n",
    "#살아온 월 계산\n",
    "month_count = today_month_count - user_month_count #현재 날짜에서 유저 생일의 개월 수 차이 계산\n",
    "remain1 = goal_age * 12 - month_count #목표 나이 기준으로 남은 개월 계산\n",
    "\n",
    "#살아온 주 계산\n",
    "week_count = today_week_count - user_week_count #현재 날짜에서 유저 생일의 주 차이 계산\n",
    "remain2 = goal_age * 52 - week_count #목표 나이 기준으로 남은 주 계산\n",
    "\n",
    "\n",
    "#결과 출력\n",
    "print(f\"당신의 생년월일은 {user_year}.{user_month}.{user_day} 입니다.\")\n",
    "print(f\"오늘 날짜는 {today_year}.{today_month}.{today_day}입니다.\")\n",
    "print(f\"당신의 현재까지 {month_count}개월을 살아오셨군요 또한 {week_count}주를 살아오셨어요.\")\n",
    "print(f\"앞으로 {goal_age}년을 기준으로 {remain1}개월이 남았습니다. 또한 {remain2}주가 남았구요\")\n",
    "print(\"앞으로도 멋진 인생을 살아봐요!!\")\n",
    "print()\n",
    "print(f\"🔴 당신의 {goal_age}년 인생 그래프(백분율) 🔵\")\n",
    "print(\"🔴 : 살아 온 시간\")\n",
    "print(\"🔵 : 살아 갈 시간\")\n",
    "print()\n",
    "\n",
    "\n",
    "#살아온 시간 백분율 환산\n",
    "a, b = divmod(int(round((month_count / (goal_age * 12)) * 100, 0)), 10) #divmod 나눗셈의 몫과 나머지 구하기, 참고사이트 - https://dev-note-97.tistory.com/65\n",
    "#a는 100분율로 환산환 십의 자리 값을 몫으로 받고, b는 100분율로 환산한 나머지 값을 받음\n",
    "\n",
    "#인생 그래프 출력(살아온 시간)  참고사이트 - https://blockdmask.tistory.com/375\n",
    "j = 1\n",
    "l = 1\n",
    "# 살아 갈 시간 십의 자리 출력\n",
    "while j <= 10-a: \n",
    "    k = 1\n",
    "    while k <= 10:\n",
    "        print(\"🔵\", end=\" \")     #참고사이트 - https://opentutorials.org/module/2980/17535\n",
    "        k += 1\n",
    "    print()\n",
    "    j += 1\n",
    "# 살아 갈 시간 일의 자리 출력\n",
    "while l <= 10-b:\n",
    "    print(\"🔵\", end=\" \")  #⭕️\n",
    "    l += 1\n",
    "# 살아 온 시간 일의 자리 이어서 출력\n",
    "j = 1\n",
    "l = 1\n",
    "while l <= b: \n",
    "    print(\"🔴\", end=\" \")\n",
    "    l += 1\n",
    "print()\n",
    "# 살아 온 시간 십의 자리 출력\n",
    "while j <= a: \n",
    "    k = 1\n",
    "    while k <= 10:\n",
    "        print(\"🔴\", end=\" \")\n",
    "        k += 1\n",
    "    print()\n",
    "    j += 1\n",
    "\n",
    "\n",
    "\n",
    "    \n"
   ]
  },
  {
   "cell_type": "markdown",
   "metadata": {},
   "source": [
    "## BMI 건강지킴이"
   ]
  },
  {
   "cell_type": "code",
   "execution_count": 5,
   "metadata": {},
   "outputs": [
    {
     "name": "stdout",
     "output_type": "stream",
     "text": [
      "당신의 체질량지수는 0.04 kg/m2입니다.\n",
      "당신은 저체중입니다. 체중을 늘려보세요.\n"
     ]
    }
   ],
   "source": [
    "#키와 무게를 입력받음\n",
    "weight = input(\"당신의 몸무게를 kg단위로 입력해주세요. 예시 - 60 : \")\n",
    "height = input(\"당신의 키를 m단위로 입력해 주세요. 예시 - 1.80 : \")\n",
    "\n",
    "bmi = round(int(weight) / float(height)**2, 2)  #round를 이용하여 소수 둘째자리 구함.\n",
    "\n",
    "print(f\"당신의 체질량지수는 {bmi} kg/m2입니다.\")\n",
    "\n",
    "if bmi < 18.5 :\n",
    "    print(\"당신은 저체중입니다. 체중을 늘려보세요.\")\n",
    "elif bmi < 25:\n",
    "    print(\"당신은 정상체중입니다. 건강을 계속 유지해 보세요.\")\n",
    "elif bmi < 30 :\n",
    "    print(\"당신은 과체중입니다. 식사를 조절해 보세요.\")\n",
    "elif bmi < 35 :\n",
    "    print(\"당신은 비만입니다. 식사 조절과 적절한 운동을 해주세요.\")\n",
    "else :\n",
    "    print(\"당신은 고도비만입니다. 반드시 식사 조절과 운동을 꼭 실천하셔야 합니다.\")\n"
   ]
  }
 ],
 "metadata": {
  "kernelspec": {
   "display_name": "Python 3 (ipykernel)",
   "language": "python",
   "name": "python3"
  },
  "language_info": {
   "codemirror_mode": {
    "name": "ipython",
    "version": 3
   },
   "file_extension": ".py",
   "mimetype": "text/x-python",
   "name": "python",
   "nbconvert_exporter": "python",
   "pygments_lexer": "ipython3",
   "version": "3.9.13"
  },
  "vscode": {
   "interpreter": {
    "hash": "1a78b5adbb636a1457b0c5d4cfcb2ac4d0cae006dda14d7173991df069a98825"
   }
  }
 },
 "nbformat": 4,
 "nbformat_minor": 2
}
