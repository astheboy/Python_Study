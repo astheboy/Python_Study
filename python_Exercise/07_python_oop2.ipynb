{
 "cells": [
  {
   "cell_type": "markdown",
   "metadata": {},
   "source": [
    "## 예제로 이해하는 객체지향 문법 (class와 object)"
   ]
  },
  {
   "cell_type": "markdown",
   "metadata": {},
   "source": [
    "### 사각형 만들기\n",
    "\n",
    "  <img src=\"quadrangle.png\" />"
   ]
  },
  {
   "cell_type": "markdown",
   "metadata": {},
   "source": [
    "### 3.1. class 선언하기\n",
    "### 객체 생성 전에 미리 class를 선언해야 함"
   ]
  },
  {
   "cell_type": "markdown",
   "metadata": {},
   "source": [
    "## 1. 클래스를 어떻게 만드니?"
   ]
  },
  {
   "cell_type": "code",
   "execution_count": null,
   "metadata": {
    "collapsed": true
   },
   "outputs": [],
   "source": [
    "class 클래스이름:\n",
    "    attribute 선언\n",
    "    method 선언"
   ]
  },
  {
   "cell_type": "markdown",
   "metadata": {},
   "source": [
    "### 1.1 attribute 선언\n",
    "* 파이썬에서 attribute 는 attribute 값과 함께 선언이 일반적임\n",
    "  - 예: attribute1 = 0\n",
    "* 생성자 메서드 __init__ 의 인자를 활용해서 선언하는 방식이 보다 일반적임\n",
    "  - 예: __init__ 의 인자 중 하나가 width 일 경우\n",
    "  - __init__ 메서드 안에서 self.attribute1 = width 로 attribute1 선언"
   ]
  },
  {
   "cell_type": "markdown",
   "metadata": {},
   "source": [
    "### 1.2 method 선언\n",
    "* class 안에서 def 메서드(self, ...) 와 같은 방식으로 선언"
   ]
  },
  {
   "cell_type": "markdown",
   "metadata": {},
   "source": [
    "## 예제"
   ]
  },
  {
   "cell_type": "code",
   "execution_count": 14,
   "metadata": {
    "collapsed": true
   },
   "outputs": [],
   "source": [
    "class Quad:\n",
    "    height = 0\n",
    "    width = 0\n",
    "    color = ''\n",
    "    \n",
    "    def get_area(self):\n",
    "        return self.height * self.width"
   ]
  },
  {
   "cell_type": "markdown",
   "metadata": {},
   "source": [
    "## 1. 클래스 선언"
   ]
  },
  {
   "cell_type": "code",
   "execution_count": 10,
   "metadata": {},
   "outputs": [],
   "source": [
    "class circle():   #원주 계산 프로그램\n",
    "    diameter = 0  #지름\n",
    "    pi = 3.14\n",
    "    color = ''\n",
    "    name = 'circle'\n",
    "     \n",
    "    def get_circumference(self, argument1, argument2): #인자가 없으면 self 입력\n",
    "        print(argument1, argument2)\n",
    "        return self.diameter * self.pi\n"
   ]
  },
  {
   "cell_type": "markdown",
   "metadata": {},
   "source": [
    "## 2. 객체 생성"
   ]
  },
  {
   "cell_type": "code",
   "execution_count": 12,
   "metadata": {},
   "outputs": [],
   "source": [
    "circle1 = circle()\n",
    "circle2 = circle()"
   ]
  },
  {
   "cell_type": "markdown",
   "metadata": {},
   "source": [
    "## 3. 객체 기능 호출"
   ]
  },
  {
   "cell_type": "code",
   "execution_count": 13,
   "metadata": {},
   "outputs": [
    {
     "name": "stdout",
     "output_type": "stream",
     "text": [
      "10 20\n",
      "blue yellow\n",
      "파란 원 노란 원\n",
      "1 2\n",
      "3 4\n",
      "31.400000000000002 62.800000000000004\n"
     ]
    }
   ],
   "source": [
    "circle1.diameter = 10\n",
    "circle1.color ='blue'\n",
    "circle1.name = '파란 원'\n",
    "\n",
    "circle2.diameter = 20\n",
    "circle2.color ='yellow'\n",
    "circle2.name ='노란 원'\n",
    "\n",
    "print(circle1.diameter, circle2.diameter)\n",
    "print(circle1.color, circle2.color)\n",
    "print(circle1.name, circle2.name)\n",
    "\n",
    "print(circle1.get_circumference(1, 2), circle2.get_circumference(3, 4)) #메소드 안에 argument 넣기\n"
   ]
  },
  {
   "cell_type": "markdown",
   "metadata": {},
   "source": [
    "### 4X3(red), 5X5(blue), 7X4(brown) 세 개 객체를 만들고, 각각의 넓이 출력"
   ]
  },
  {
   "cell_type": "code",
   "execution_count": 15,
   "metadata": {},
   "outputs": [
    {
     "data": {
      "text/plain": [
       "12"
      ]
     },
     "execution_count": 15,
     "metadata": {},
     "output_type": "execute_result"
    }
   ],
   "source": [
    "quad1 = Quad()\n",
    "quad1.height = 4\n",
    "quad1.width = 3\n",
    "quad1.color = 'red'\n",
    "quad1.get_area()"
   ]
  },
  {
   "cell_type": "code",
   "execution_count": 16,
   "metadata": {},
   "outputs": [
    {
     "data": {
      "text/plain": [
       "25"
      ]
     },
     "execution_count": 16,
     "metadata": {},
     "output_type": "execute_result"
    }
   ],
   "source": [
    "quad2 = Quad()\n",
    "quad2.height = 5\n",
    "quad2.width = 5\n",
    "quad2.color ='blue'\n",
    "quad2.get_area()"
   ]
  }
 ],
 "metadata": {
  "kernelspec": {
   "display_name": "Python 3.9.13 ('base')",
   "language": "python",
   "name": "python3"
  },
  "language_info": {
   "codemirror_mode": {
    "name": "ipython",
    "version": 3
   },
   "file_extension": ".py",
   "mimetype": "text/x-python",
   "name": "python",
   "nbconvert_exporter": "python",
   "pygments_lexer": "ipython3",
   "version": "3.9.13"
  },
  "nbTranslate": {
   "displayLangs": [
    "*"
   ],
   "hotkey": "alt-t",
   "langInMainMenu": true,
   "sourceLang": "en",
   "targetLang": "fr",
   "useGoogleTranslate": true
  },
  "vscode": {
   "interpreter": {
    "hash": "1a78b5adbb636a1457b0c5d4cfcb2ac4d0cae006dda14d7173991df069a98825"
   }
  }
 },
 "nbformat": 4,
 "nbformat_minor": 1
}
