{
 "cells": [
  {
   "cell_type": "markdown",
   "metadata": {},
   "source": [
    "## 숫자 추측 게임"
   ]
  },
  {
   "cell_type": "code",
   "execution_count": null,
   "metadata": {},
   "outputs": [],
   "source": [
    "# 함수\n",
    "# random_number_function : 랜덤으로 1~100까지의 숫자를 추출하는 함수\n",
    "# guessing_number_funcion : 사용자가 추측한 수와 랜덤 수를 비교하고 결과물을 출력하는 함수\n",
    "# game_function : 게임 진행 함수\n",
    "\n",
    "# 변수\n",
    "# difficult_level : 난이도 변수(easy, hard)\n",
    "\n",
    "# 딕셔너리\n",
    "# number_of_attempts : 시도 횟수(easy : 10, hard : 5)\n",
    "\n",
    "import random\n",
    "# from art import logo\n",
    "\n",
    "# 랜덤 수 생성 함수\n",
    "def random_number_function(max_number):\n",
    "    random_number = random.randint(1, max_number)\n",
    "    return random_number\n",
    "\n",
    "# print(random_number_function(max_number))\n",
    "\n",
    "# 랜덤 숫자와 추측 숫자 비교하는 함수\n",
    "def guessing_number_function(random_number, user_guess_number, difficlut_level):\n",
    "    print(f\"시도 횟수 : {difficlut_level}\")\n",
    "    if random_number > user_guess_number :\n",
    "        print(\"낮았어요. 더 높은 수를 추측해 보세요. : \")\n",
    "        # user_guess_number = int(input(\"더 높은 수를 추측해 보세요. : \"))\n",
    "        # return user_guess_number\n",
    "        game_on = True\n",
    "        return game_on\n",
    "    elif random_number < user_guess_number :\n",
    "        print(\"높았어요. 더 낮은 수를 추측해 보세요. : \")\n",
    "        # user_guess_number = int(input(\"더 낮은 수를 추측해 보세요. : \"))\n",
    "        # return user_guess_number\n",
    "        game_on = True\n",
    "        return game_on\n",
    "    elif random_number == user_guess_number :\n",
    "        print(f\"맞았어요 정답은 {random_number}입니다.\")\n",
    "        if input(\"게임을 다시 시작하겠습니까? (yes, no) : \") == \"yes\" :\n",
    "            game_function()\n",
    "        else:\n",
    "            game_on = False\n",
    "            return game_on\n",
    "            \n",
    "\n",
    "def game_function():\n",
    "    \n",
    "    #logo 출력\n",
    "    print(logo)\n",
    "\n",
    "    max_number = int(input(\"숫자 추측하기 퀴즈에 사용할 가장 큰 숫자를 입력해 주세요 : \"))\n",
    "\n",
    "    # 딕셔너리 정의\n",
    "    number_of_attempts = {'easy': 10, \"hard\" : 5}\n",
    "    difficult_level = number_of_attempts[input(\"퀴즈 난이도를 선택하세요.(easy, hard) :  \")] \n",
    "            \n",
    "    # 랜덤 수 생성 함수호출\n",
    "    random_num = random_number_function(max_number)\n",
    "\n",
    "    while difficult_level != 0 :\n",
    "        user_guess_number = int(input(f\"당신이 생각한 수를 입력해주세요. (1 ~ {max_number}) : \"))\n",
    "        game_on = guessing_number_function(random_num, user_guess_number, difficult_level)\n",
    "        \n",
    "        difficult_level -= 1\n",
    "        if difficult_level == 0 :\n",
    "            print(\"횟수를 초과하였습니다.\")\n",
    "            game_function()\n",
    "        if not game_on :\n",
    "            print(\"게임을 종료하겠습니다.\")\n",
    "            return\n",
    "\n",
    "game_function()\n",
    "\n",
    "\n"
   ]
  }
 ],
 "metadata": {
  "kernelspec": {
   "display_name": "Python 3",
   "language": "python",
   "name": "python3"
  },
  "language_info": {
   "codemirror_mode": {
    "name": "ipython",
    "version": 3
   },
   "file_extension": ".py",
   "mimetype": "text/x-python",
   "name": "python",
   "nbconvert_exporter": "python",
   "pygments_lexer": "ipython3",
   "version": "3.11.0 (main, Oct 26 2022, 19:06:18) [Clang 14.0.0 (clang-1400.0.29.202)]"
  },
  "orig_nbformat": 4,
  "vscode": {
   "interpreter": {
    "hash": "6ecdebf77f2ee3a47348d003f751c63e810ca996c1c68d1179f338200fa83b34"
   }
  }
 },
 "nbformat": 4,
 "nbformat_minor": 2
}
