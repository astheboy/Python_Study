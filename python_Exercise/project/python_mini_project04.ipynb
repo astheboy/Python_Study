{
 "cells": [
  {
   "cell_type": "markdown",
   "metadata": {},
   "source": [
    "## 반복문"
   ]
  },
  {
   "cell_type": "markdown",
   "metadata": {},
   "source": [
    "### For 반복문\n",
    "\n",
    "    \n",
    "- 참고사이트\n",
    "    - [제어 흐름 도구](https://docs.python.org/ko/3.9/tutorial/controlflow.html#for-statements)"
   ]
  },
  {
   "cell_type": "code",
   "execution_count": 2,
   "metadata": {},
   "outputs": [
    {
     "name": "stdout",
     "output_type": "stream",
     "text": [
      "사과\n",
      "배\n",
      "복숭아\n"
     ]
    }
   ],
   "source": [
    "fruits = [\"사과\", \"배\", \"복숭아\"]\n",
    "for fruit in fruits :\n",
    "    print(fruit)"
   ]
  },
  {
   "cell_type": "code",
   "execution_count": 7,
   "metadata": {},
   "outputs": [
    {
     "name": "stdout",
     "output_type": "stream",
     "text": [
      "사과\n",
      "사과 파이\n",
      "['사과', '배', '복숭아']\n",
      "배\n",
      "배 파이\n",
      "['사과', '배', '복숭아']\n",
      "복숭아\n",
      "복숭아 파이\n",
      "['사과', '배', '복숭아']\n",
      "\n",
      "['사과', '배', '복숭아']\n"
     ]
    }
   ],
   "source": [
    "fruits = [\"사과\", \"배\", \"복숭아\"]\n",
    "for fruit in fruits :\n",
    "    print(fruit)\n",
    "    print(fruit +\" 파이\")\n",
    "    print(fruits)\n",
    "print()\n",
    "print(fruits)"
   ]
  },
  {
   "cell_type": "markdown",
   "metadata": {},
   "source": [
    "## 학생 평균 키 계산"
   ]
  },
  {
   "cell_type": "code",
   "execution_count": 13,
   "metadata": {},
   "outputs": [
    {
     "name": "stdout",
     "output_type": "stream",
     "text": [
      "학생 키 현황 : [180, 175, 166, 187, 178, 189, 181, 178, 169, 172]\n",
      "학생 키 합 : 1775\n",
      "학생 키 평균 : 177.5\n"
     ]
    }
   ],
   "source": [
    "student_heights = input(\"학생들의 키를 입력해 주세요. :\").split()\n",
    "\n",
    "for n in range(0, len(student_heights)):\n",
    "    student_heights[n] = int(student_heights[n])\n",
    "\n",
    "print(f\"학생 키 현황 : {student_heights}\")\n",
    "\n",
    "student_heights_sum = 0 \n",
    "\n",
    "for k in range(0, len(student_heights)) :\n",
    "    student_heights_sum += int(student_heights[k])\n",
    "\n",
    "#student_heights_sum = sum(student_heights)\n",
    "\n",
    "student_heights_average = round(student_heights_sum / len(student_heights), 1)\n",
    "print(f\"학생 키 합 : {student_heights_sum}\")\n",
    "print(f\"학생 키 평균 : {student_heights_average}\")\n",
    "\n"
   ]
  },
  {
   "cell_type": "markdown",
   "metadata": {},
   "source": [
    "## 높은 점수 구하기"
   ]
  },
  {
   "cell_type": "code",
   "execution_count": 29,
   "metadata": {},
   "outputs": [
    {
     "name": "stdout",
     "output_type": "stream",
     "text": [
      "['78', '68', '89', '90', '82', '87', '59', '98', '87', '56', '69', '85']\n",
      "for문 계산 결과1 : 98\n",
      "for문 계산 결과2 : 98\n",
      "max 함수 사용 결과 : 98\n"
     ]
    }
   ],
   "source": [
    "student_scores = input(\"학생들의 점수를 입력해 주세요. :\").split()\n",
    "print(student_scores)\n",
    "#students_score = [78, 65, 89, 86, 55, 91, 64, 89]\n",
    "\n",
    "highest_score = int(student_scores[0])\n",
    "for k in range(1, len(student_scores)) :\n",
    "    if highest_score <= int(student_scores[k]) :\n",
    "        highest_score = int(student_scores[k])\n",
    "\n",
    "highest_score2 = 0\n",
    "for score in student_scores :\n",
    "    if highest_score2 <= int(score):\n",
    "        highest_score2 = int(score)\n",
    "\n",
    "\n",
    "print(f\"for문 계산 결과1 : {highest_score}\")\n",
    "print(f\"for문 계산 결과2 : {highest_score2}\")\n",
    "print(\"max 함수 사용 결과 : \" + max(student_scores)) #max 함수 사용하기\n",
    "    "
   ]
  },
  {
   "cell_type": "markdown",
   "metadata": {},
   "source": [
    "## 1부터 n까지 더하기"
   ]
  },
  {
   "cell_type": "code",
   "execution_count": 31,
   "metadata": {},
   "outputs": [
    {
     "name": "stdout",
     "output_type": "stream",
     "text": [
      "1부터 700까지의 덧셈 결과: 245350\n"
     ]
    }
   ],
   "source": [
    "last_number = int(input(\"숫자를 입력해 주세요. : \"))\n",
    "sum = 0\n",
    "for i in range(1, last_number+1) :\n",
    "    sum += i\n",
    "\n",
    "print(f\"1부터 {last_number}까지의 덧셈 결과: {sum}\")"
   ]
  },
  {
   "cell_type": "markdown",
   "metadata": {},
   "source": [
    "## 1부터 n까지 짝수만 더하기"
   ]
  },
  {
   "cell_type": "code",
   "execution_count": 40,
   "metadata": {},
   "outputs": [
    {
     "name": "stdout",
     "output_type": "stream",
     "text": [
      "[2, 4, 6, 8, 10, 12, 14, 16, 18, 20, 22, 24, 26, 28, 30, 32, 34, 36, 38, 40, 42, 44, 46, 48, 50, 52, 54, 56, 58, 60, 62, 64, 66, 68, 70, 72, 74, 76, 78, 80, 82, 84, 86, 88, 90, 92, 94, 96, 98, 100]\n",
      "1부터 100까지의 짝수 덧셈 결과:\n",
      "if문 이용하여 짝수 구하기: 2550\n",
      "for문을 이용하여 짝수 구하기 : 2550\n"
     ]
    }
   ],
   "source": [
    "last_number = int(input(\"숫자를 입력해 주세요. : \"))\n",
    "sum = 0\n",
    "sum2 = 0\n",
    "select_number = []\n",
    "for i in range(1, last_number+1) :\n",
    "    if i % 2 == 0 :\n",
    "        select_number.append(i)\n",
    "        sum += i\n",
    "\n",
    "for number in range(2, last_number+1, 2) :\n",
    "    sum2 += number\n",
    "\n",
    "print(select_number)\n",
    "print(f\"1부터 {last_number}까지의 짝수 덧셈 결과:\")\n",
    "print(f\"if문 이용하여 짝수 구하기: {sum}\")\n",
    "print(f\"for문을 이용하여 짝수 구하기 : {sum2}\")"
   ]
  },
  {
   "cell_type": "markdown",
   "metadata": {},
   "source": [
    "## 1부터 n까지 홀수만 더하기"
   ]
  },
  {
   "cell_type": "code",
   "execution_count": 37,
   "metadata": {},
   "outputs": [
    {
     "name": "stdout",
     "output_type": "stream",
     "text": [
      "[1, 3, 5, 7, 9, 11, 13, 15, 17, 19, 21, 23, 25, 27, 29, 31, 33, 35, 37, 39, 41, 43, 45, 47, 49, 51, 53, 55, 57, 59, 61, 63, 65, 67, 69, 71, 73, 75, 77, 79, 81, 83, 85, 87, 89, 91, 93, 95, 97, 99]\n",
      "1부터 100까지의 홀수 덧셈 결과: 2500\n"
     ]
    }
   ],
   "source": [
    "last_number = int(input(\"숫자를 입력해 주세요. : \"))\n",
    "sum = 0\n",
    "select_number = []\n",
    "for i in range(1, last_number+1) :\n",
    "    if i % 2 == 1 :\n",
    "        select_number.append(i)\n",
    "        sum += i\n",
    "print(select_number)\n",
    "print(f\"1부터 {last_number}까지의 홀수 덧셈 결과: {sum}\")"
   ]
  },
  {
   "cell_type": "markdown",
   "metadata": {},
   "source": [
    "## FizzBuzz 게임\n",
    "- 3으로 나눌 수 있으면 fizz\n",
    "- 5로 나눌 수 있으면 buzz\n",
    "- 3과 5로 모두 나눌 수 있으면 fizzbuzz"
   ]
  },
  {
   "cell_type": "code",
   "execution_count": 47,
   "metadata": {},
   "outputs": [
    {
     "name": "stdout",
     "output_type": "stream",
     "text": [
      "FizzBuzz 게임 결과\n",
      "[1, 2, 'Fizz', 4, 'Buzz', 'Fizz', 7, 8, 'Fizz', 'Buzz', 11, 'Fizz', 13, 14, 'FizzBuzz', 16, 17, 'Fizz', 19, 'Buzz', 'Fizz', 22, 23, 'Fizz', 'Buzz', 26, 'Fizz', 28, 29, 'FizzBuzz', 31, 32, 'Fizz', 34, 'Buzz', 'Fizz', 37, 38, 'Fizz', 'Buzz', 41, 'Fizz', 43, 44, 'FizzBuzz', 46, 47, 'Fizz', 49, 'Buzz', 'Fizz', 52, 53, 'Fizz', 'Buzz', 56, 'Fizz', 58, 59, 'FizzBuzz', 61, 62, 'Fizz', 64, 'Buzz', 'Fizz', 67, 68, 'Fizz', 'Buzz', 71, 'Fizz', 73, 74, 'FizzBuzz', 76, 77, 'Fizz', 79, 'Buzz', 'Fizz', 82, 83, 'Fizz', 'Buzz', 86, 'Fizz', 88, 89, 'FizzBuzz', 91, 92, 'Fizz', 94, 'Buzz', 'Fizz', 97, 98, 'Fizz', 'Buzz']\n"
     ]
    }
   ],
   "source": [
    "last_number = int(input(\"숫자를 입력해 주세요. : \"))\n",
    "sum = 0\n",
    "game_list = []\n",
    "for i in range(1, last_number+1) :\n",
    "    if i % 3 == 0 and i % 5 == 0 :\n",
    "        game_list.append(\"FizzBuzz\")\n",
    "    elif i % 3 == 0 :\n",
    "        game_list.append(\"Fizz\")\n",
    "    elif i % 5 == 0 :\n",
    "        game_list.append(\"Buzz\")\n",
    "    else :\n",
    "        game_list.append(i)\n",
    "\n",
    "print(\"FizzBuzz 게임 결과\")\n",
    "print(game_list)\n"
   ]
  },
  {
   "cell_type": "markdown",
   "metadata": {},
   "source": [
    "## 비밀번호 생성기"
   ]
  },
  {
   "cell_type": "markdown",
   "metadata": {},
   "source": [
    "- 참고 사이트\n",
    "    - [파이썬 알파멧 자동 생성 방법](https://angelplayer.tistory.com/193)\n",
    "    - [파이썬 다양한 메소드로 문자열 판별 확인하기](https://jinisbonusbook.tistory.com/30)\n",
    "    - [중복되지 않는 무작위 숫자 뽑기](https://m.blog.naver.com/new27kr/220998501772)\n",
    "    - [문자열 합치기 및 나누기](https://kongpowder.tistory.com/80)\n",
    "    - [파이썬 랜덤 함수 자습서](https://docs.python.org/ko/3.9/library/random.html?highlight=random#module-random)\n",
    "\n",
    "파이썬에서 알파벳 리스트를 만드는 가장 쉬운 방법은 다음과 같습니다\n",
    "```\n",
    "import string\n",
    "alphabets = list(string.ascii_lowercase)\n",
    "```\n",
    "위 코드는 `string` 모듈에서 `ascii_lowercase`라는 변수를 가져와서 리스트로 만듭니다. 이 리스트는 소문자 알파벳을 모두 포함합니다.\n",
    "만약 대문자 알파벳을 포함하려면 `string.ascii_uppercase`를 사용하면 됩니다.\n",
    "\n",
    "```\n",
    "import string\n",
    "alphabets = list(string.ascii_lowercase + string.ascii_uppercase)\n",
    "```\n",
    "이제 `alphabets` 변수는 소문자와 대문자 알파벳을 모두 포함하는 리스트가 됩니다.\n"
   ]
  },
  {
   "cell_type": "markdown",
   "metadata": {},
   "source": [
    "### 나의 알고리즘"
   ]
  },
  {
   "cell_type": "code",
   "execution_count": 29,
   "metadata": {},
   "outputs": [
    {
     "name": "stdout",
     "output_type": "stream",
     "text": [
      "소문자 생성\n",
      "['a', 'b', 'c', 'd', 'e', 'f', 'g', 'h', 'i', 'j', 'k', 'l', 'm', 'n', 'o', 'p', 'q', 'r', 's', 't', 'u', 'v', 'w', 'x', 'y', 'z']\n",
      "대문자 생성\n",
      "['A', 'B', 'C', 'D', 'E', 'F', 'G', 'H', 'I', 'J', 'K', 'L', 'M', 'N', 'O', 'P', 'Q', 'R', 'S', 'T', 'U', 'V', 'W', 'X', 'Y', 'Z']\n",
      "숫자 생성\n",
      "[0, 1, 2, 3, 4, 5, 6, 7, 8, 9]\n",
      "사용할 기호\n",
      "['!', '@', '#', '$', '%', '^', '&', '*', '(', ')']\n",
      "전체 암호 길이 : 12 글자\n",
      "대문자 개수 : 3 개\n",
      "기호 개수 : 2 개\n",
      "숫자 개수 : 3 개\n",
      "\n",
      "소문자를 랜덤으로 뽑아낸 비밀번호\n",
      "['q', 'u', 'h', 'x', 'q', 't', 'x', 'g', 'v', 'm', 'e', 'b']\n",
      "대문자, 기호, 숫자를 넣을 랜덤 위치\n",
      "[11, 1, 7, 9, 2, 4, 6, 3]\n",
      "대문자, 기호, 숫자를 추가한 비밀번호 리스트\n",
      "['q', 'J', '^', '9', '3', 't', '2', 'L', 'v', '@', 'e', 'I']\n",
      "비밀번호를 생성하였습니다.\n",
      "비밀번호 생성 결과 : qJ^93t2Lv@eI\n"
     ]
    }
   ],
   "source": [
    "import string, random\n",
    "\n",
    "low_letters = int(input(\"몇 글자의 암호를 만들까요? : \"))\n",
    "upper_letters = int(input(\"대문자 개수 : \"))\n",
    "symbol_letters = int(input(\"기호 개수 : \"))\n",
    "number_letters = int(input(\"숫자 개수 : \"))\n",
    "count_list = [upper_letters, upper_letters+symbol_letters, upper_letters+symbol_letters+number_letters] #비밀번호로 만들 대문자, 기호, 숫자간의 간격 저장, random_location에서 활용\n",
    "\n",
    "# 소문자, 대문자, 숫자, 심볼 기호 리스트 생성\n",
    "low_letter_list = list(string.ascii_lowercase)\n",
    "upper_letter_list = list(string.ascii_uppercase)\n",
    "number_list = list(range(10))\n",
    "symbol_list = [\"!\", \"@\", \"#\", \"$\", \"%\", \"^\", \"&\", \"*\", \"(\", \")\"]\n",
    "\n",
    "print(\"소문자 생성\")\n",
    "print(low_letter_list)\n",
    "print(\"대문자 생성\")\n",
    "print(upper_letter_list)\n",
    "print(\"숫자 생성\")\n",
    "print(number_list)\n",
    "print(\"사용할 기호\")\n",
    "print(symbol_list)\n",
    "\n",
    "\n",
    "# 사용자의 요구 사항 출력\n",
    "print(f\"전체 암호 길이 : {low_letters} 글자\")\n",
    "print(f\"대문자 개수 : {upper_letters} 개\")\n",
    "print(f\"기호 개수 : {symbol_letters} 개\")\n",
    "print(f\"숫자 개수 : {number_letters} 개\")\n",
    "# 11개의 소문자 알파벳 비밀번호 생성\n",
    "\n",
    "make_password = []\n",
    "for i in range(low_letters):\n",
    "    make_password.append(random.choice(low_letter_list))\n",
    "print()\n",
    "print(\"소문자를 랜덤으로 뽑아낸 비밀번호\")\n",
    "print(make_password)\n",
    "\n",
    "# 대문자, 기호, 숫자가 들어갈 랜덤 위치 뽑아내기\n",
    "random_location = []\n",
    "ran_num = random.randint(0, low_letters-1)\n",
    "\n",
    "for i in range(count_list[2]) :\n",
    "    while ran_num in random_location: #random_location에 ran_num이 있는 경우에만 랜덤 번호를 산출하여 ran_num에 입력\n",
    "        ran_num = random.randint(0, low_letters-1)\n",
    "    random_location.append(ran_num)\n",
    "print(\"대문자, 기호, 숫자를 넣을 랜덤 위치\")\n",
    "print(random_location)\n",
    "\n",
    "# random_location의 위치에 대문자, 숫자, 기호로 변경하기\n",
    "for i in range(0, count_list[0]):\n",
    "    make_password[random_location[i]] = random.choice(upper_letter_list)\n",
    "for i in range(count_list[0], count_list[1]):\n",
    "    make_password[random_location[i]] = random.choice(symbol_list)\n",
    "for i in range(count_list[1], count_list[2]):\n",
    "    make_password[random_location[i]] = str(random.choice(number_list)) #lastpassword 문자열 결합을 위해 숫자를 문자열로 변환\n",
    "\n",
    "print(\"대문자, 기호, 숫자를 추가한 비밀번호 리스트\")\n",
    "print(make_password)\n",
    "\n",
    "# 생성된 리스트에서 문자열로 결합하여 최종 비밀번호 산출\n",
    "lastpassword = ''.join(make_password)\n",
    "\n",
    "# lastpassword = ''\n",
    "# for a in make_password :\n",
    "#     lastpassword += a\n",
    "\n",
    "print(\"비밀번호를 생성하였습니다.\")\n",
    "print(\"비밀번호 생성 결과 : \" + lastpassword)\n"
   ]
  },
  {
   "cell_type": "markdown",
   "metadata": {},
   "source": [
    "### 유데미 강의 알고리즘"
   ]
  },
  {
   "cell_type": "code",
   "execution_count": 44,
   "metadata": {},
   "outputs": [
    {
     "name": "stdout",
     "output_type": "stream",
     "text": [
      "소문자 생성\n",
      "['a', 'b', 'c', 'd', 'e', 'f', 'g', 'h', 'i', 'j', 'k', 'l', 'm', 'n', 'o', 'p', 'q', 'r', 's', 't', 'u', 'v', 'w', 'x', 'y', 'z']\n",
      "대문자 생성\n",
      "['A', 'B', 'C', 'D', 'E', 'F', 'G', 'H', 'I', 'J', 'K', 'L', 'M', 'N', 'O', 'P', 'Q', 'R', 'S', 'T', 'U', 'V', 'W', 'X', 'Y', 'Z']\n",
      "숫자 생성\n",
      "[0, 1, 2, 3, 4, 5, 6, 7, 8, 9]\n",
      "사용할 기호\n",
      "['!', '@', '#', '$', '%', '^', '&', '*', '(', ')']\n",
      "\n",
      "전체 암호 길이 : 12 글자\n",
      "대문자 개수 : 2 개\n",
      "기호 개수 : 3 개\n",
      "숫자 개수 : 2 개\n",
      "\n",
      "['M', 'd', '*', '&', '0', 'T', '9', 'o', 'l', 'z', '(', 'q']\n",
      "비밀번호를 생성하였습니다.\n",
      "비밀번호 생성 결과 : Md*&0T9olz(q\n"
     ]
    }
   ],
   "source": [
    "import string, random\n",
    "\n",
    "low_letters = int(input(\"몇 글자의 암호를 만들까요? : \"))\n",
    "upper_letters = int(input(\"대문자 개수 : \"))\n",
    "symbol_letters = int(input(\"기호 개수 : \"))\n",
    "number_letters = int(input(\"숫자 개수 : \"))\n",
    "\n",
    "# 소문자, 대문자, 숫자, 심볼 기호 리스트 생성\n",
    "low_letter_list = list(string.ascii_lowercase)\n",
    "upper_letter_list = list(string.ascii_uppercase)\n",
    "number_list = list((range(10)))\n",
    "symbol_list = [\"!\", \"@\", \"#\", \"$\", \"%\", \"^\", \"&\", \"*\", \"(\", \")\"]\n",
    "\n",
    "print(\"소문자 생성\")\n",
    "print(low_letter_list)\n",
    "print(\"대문자 생성\")\n",
    "print(upper_letter_list)\n",
    "print(\"숫자 생성\")\n",
    "print(number_list)\n",
    "print(\"사용할 기호\")\n",
    "print(symbol_list)\n",
    "\n",
    "\n",
    "# 사용자의 요구 사항 출력\n",
    "print()\n",
    "print(f\"전체 암호 길이 : {low_letters} 글자\")\n",
    "print(f\"대문자 개수 : {upper_letters} 개\")\n",
    "print(f\"기호 개수 : {symbol_letters} 개\")\n",
    "print(f\"숫자 개수 : {number_letters} 개\")\n",
    "\n",
    "# 각 개수에 맞게 비밀번호 문자를 생성\n",
    "make_password =[]\n",
    "for i in range(low_letters-(upper_letters+symbol_letters+number_letters)): #전체 길이에서 대문자, 기호, 숫자의 갯수를 뺀 만큼을 반복하기\n",
    "    make_password += random.choice(low_letter_list)\n",
    "for i in range(upper_letters):\n",
    "    make_password += random.choice(upper_letter_list)\n",
    "for i in range(symbol_letters):\n",
    "    make_password += random.choice(symbol_list)\n",
    "for i in range(number_letters):\n",
    "    make_password += str(random.choice(number_list))\n",
    "\n",
    "random.shuffle(make_password) #랜덤 shuffle 메소드를 이용해서 위치를 무작위로 바꿈.\n",
    "# 산출된 비밀번호 리스트\n",
    "print()\n",
    "print(make_password)\n",
    "\n",
    "# 리스트에서 문자열로 결합하여 최종 비밀번호 출력\n",
    "lastpassword = ''.join(make_password)\n",
    "\n",
    "# lastpassword = ''  #유데미 강의 버전\n",
    "# for a in make_password :\n",
    "#     lastpassword += a\n",
    "\n",
    "print(\"비밀번호를 생성하였습니다.\")\n",
    "print(\"비밀번호 생성 결과 : \" + lastpassword)"
   ]
  }
 ],
 "metadata": {
  "kernelspec": {
   "display_name": "Python 3",
   "language": "python",
   "name": "python3"
  },
  "language_info": {
   "codemirror_mode": {
    "name": "ipython",
    "version": 3
   },
   "file_extension": ".py",
   "mimetype": "text/x-python",
   "name": "python",
   "nbconvert_exporter": "python",
   "pygments_lexer": "ipython3",
   "version": "3.11.0 (main, Oct 26 2022, 19:06:18) [Clang 14.0.0 (clang-1400.0.29.202)]"
  },
  "vscode": {
   "interpreter": {
    "hash": "6ecdebf77f2ee3a47348d003f751c63e810ca996c1c68d1179f338200fa83b34"
   }
  }
 },
 "nbformat": 4,
 "nbformat_minor": 2
}
