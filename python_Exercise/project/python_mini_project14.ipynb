{
 "cells": [
  {
   "cell_type": "markdown",
   "metadata": {},
   "source": [
    "## oop 개념과 turtle 클래스 기초 활용"
   ]
  },
  {
   "cell_type": "code",
   "execution_count": null,
   "metadata": {},
   "outputs": [],
   "source": [
    "from turtle import Turtle, Screen\n",
    "\n",
    "\n",
    "timmy = Turtle()  #클래스의 첫글자는 대문자로 작성하고 ()를 통해 새로운 객체를 형성\n",
    "print(timmy)\n",
    "timmy.shape(\"turtle\")\n",
    "timmy.color(\"red\")\n",
    "timmy.pendown()\n",
    "for i in range(20):\n",
    "    for i in range(4):\n",
    "        timmy.forward(100)\n",
    "        timmy.right(90)\n",
    "    timmy.left(90)\n",
    "    for i in range(4):\n",
    "        timmy.forward(100)\n",
    "        timmy.left(90)\n",
    "    timmy.right(i*3)\n",
    "\n",
    "my_screen = Screen()\n",
    "print(my_screen.canvheight)\n",
    "my_screen.exitonclick()\n"
   ]
  },
  {
   "attachments": {},
   "cell_type": "markdown",
   "metadata": {},
   "source": [
    "## oop를 이용한 테이블 꾸미기"
   ]
  },
  {
   "cell_type": "code",
   "execution_count": 1,
   "metadata": {},
   "outputs": [
    {
     "name": "stdout",
     "output_type": "stream",
     "text": [
      "\n",
      "\n",
      "|  도시이름 | 도시 번호 |  인구수 | 강수량 |\n",
      "|  Adelaide |      1295 | 1158259 |  600.5 |\n",
      "|    Hobart |      1357 |  205556 |  619.5 |\n",
      "| Melbourne |      1566 | 3806092 |  646.9 |\n",
      "|     Perth |      5386 | 1554769 |  869.4 |\n",
      "|  Brisbane |      5905 | 1857594 | 1146.4 |\n",
      "|    Sydney |      2058 | 4336374 | 1214.8 |\n",
      "|    Darwin |       112 |  120900 | 1714.7 |\n",
      "\n",
      "\n",
      "|  도시이름 | 도시 번호 |  인구수 | 강수량 |\n",
      "|----------:|----------:|--------:|-------:|\n",
      "|  Adelaide |      1295 | 1158259 |  600.5 |\n",
      "|    Hobart |      1357 |  205556 |  619.5 |\n",
      "| Melbourne |      1566 | 3806092 |  646.9 |\n",
      "|     Perth |      5386 | 1554769 |  869.4 |\n",
      "|  Brisbane |      5905 | 1857594 | 1146.4 |\n",
      "|    Sydney |      2058 | 4336374 | 1214.8 |\n",
      "|    Darwin |       112 |  120900 | 1714.7 |\n",
      "\n",
      "\n",
      "|  도시이름 | 도시 번호 |  인구수 | 강수량 |\n",
      "|\u001b[34m-\u001b[0m\u001b[96m\u001b[34m-\u001b[0m\u001b[96m\u001b[34m-\u001b[0m\u001b[96m\u001b[34m-\u001b[0m\u001b[96m\u001b[34m-\u001b[0m\u001b[96m\u001b[34m-\u001b[0m\u001b[96m\u001b[34m-\u001b[0m\u001b[96m\u001b[34m-\u001b[0m\u001b[96m\u001b[34m-\u001b[0m\u001b[96m\u001b[34m-\u001b[0m\u001b[96m\u001b[34m-\u001b[0m\u001b[96:|\u001b[34m-\u001b[0m\u001b[96m\u001b[34m-\u001b[0m\u001b[96m\u001b[34m-\u001b[0m\u001b[96m\u001b[34m-\u001b[0m\u001b[96m\u001b[34m-\u001b[0m\u001b[96m\u001b[34m-\u001b[0m\u001b[96m\u001b[34m-\u001b[0m\u001b[96m\u001b[34m-\u001b[0m\u001b[96m\u001b[34m-\u001b[0m\u001b[96m\u001b[34m-\u001b[0m\u001b[96m\u001b[34m-\u001b[0m\u001b[96:|\u001b[34m-\u001b[0m\u001b[96m\u001b[34m-\u001b[0m\u001b[96m\u001b[34m-\u001b[0m\u001b[96m\u001b[34m-\u001b[0m\u001b[96m\u001b[34m-\u001b[0m\u001b[96m\u001b[34m-\u001b[0m\u001b[96m\u001b[34m-\u001b[0m\u001b[96m\u001b[34m-\u001b[0m\u001b[96m\u001b[34m-\u001b[0m\u001b[96:|\u001b[34m-\u001b[0m\u001b[96m\u001b[34m-\u001b[0m\u001b[96m\u001b[34m-\u001b[0m\u001b[96m\u001b[34m-\u001b[0m\u001b[96m\u001b[34m-\u001b[0m\u001b[96m\u001b[34m-\u001b[0m\u001b[96m\u001b[34m-\u001b[0m\u001b[96m\u001b[34m-\u001b[0m\u001b[96:|\n",
      "|  Adelaide |      1295 | 1158259 |  600.5 |\n",
      "|    Hobart |      1357 |  205556 |  619.5 |\n",
      "| Melbourne |      1566 | 3806092 |  646.9 |\n",
      "|     Perth |      5386 | 1554769 |  869.4 |\n",
      "|  Brisbane |      5905 | 1857594 | 1146.4 |\n",
      "|    Sydney |      2058 | 4336374 | 1214.8 |\n",
      "|    Darwin |       112 |  120900 | 1714.7 |\u001b[0m\n"
     ]
    }
   ],
   "source": [
    "#prettytabel package - https://pypi.org/project/prettytable/\n",
    "\n",
    "from prettytable import PrettyTable, MSWORD_FRIENDLY, MARKDOWN\n",
    "from prettytable.colortable import ColorTable, Themes\n",
    "\n",
    "table = PrettyTable()\n",
    "\n",
    "table.field_names = [\"도시이름\", \"도시 번호\", \"인구수\", \"강수량\"]\n",
    "table.add_rows(\n",
    "    [\n",
    "        [\"Adelaide\", 1295, 1158259, 600.5],\n",
    "        [\"Brisbane\", 5905, 1857594, 1146.4],\n",
    "        [\"Darwin\", 112, 120900, 1714.7],\n",
    "        [\"Hobart\", 1357, 205556, 619.5],\n",
    "        [\"Sydney\", 2058, 4336374, 1214.8],\n",
    "        [\"Melbourne\", 1566, 3806092, 646.9],\n",
    "        [\"Perth\", 5386, 1554769, 869.4],\n",
    "    ]\n",
    ")\n",
    "table.align = \"r\"\n",
    "table.sortby = \"강수량\"\n",
    "table.set_style(MSWORD_FRIENDLY)\n",
    "print(\"\\n\")\n",
    "print(table)\n",
    "\n",
    "table.set_style(MARKDOWN)\n",
    "print(\"\\n\")\n",
    "print(table)\n",
    "\n",
    "# 색 테이블로 변경\n",
    "colortable = ColorTable(theme=Themes.OCEAN)\n",
    "\n",
    "colortable.field_names = [\"도시이름\", \"도시 번호\", \"인구수\", \"강수량\"]\n",
    "colortable.add_rows(\n",
    "    [\n",
    "        [\"Adelaide\", 1295, 1158259, 600.5],\n",
    "        [\"Brisbane\", 5905, 1857594, 1146.4],\n",
    "        [\"Darwin\", 112, 120900, 1714.7],\n",
    "        [\"Hobart\", 1357, 205556, 619.5],\n",
    "        [\"Sydney\", 2058, 4336374, 1214.8],\n",
    "        [\"Melbourne\", 1566, 3806092, 646.9],\n",
    "        [\"Perth\", 5386, 1554769, 869.4],\n",
    "    ]\n",
    ")\n",
    "colortable.align = \"r\"\n",
    "colortable.sortby = \"강수량\"\n",
    "\n",
    "colortable.set_style(MARKDOWN)\n",
    "print(\"\\n\")\n",
    "print(colortable)"
   ]
  }
 ],
 "metadata": {
  "kernelspec": {
   "display_name": "Python 3",
   "language": "python",
   "name": "python3"
  },
  "language_info": {
   "codemirror_mode": {
    "name": "ipython",
    "version": 3
   },
   "file_extension": ".py",
   "mimetype": "text/x-python",
   "name": "python",
   "nbconvert_exporter": "python",
   "pygments_lexer": "ipython3",
   "version": "3.11.1"
  },
  "orig_nbformat": 4,
  "vscode": {
   "interpreter": {
    "hash": "6ecdebf77f2ee3a47348d003f751c63e810ca996c1c68d1179f338200fa83b34"
   }
  }
 },
 "nbformat": 4,
 "nbformat_minor": 2
}
