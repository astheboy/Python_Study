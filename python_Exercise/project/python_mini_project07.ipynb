{
 "cells": [
  {
   "cell_type": "markdown",
   "metadata": {},
   "source": [
    "## 카이사르 암호 만들기"
   ]
  },
  {
   "attachments": {},
   "cell_type": "markdown",
   "metadata": {},
   "source": [
    "### 함수 만들기"
   ]
  },
  {
   "cell_type": "code",
   "execution_count": null,
   "metadata": {},
   "outputs": [],
   "source": [
    "def greet(name):\n",
    "    print(f\"안녕하세요 {name}님\")\n",
    "    print(\"지금은 함수로 출력되고 있습니다.\")\n",
    "    print(f\"{name}님 오늘도 좋은 하루 보내시고 열심히 공부해 보세요.\")\n",
    "\n",
    "print(\"파이썬 함수\")\n",
    "print(\"아래는 함수를 실행한 결과입니다. \")\n",
    "print()\n",
    "user_name = input(\"당신은 이름이 무엇인가요? :\")\n",
    "greet(user_name)\n"
   ]
  },
  {
   "attachments": {},
   "cell_type": "markdown",
   "metadata": {},
   "source": [
    "### 다중 인자 함수"
   ]
  },
  {
   "cell_type": "code",
   "execution_count": null,
   "metadata": {},
   "outputs": [],
   "source": [
    "def greet(name, location):\n",
    "    print(f\"안녕하세요 {name}님\")\n",
    "    print(f\"지금 {location}의 날씨는 어떤가요? \")\n",
    "    print(f\"{location}의 날씨에 상관없이 {name}님 오늘도 좋은 하루 보내시고 열심히 공부해 보세요.\")\n",
    "\n",
    "print(\"파이썬 함수\")\n",
    "print(\"아래는 함수를 실행한 결과입니다. \")\n",
    "print()\n",
    "user_name = input(\"당신은 이름이 무엇인가요? :\")\n",
    "user_location = input(\"당신이 살고 있는 도시는 어디인가요?\")\n",
    "greet(user_name, user_location)"
   ]
  },
  {
   "attachments": {},
   "cell_type": "markdown",
   "metadata": {},
   "source": [
    "### 위치 인자와 키워드 인자"
   ]
  },
  {
   "cell_type": "code",
   "execution_count": null,
   "metadata": {},
   "outputs": [],
   "source": [
    "def greet(name, location):\n",
    "    print(f\"안녕하세요 {name}님\")\n",
    "    print(f\"지금 {location}의 날씨는 어떤가요? \")\n",
    "    print(f\"{location}의 날씨에 상관없이 {name}님 오늘도 좋은 하루 보내시고 열심히 공부해 보세요.\")\n",
    "\n",
    "print(\"파이썬 함수\")\n",
    "print(\"아래는 함수를 실행한 결과입니다. \")\n",
    "print()\n",
    "user_name = input(\"당신은 이름이 무엇인가요? :\")\n",
    "user_location = input(\"당신이 살고 있는 도시는 어디인가요?\")\n",
    "greet(user_location, user_name)  #위치 인자\n",
    "greet(name = user_name, location = user_location)  #키워드 인자"
   ]
  },
  {
   "attachments": {},
   "cell_type": "markdown",
   "metadata": {},
   "source": [
    "### 페인트 칠에 들어가는 캔의 갯수 구하기"
   ]
  },
  {
   "cell_type": "code",
   "execution_count": null,
   "metadata": {},
   "outputs": [],
   "source": [
    "import math\n",
    "\n",
    "def paint_calc(height, width, user_paint):\n",
    "    total_paint = (height * width) / 5 #페인트 1통당 5제곱미터를 칠할 수 있다고 가정할 때 벽을 칠하기 위해 들어갈 페인트 갯수 구하기\n",
    "    # total_paint = round(total_paint, 2)\n",
    "    result = round(total_paint - user_paint, 2)\n",
    "\n",
    "    print(f\"현재 벽을 칠하기 위해서는 페인트가 총 {total_paint}통이 필요합니다.\")\n",
    "    \n",
    "    if result > 0 :\n",
    "        print(f\"당신이 {input_paint}통을 가지고 있기 때문에 페인트가 {result}통 더 필요합니다.\")\n",
    "    elif result == 0 :\n",
    "        print(\"페인트가 딱 맞습니다.\")\n",
    "    else :\n",
    "        print(f\"페인트가 {abs(result)}통 남습니다.\")\n",
    "\n",
    "    return\n",
    "\n",
    "input_height = int(input(\"페인트를 칠한 벽의 높이를 입력해주세요. (단위: m) \"))\n",
    "input_width = int(input(\"벽의 가로 길이를 입력해 주세요.\"))\n",
    "input_paint = int(input(\"당신이 가지고 있는 페인트 통의 갯수를 입력해 주세요.\"))\n",
    "\n",
    "paint_calc(height = input_height, width=input_width, user_paint=input_paint)\n",
    "\n",
    "\n",
    "\n"
   ]
  },
  {
   "attachments": {},
   "cell_type": "markdown",
   "metadata": {},
   "source": [
    "### 소수 체크 프로그램"
   ]
  },
  {
   "cell_type": "code",
   "execution_count": null,
   "metadata": {},
   "outputs": [],
   "source": [
    "\n",
    "\n",
    "def prime_checker(number):\n",
    "    n_check = True\n",
    "    for n in range(2, number): #1과 자신을 제외한 숫자의 나눗셈에서 나머지가 나오는지 확인\n",
    "        if number % n == 0 : #나누어 떨어지면 소수가 아니다.\n",
    "            n_check = False\n",
    "    \n",
    "    if n_check == True :  # True 이면 즉 나누어 떨어지지 않으면\n",
    "        print(f\"당신이 입력한 {number}는 소수입니다.\")\n",
    "    else:\n",
    "        print(f\"당신이 입력한 {number}는 소수가 아닙니다.\")\n",
    "\n",
    "    return\n",
    "\n",
    "num = int(input(\"소수 여부를 판단하고 싶은 숫자를 입력해 주세요. : \"))\n",
    "\n",
    "prime_checker(num)\n",
    "\n"
   ]
  },
  {
   "attachments": {},
   "cell_type": "markdown",
   "metadata": {},
   "source": [
    "### 카이사르 암호\n",
    "\n",
    "- 참고사이트\n",
    "    - [카이사르 암호](https://ko.wikipedia.org/wiki/%EC%B9%B4%EC%9D%B4%EC%82%AC%EB%A5%B4_%EC%95%94%ED%98%B8)\n",
    "    - [아스키 아트 변환 사이트](https://wepplication.github.io/tools/asciiArtGen/)"
   ]
  },
  {
   "cell_type": "code",
   "execution_count": null,
   "metadata": {},
   "outputs": [],
   "source": [
    "# 알파벳 뽑기\n",
    "import string\n",
    "low_letter_list = list(string.ascii_lowercase)\n",
    "\n",
    "# logo\n",
    "logo = '''\n",
    "  ### #     #####  ### ##    #####     ##### ## ###              ### #    ##  #  ## ###   ###       ### ##  ## ###   \n",
    " ## ##     ## ##  ##  ##   ##   #     ## ##   ##  ##            ## ##    # ###    ##  ##   ## ##   ##  ##    ##  ##  \n",
    "###       ##  ##   ##       ####     ##  ##   #   ##           ###         ##     #   ##   ### ##   ##       #   ##  \n",
    " ##       ######   ####        ###   ######   ##  ##            ##         ##     ##  ##  ###  ##   ####     ##  ##  \n",
    "###  #    ##  ##   ##         # ##   ##  ##   ## ##            ###  #      ##     ## ##    ##  #    ##       ## ##   \n",
    " ##  ##   ##  ##  ###  ##  ### ###   ##  ##   ## #              ##  ##    ###     ##      ##   #   ###  ##   ## #    \n",
    "  ####   ##    ## # ####   # ###    ##    ## ###  ##             ####    #   ##  ## ##    ##  #### # ####   ###  ##  \n",
    "                                                   ##                                                             ## \n",
    "\n",
    "'''\n",
    "\n",
    "# print(low_letter_list)\n",
    "\n",
    "# logo 출력\n",
    "print(logo)\n",
    "\n",
    "# 사용자에게 묻기\n",
    "direction = input(\"암호화를 하려면 'encode' 를 입력하고, 암호를 해제하려면 'decode'를 입력해 주세요. \")\n",
    "user_text = input(\"암호화 또는 복호화 할 당신의 메세지를 입력해 주세요. : \").lower()\n",
    "key_shift = int(input(\"암호화 또는 복호화 키를 숫자로 입력해 주세요. \"))\n",
    "encode_text = \"\"\n",
    "decode_text = \"\"\n",
    "\n",
    "# 암호화 함수\n",
    "def encrypt(text, shift, encode_word):\n",
    "    text = list(text)\n",
    "    for t in text :\n",
    "        a = low_letter_list.index(t) #철자별로 알파벳 리스트의 인덱스 값을 찾는다.\n",
    "        new_index = a + shift\n",
    "        if new_index > 26: #알파벳의 끝에 가까울 경우 인덱스 범위를 초과하는 경우가 발생하므로, 알파벳 총 갯수에서 다시 앞의 인덱스에서 알파벳을 찾도록 연산과정 입력\n",
    "            new_index = shift - (26-a)\n",
    "        encode_word += low_letter_list[new_index] #encode_word 변수에 알파벳 리스트에서 키 값을 더한 인덱스 위치의 알파벳을 찾아 더한다. \n",
    "    print(f\"암호 글자 : {encode_word} , 암호키 : {shift}\")\n",
    "    return \n",
    "\n",
    "# 복호화 함수\n",
    "def decrypt(text, shift, decode_word):\n",
    "    text = list(text)\n",
    "    for i in text :\n",
    "        b = low_letter_list.index(i)\n",
    "        new_index = b - shift\n",
    "        decode_word += low_letter_list[new_index]\n",
    "    print(f\"암호를 푼 글자 : {decode_word}\")\n",
    "    return \n",
    "\n",
    "# 사용자 설정에 따른 프로그램 실행\n",
    "if direction == \"encode\" :\n",
    "    encrypt(text= user_text, shift= key_shift, encode_word=encode_text)\n",
    "elif direction == \"decode\" :\n",
    "    decrypt(text= user_text, shift= key_shift, decode_word=decode_text)\n",
    "else:\n",
    "    print(\"encode 와 decode를 다시 선택해 주시기 바랍니다. \")\n"
   ]
  },
  {
   "attachments": {},
   "cell_type": "markdown",
   "metadata": {},
   "source": [
    "### 카이사르 암호 코드 재구성"
   ]
  },
  {
   "cell_type": "code",
   "execution_count": 6,
   "metadata": {},
   "outputs": [
    {
     "name": "stdout",
     "output_type": "stream",
     "text": [
      "\n",
      " ### #     #####  ### ##    #####     ##### ## ###              ### #    ##  #  ## ###   ###       ### ##  ## ###   \n",
      "## ##     ## ##  ##  ##   ##   #     ## ##   ##  ##            ## ##    # ###    ##  ##   ## ##   ##  ##    ##  ##  \n",
      "###       ##  ##   ##       ####     ##  ##   #   ##           ###         ##     #   ##   ### ##   ##       #   ##  \n",
      "##       ######   ####        ###   ######   ##  ##            ##         ##     ##  ##  ###  ##   ####     ##  ##  \n",
      "###  #    ##  ##   ##         # ##   ##  ##   ## ##            ###  #      ##     ## ##    ##  #    ##       ## ##   \n",
      "##  ##   ##  ##  ###  ##  ### ###   ##  ##   ## #              ##  ##    ###     ##      ##   #   ###  ##   ## #    \n",
      " ####   ##    ## # ####   # ###    ##    ## ###  ##             ####    #   ##  ## ##    ##  #### # ####   ###  ##  \n",
      "                                                  ##                                                             ## \n",
      "\n",
      "\n",
      "입력한 글자 : hello , encode 글자 : czggj , 암호키 : 47\n",
      "입력한 글자 : czggj , decode 글자 : hello , 암호키 : 47\n",
      "Good Bye\n"
     ]
    }
   ],
   "source": [
    " # 알파벳 뽑기\n",
    "import string\n",
    "low_letter_list = list(string.ascii_lowercase)\n",
    "\n",
    "# logo\n",
    "logo = '''\n",
    "  ### #     #####  ### ##    #####     ##### ## ###              ### #    ##  #  ## ###   ###       ### ##  ## ###   \n",
    " ## ##     ## ##  ##  ##   ##   #     ## ##   ##  ##            ## ##    # ###    ##  ##   ## ##   ##  ##    ##  ##  \n",
    "###       ##  ##   ##       ####     ##  ##   #   ##           ###         ##     #   ##   ### ##   ##       #   ##  \n",
    " ##       ######   ####        ###   ######   ##  ##            ##         ##     ##  ##  ###  ##   ####     ##  ##  \n",
    "###  #    ##  ##   ##         # ##   ##  ##   ## ##            ###  #      ##     ## ##    ##  #    ##       ## ##   \n",
    " ##  ##   ##  ##  ###  ##  ### ###   ##  ##   ## #              ##  ##    ###     ##      ##   #   ###  ##   ## #    \n",
    "  ####   ##    ## # ####   # ###    ##    ## ###  ##             ####    #   ##  ## ##    ##  #### # ####   ###  ##  \n",
    "                                                   ##                                                             ## \n",
    "\n",
    "'''\n",
    "\n",
    "# print(low_letter_list)\n",
    "\n",
    "# logo 출력\n",
    "print(logo)\n",
    "\n",
    "# 프로그램 실행\n",
    "restart_q = \"yes\"\n",
    "\n",
    "# 암호화 함수\n",
    "def caesar(text, shift, direction):\n",
    "    s_text = text\n",
    "    text = list(text)\n",
    "    new_word = \"\"\n",
    "    f_shift = shift % 26  # 26이상의 큰수를 입력해도 나머지를 처리하여 알맞은 인수값을 처리할 수 있음.\n",
    "\n",
    "    if direction != \"encode\" and direction != \"decode\":\n",
    "        print(\"encode 또는 decode를 정확히 입력해 주세요\")\n",
    "        return\n",
    "\n",
    "    if direction == \"decode\" :\n",
    "        f_shift = f_shift * -1\n",
    "\n",
    "    for letter in text :\n",
    "        start_index = low_letter_list.index(letter) #철자별로 알파벳 리스트의 인덱스 값을 찾는다.\n",
    "        new_index = start_index + f_shift\n",
    "        if new_index > 26: #알파벳의 끝에 가까울 경우 인덱스 범위를 초과하는 경우가 발생하므로, 알파벳 총 갯수에서 다시 앞의 인덱스에서 알파벳을 찾도록 연산과정 입력\n",
    "            new_index = f_shift - (26 - start_index)\n",
    "        new_word += low_letter_list[new_index] #new_word 변수에 알파벳 리스트에서 키 값을 더한 인덱스 위치의 알파벳을 찾아 더한다. \n",
    "    print(f\"입력한 글자 : {s_text} , {direction} 글자 : {new_word} , 암호키 : {abs(shift)}\")\n",
    "    return\n",
    "\n",
    "# 프로그램 실행\n",
    "while restart_q == \"yes\" :\n",
    "    user_direction = input(\"암호화를 하려면 'encode' 를 입력하고, 암호를 해제하려면 'decode'를 입력해 주세요. \").lower()\n",
    "    user_text = input(\"암호화 또는 복호화 할 당신의 메세지를 입력해 주세요. : \").lower()\n",
    "    key_shift = int(input(\"암호화 또는 복호화 키를 숫자로 입력해 주세요. \"))\n",
    "\n",
    "    caesar(text=user_text, shift=key_shift, direction=user_direction)\n",
    "\n",
    "    restart_q = input(\"프로그램을 다시 실행하길 원하시면 'yes'를 입력하고 그렇지 않으면 'no'를 입력해 주세요.\").lower()\n",
    "\n",
    "print(\"Good Bye\")"
   ]
  },
  {
   "cell_type": "code",
   "execution_count": null,
   "metadata": {},
   "outputs": [],
   "source": []
  }
 ],
 "metadata": {
  "kernelspec": {
   "display_name": "Python 3",
   "language": "python",
   "name": "python3"
  },
  "language_info": {
   "codemirror_mode": {
    "name": "ipython",
    "version": 3
   },
   "file_extension": ".py",
   "mimetype": "text/x-python",
   "name": "python",
   "nbconvert_exporter": "python",
   "pygments_lexer": "ipython3",
   "version": "3.11.0 (main, Oct 26 2022, 19:06:18) [Clang 14.0.0 (clang-1400.0.29.202)]"
  },
  "orig_nbformat": 4,
  "vscode": {
   "interpreter": {
    "hash": "6ecdebf77f2ee3a47348d003f751c63e810ca996c1c68d1179f338200fa83b34"
   }
  }
 },
 "nbformat": 4,
 "nbformat_minor": 2
}
