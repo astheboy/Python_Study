{
 "cells": [
  {
   "cell_type": "markdown",
   "metadata": {},
   "source": [
    "## 윤년 계산하기\n",
    "\n",
    "### 윤년 계산원리\n",
    "1. 4로 나누어 떨어지는 해는 윤년으로 한다.(1988, 1992, 1996, ...) -> 4로 나누어 떨어지지 않으면 평년이다.\n",
    "2. 4, 100으로 나누어 떨어지는 해는 평년으로 한다.(1700, 1800, 1900, ...) -> 4로 나누어 떨어지지만 100으로 나누어 떨어지지 않는 해는 윤년이다.\n",
    "3. 4, 100, 400으로 나누어 떨어지는 해는 윤년으로 둔다.(1600, 2000, 2400, ...) -> 4, 100, 400으로 모두 나누어 떨어지는 해는 윤년이다."
   ]
  },
  {
   "cell_type": "markdown",
   "metadata": {},
   "source": [
    "### 다중 if 문\n",
    "\n",
    "형태1) 각 조건이 참이라면 모두 실행\n",
    "\n",
    "```\n",
    "if 조건 :\n",
    "    do this\n",
    "if 조건 :\n",
    "    do this\n",
    "```\n",
    "형태2) 첫 조건이 아니면 두 번째 조건 또는 세 번째 조건 실행\n",
    "\n",
    "```\n",
    "if 조건 :\n",
    "    do this\n",
    "elif 조건 :\n",
    "    do this\n",
    "else :\n",
    "    do this\n",
    "```\n",
    "\n",
    "형태3) 첫 조건이 맞으면 하위 조건 실행\n",
    "\n",
    "```\n",
    "if 조건 :\n",
    "    if 조건 :\n",
    "        do this\n",
    "    else :\n",
    "        do this\n",
    "else :\n",
    "    do this\n",
    "```\n",
    "\n",
    "형태4) 여러 조건이 같이 실행될 때\n",
    "\n",
    "```\n",
    "if 조건1 & 조건2 & 조건3 :\n",
    "    do this\n",
    "```"
   ]
  },
  {
   "cell_type": "code",
   "execution_count": 45,
   "metadata": {},
   "outputs": [
    {
     "name": "stdout",
     "output_type": "stream",
     "text": [
      "당신이 입력한 2022은 평년입니다.\n"
     ]
    }
   ],
   "source": [
    "# 윤년을 알고 싶은 해 입력 받기\n",
    "leap_year = int(input(\"윤년이 맞는지 알고 싶은 년도를 4자리 숫자로만 입력해 주세요. (예) 1980 : \"))\n",
    "\n",
    "if leap_year % 4 == 0 :\n",
    "    if leap_year % 100 == 0 :\n",
    "        if leap_year % 400 == 0 :\n",
    "            print(f\"당신이 입력한 {leap_year}은 윤년입니다.\")\n",
    "        else:\n",
    "            print(f\"당신이 입력한 {leap_year}은 평년입니다.\")\n",
    "    else:\n",
    "        print(f\"당신이 입력한 {leap_year}은 윤년입니다.\")\n",
    "else:\n",
    "    print(f\"당신이 입력한 {leap_year}은 평년입니다.\")"
   ]
  },
  {
   "cell_type": "markdown",
   "metadata": {},
   "source": [
    "## 피지값 계산 프로그램"
   ]
  },
  {
   "cell_type": "markdown",
   "metadata": {},
   "source": [
    "### 개발 내용\n",
    "\n",
    "- 피자 크기 선택\n",
    "    - small pizza : 10,000원\n",
    "    - medium pizza : 15,000원\n",
    "    - large pizza : 20,000원\n",
    "\n",
    "- 페퍼로니 추가\n",
    "    - small pizza : 2,000원\n",
    "    - medium pizza : 3,000원\n",
    "    - large pizza : 3,000원\n",
    "\n",
    "- 치즈 추가\n",
    "    - 치즈 추가 : 1,000원"
   ]
  },
  {
   "cell_type": "code",
   "execution_count": 55,
   "metadata": {},
   "outputs": [
    {
     "name": "stdout",
     "output_type": "stream",
     "text": [
      "당신이 선택한 피자 사이즈는 L입니다.\n",
      "추가 토핑으로 페퍼로니와 치즈를 선택하였습니다.\n",
      "최종 피자 비용은 22000.0원 입니다.\n"
     ]
    }
   ],
   "source": [
    "# 메뉴 선택\n",
    "\n",
    "size = input(\"피자 사이즈를 선택해 주세요. 예) S, M, L : \")\n",
    "pepperoni = input(\"페퍼로니를 추가하시겠어요? 예) Y, N : \")\n",
    "cheese = input(\"치즈를 추가하시겠어요? 예) Y, N : \")\n",
    "event_age = int(input(\"이벤트 중입니다. 현재 나이를 입력해 주세요. 예) 40 : \"))\n",
    "cost = 0\n",
    "\n",
    "# 계산하기\n",
    "if size == \"S\" :\n",
    "    cost += 10000\n",
    "elif size == \"M\" :\n",
    "    cost += 15000\n",
    "elif size == \"L\" :\n",
    "    cost += 20000\n",
    "\n",
    "if event_age >= 40 and event_age < 50 :\n",
    "    cost = cost * 0.9\n",
    "\n",
    "if pepperoni == \"Y\" :\n",
    "    if size == \"S\" :\n",
    "        cost += 2000\n",
    "    else :\n",
    "        cost += 3000\n",
    "\n",
    "if cheese == \"Y\" :\n",
    "    cost += 1000\n",
    "        \n",
    "print(f\"당신이 선택한 피자 사이즈는 {size}입니다.\")\n",
    "if pepperoni == \"Y\" :\n",
    "    if cheese == \"Y\" :\n",
    "        print(\"추가 토핑으로 페퍼로니와 치즈를 선택하였습니다.\")\n",
    "    else :\n",
    "        print(\"추가 토핑으로 페퍼로니를 선택하였습니다.\")\n",
    "else :\n",
    "    if cheese == \"Y\" :\n",
    "        print(\"추가 토핑으로 치즈를 선택하였습니다.\")\n",
    "    else :\n",
    "        print(\"추가 토핑을 선택하지 않았습니다.\")\n",
    "\n",
    "print(f\"최종 피자 비용은 {cost}원 입니다.\")"
   ]
  },
  {
   "cell_type": "markdown",
   "metadata": {},
   "source": [
    "## 사랑 계산기"
   ]
  },
  {
   "cell_type": "markdown",
   "metadata": {},
   "source": [
    "### 소문자 변환과 카운트"
   ]
  },
  {
   "cell_type": "code",
   "execution_count": 61,
   "metadata": {},
   "outputs": [
    {
     "name": "stdout",
     "output_type": "stream",
     "text": [
      "STEVe\n",
      "1\n",
      "steve\n",
      "2\n"
     ]
    }
   ],
   "source": [
    "# 영어 이름의 철자 카운트 세기\n",
    "name = \"STEVe\"\n",
    "print(name)\n",
    "print(name.count(\"e\")) #소문자 e의 카운트\n",
    "lower_name = name.lower() # 대문자를 소문자로 변환\n",
    "print(lower_name)\n",
    "print(lower_name.count(\"e\")) #소문자 e 카운트"
   ]
  },
  {
   "cell_type": "markdown",
   "metadata": {},
   "source": [
    "### 프로그램 1"
   ]
  },
  {
   "cell_type": "code",
   "execution_count": 63,
   "metadata": {},
   "outputs": [
    {
     "name": "stdout",
     "output_type": "stream",
     "text": [
      "사랑 계산기 프로그램입니다. \n",
      "당신의 이름은 : angel Yu\n",
      "상대편의 이름은 : Jack Bauer\n",
      "당신과 상대편의 사랑지수는 53입니다. 노력이 필요해요. 더 친해져보려고 하세요.\n"
     ]
    }
   ],
   "source": [
    "print(\"사랑 계산기 프로그램입니다. \")\n",
    "\n",
    "# 영어 이름 입력\n",
    "name1 = input(\"당신의 영어 이름을 입력해 주세요. : \")\n",
    "name2 = input(\"상대편의 영어 이름을 입력해 주세요. : \")\n",
    "\n",
    "lower_name1 = name1.lower()\n",
    "lower_name2 = name2.lower()\n",
    "\n",
    "t_letter_count = lower_name1.count(\"t\") + lower_name2.count(\"t\")\n",
    "r_letter_count = lower_name1.count(\"r\") + lower_name2.count(\"r\")\n",
    "u_letter_count = lower_name1.count(\"u\") + lower_name2.count(\"u\")\n",
    "e_letter_count = lower_name1.count(\"e\") + lower_name2.count(\"e\")\n",
    "\n",
    "true_count_sum = t_letter_count + r_letter_count + u_letter_count + e_letter_count\n",
    "\n",
    "l_letter_count = lower_name1.count(\"l\") + lower_name2.count(\"l\")\n",
    "o_letter_count = lower_name1.count(\"o\") + lower_name2.count(\"o\")\n",
    "v_letter_count = lower_name1.count(\"v\") + lower_name2.count(\"v\")\n",
    "e_letter_count = lower_name1.count(\"e\") + lower_name2.count(\"e\")\n",
    "\n",
    "love_count_sum = l_letter_count + o_letter_count + v_letter_count + e_letter_count\n",
    "\n",
    "love_calcultor = str(true_count_sum) + str(love_count_sum)\n",
    "\n",
    "print(\"당신의 이름은 : \" + name1)\n",
    "print(\"상대편의 이름은 : \" + name2)\n",
    "\n",
    "if int(love_calcultor) > 90 :\n",
    "    print(\"와우! 당신과 상대편의 사랑 지수는\" + love_calcultor + \"입니다. 매우 좋은 관계에요.\")\n",
    "elif int(love_calcultor) > 60 and int(love_calcultor) <= 90 :\n",
    "    print(\"당신과 상대편의 사랑 지수는 \" + love_calcultor + \"입니다. 관계를 더 돈독하게 해보세요.\")\n",
    "elif int(love_calcultor) <= 60 :\n",
    "    print(\"당신과 상대편의 사랑지수는 \" + love_calcultor + \"입니다. 노력이 필요해요. 더 친해져보려고 하세요.\")\n",
    "\n"
   ]
  },
  {
   "cell_type": "markdown",
   "metadata": {},
   "source": [
    "### 프로그램 2"
   ]
  },
  {
   "cell_type": "code",
   "execution_count": 65,
   "metadata": {},
   "outputs": [
    {
     "name": "stdout",
     "output_type": "stream",
     "text": [
      "사랑 계산기 프로그램입니다. \n",
      "당신의 이름은 : Angela Yu\n",
      "상대편의 이름은 : Jack Bauer\n",
      "당신과 상대편의 사랑지수는 53입니다. 노력이 필요해요. 더 친해져보려고 하세요.\n"
     ]
    }
   ],
   "source": [
    "print(\"사랑 계산기 프로그램입니다. \")\n",
    "\n",
    "# 영어 이름 입력\n",
    "name1 = input(\"당신의 영어 이름을 입력해 주세요. : \")\n",
    "name2 = input(\"상대편의 영어 이름을 입력해 주세요. : \")\n",
    "\n",
    "combined_name = name1 + name2  #두 이름을 결합하여 새로운 문자열 만듬\n",
    "lower_name = combined_name.lower()\n",
    "\n",
    "true_letter_count = [lower_name.count(\"t\"), lower_name.count(\"r\"), lower_name.count(\"u\"), lower_name.count(\"e\")] #true 철자의 갯수를 리스트로 입력\n",
    "love_letter_count = [lower_name.count(\"l\"), lower_name.count(\"o\"), lower_name.count(\"v\"), lower_name.count(\"e\")] #love 철자의 갯수를 리스트로 입력\n",
    "\n",
    "true_count_sum = sum(true_letter_count) #sum을 이용하여 리스트 합 구하기\n",
    "love_count_sum = sum(love_letter_count)\n",
    "\n",
    "love_calcultor = str(true_count_sum) + str(love_count_sum) #정수를 문자열로 변환하여 결합\n",
    "\n",
    "print(\"당신의 이름은 : \" + name1)\n",
    "print(\"상대편의 이름은 : \" + name2)\n",
    "\n",
    "if int(love_calcultor) > 90 or int(love_calcultor) < 10 :\n",
    "    print(\"와우! 당신과 상대편의 사랑 지수는\" + love_calcultor + \"입니다. 매우 좋은 관계에요.\")\n",
    "elif int(love_calcultor) >= 40 and int(love_calcultor) <= 50 :\n",
    "    print(\"당신과 상대편의 사랑 지수는 \" + love_calcultor + \"입니다. 관계를 더 돈독하게 해보세요.\")\n",
    "else :\n",
    "    print(\"당신과 상대편의 사랑지수는 \" + love_calcultor + \"입니다. 노력이 필요해요. 더 친해져보려고 하세요.\")"
   ]
  },
  {
   "cell_type": "markdown",
   "metadata": {},
   "source": [
    "## 랜덤 선택 게임"
   ]
  },
  {
   "cell_type": "code",
   "execution_count": 1,
   "metadata": {},
   "outputs": [
    {
     "name": "stdout",
     "output_type": "stream",
     "text": [
      "랜덤 선택 게임입니다. 당신의 선택은?\n",
      "당신은 오른쪽을 선택했군요. 길이 끊겼습니다. 게임을 종료합니다.\n"
     ]
    }
   ],
   "source": [
    "import random #random 라이브러리 불러오기\n",
    "\n",
    "conditions = {\"direction\":[\"왼쪽\", \"오른쪽\"], \"swim\":[\"수영\", \"기다림\"], \"color\":[\"빨강\", \"파랑\"]} #conditions 딕셔너리 만들기\n",
    "# print(conditions)\n",
    "\n",
    "print(\"랜덤 선택 게임입니다. 당신의 선택은?\")\n",
    "\n",
    "answer = input(\"지금 당신 앞에 갈림길이 있습니다. 어느 방향으로 갈 것인지 결정해 보세요. (왼쪽 또는 오른쪽) : \") #첫번째 선택\n",
    "# i = random.randrange(1, 2) #컴퓨터 무작위 선택\n",
    "if random.choice(conditions[\"direction\"]) == answer : #딕셔너리의 리스트 값 중에 무작위로 선택된 내용과 사용자가 선택한 값이 맞는지 확인\n",
    "    print(f\"당신은 {answer}을 선택했군요. 다행입니다. 방향을 잘 잡았어요.\")\n",
    "    answer = input(\"앞에 강이 있습니다. 뒤에서 늑대가 쫓아오는데 수영을 해서 강을 건너겠습니까? 아니면 배를 기다리겠습니까? (수영 또는 기다림) : \")\n",
    "    # i = random.randrange(1, 2)\n",
    "    if random.choice(conditions[\"swim\"]) == answer : #두번째 선택\n",
    "        print(f\"당신은 {answer}을 선택했군요. 다행입니다. 성공적으로 강을 건넜어요.\")\n",
    "        answer = input(\"힘들게 목적지에 도착했는데 두 개의 문이 있습니다. 어떤 색의 문을 선택하겠습니까? (빨강 또는 파랑) : \")\n",
    "        # i = random.randrange(1, 2)\n",
    "        if random.choice(conditions[\"color\"]) == answer : #세번째 선택\n",
    "            print(f\"당신은 {answer}을 선택했군요. 당신의 선택이 옳았어요. 당신은 보물을 얻었습니다. 축하합니다.\")\n",
    "        else :\n",
    "            print(f\"당신은 {answer}을 선택했군요. 하지만 그 문은 감옥이었습니다. 게임을 종료합니다.\")\n",
    "    else :\n",
    "        print(f\"당신은 {answer}을 선택했군요. 당신은 죽었습니다. 게임을 종료합니다.\")\n",
    "else :\n",
    "    print(f\"당신은 {answer}을 선택했군요. 길이 끊겼습니다. 게임을 종료합니다.\")\n",
    "\n"
   ]
  }
 ],
 "metadata": {
  "kernelspec": {
   "display_name": "Python 3 (ipykernel)",
   "language": "python",
   "name": "python3"
  },
  "language_info": {
   "codemirror_mode": {
    "name": "ipython",
    "version": 3
   },
   "file_extension": ".py",
   "mimetype": "text/x-python",
   "name": "python",
   "nbconvert_exporter": "python",
   "pygments_lexer": "ipython3",
   "version": "3.9.13"
  },
  "vscode": {
   "interpreter": {
    "hash": "1a78b5adbb636a1457b0c5d4cfcb2ac4d0cae006dda14d7173991df069a98825"
   }
  }
 },
 "nbformat": 4,
 "nbformat_minor": 2
}
