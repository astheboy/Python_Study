{
 "cells": [
  {
   "cell_type": "markdown",
   "metadata": {},
   "source": [
    "## 함수 중급"
   ]
  },
  {
   "attachments": {},
   "cell_type": "markdown",
   "metadata": {},
   "source": [
    "### 출력과 함수"
   ]
  },
  {
   "cell_type": "code",
   "execution_count": 2,
   "metadata": {},
   "outputs": [
    {
     "data": {
      "text/plain": [
       "105"
      ]
     },
     "execution_count": 2,
     "metadata": {},
     "output_type": "execute_result"
    }
   ],
   "source": [
    "def my_function(a,b):\n",
    "    result=  a * b\n",
    "    return result\n",
    "\n",
    "a = int(input(\"첫번째 숫자 :\"))\n",
    "b = int(input(\"두번째 숫자 :\"))\n",
    "\n",
    "my_function(a,b)\n"
   ]
  },
  {
   "attachments": {},
   "cell_type": "markdown",
   "metadata": {},
   "source": [
    "### 첫 글자를 대문자로 변환하기"
   ]
  },
  {
   "cell_type": "code",
   "execution_count": 21,
   "metadata": {},
   "outputs": [
    {
     "name": "stdout",
     "output_type": "stream",
     "text": [
      "입력한 텍스트 : i’m late right now. take the shortest way, please.\n",
      "변환한 텍스트 : I’m Late Right Now. Take The Shortest Way, Please. \n",
      "title()함수 이용\n",
      "title()함수 이용 변환 : I’M Late Right Now. Take The Shortest Way, Please.\n"
     ]
    }
   ],
   "source": [
    "# 텍스트를 띄어쓰기별로 잘라 리스트로 변환 후 첫글자를 대문자로 변경하는 함수\n",
    "def format_text(text):\n",
    "    result = \"\"\n",
    "    if text == \"\":\n",
    "        return \"변환할 텍스트를 입력해 주세요.\"\n",
    "    text_list = text.split(\" \")\n",
    "    for stext in text_list :\n",
    "        stext = stext[0:1].upper()+stext[1:]\n",
    "        result += stext + \" \"\n",
    "    # f_name = name_list[0]\n",
    "    # l_name = name_list[1]\n",
    "    # f_name = f_name[0:1].upper()+f_name[1:]\n",
    "    # l_name = l_name[0:1].upper()+l_name[1:]\n",
    "    # result = f_name +\" \"+ l_name\n",
    "    # print(f\"입력한 이름 : {text}\")\n",
    "    # print(f\"변환한 이름 : {result}\")\n",
    "    return f\"입력한 텍스트 : {text}\\n변환한 텍스트 : {result}\"\n",
    "\n",
    "text = input(\"영어 문장을 입력해주세요. 단어의 첫글자를 대문자로 변환합니다.\")\n",
    "text = text.lower()\n",
    "print(format_text(text)) #print()로 함수의 return 내용을 출력\n",
    "\n",
    "# title() 함수\n",
    "print(\"title()함수 이용\")\n",
    "title_result = text.title()\n",
    "print(f\"title()함수 이용 변환 : {title_result}\")"
   ]
  },
  {
   "attachments": {},
   "cell_type": "markdown",
   "metadata": {},
   "source": [
    "### 월별 일수 출력하기"
   ]
  },
  {
   "cell_type": "code",
   "execution_count": 34,
   "metadata": {},
   "outputs": [
    {
     "name": "stdout",
     "output_type": "stream",
     "text": [
      "2000년 2월의 일수는 29일입니다.\n"
     ]
    }
   ],
   "source": [
    "# 윤년 계산 함수\n",
    "def leapyear(year):\n",
    "    \"\"\"윤년을 계산하는 함수\"\"\"  #독스트링\n",
    "    if year % 4 == 0 :\n",
    "        if year % 100 == 0 :\n",
    "            if year % 400 == 0 :\n",
    "                return True\n",
    "                # print(f\"당신이 입력한 {year}은 윤년입니다.\")\n",
    "            else:\n",
    "                return False\n",
    "                # print(f\"당신이 입력한 {year}은 평년입니다.\")\n",
    "        else:\n",
    "            return True\n",
    "            # print(f\"당신이 입력한 {year}은 윤년입니다.\")\n",
    "    else:\n",
    "        return False\n",
    "        # print(f\"당신이 입력한 {year}은 평년입니다.\")\n",
    "\n",
    "#월별 일수 리스트\n",
    "def days_in_month(year, month):\n",
    "    \"\"\"해당 년도의 일수를 호출하는 함수\"\"\"  #독스트링\n",
    "    #윤년 함수 호출\n",
    "    if leapyear(year) and month == 2 :\n",
    "        return f\"{year}년 {month}월의 일수는 29일입니다.\"\n",
    "    else:\n",
    "        return f\"{year}년 {month}월의 일수는 {month_days[month-1]}일입니다.\"\n",
    "\n",
    "#사용자부터 질의\n",
    "month_days= [31, 28, 31, 30, 31, 30, 31, 31, 30, 31, 30, 31]\n",
    "\n",
    "year = int(input(\"년도를 4자리 숫자로만 입력해 주세요. (예) 1980 : \"))\n",
    "month = int(input(\"일수를 알고 있는 월을 숫자로 입력해 주세요. :\"))\n",
    "\n",
    "#결과값 출력\n",
    "print(days_in_month(year, month))\n"
   ]
  },
  {
   "attachments": {},
   "cell_type": "markdown",
   "metadata": {},
   "source": [
    "### 내가 직접 만든 계산기 프로그램"
   ]
  },
  {
   "cell_type": "code",
   "execution_count": 47,
   "metadata": {},
   "outputs": [
    {
     "name": "stdout",
     "output_type": "stream",
     "text": [
      "1번째 계산결과 : 15\n",
      "2번째 계산결과 : 375\n",
      "3번째 계산결과 : 125.0\n",
      "계산 프로그램을 종료합니다.\n"
     ]
    }
   ],
   "source": [
    "logo = '''\n",
    " _____________________\n",
    "|  _________________  |     \n",
    "| | JO           0. | |\n",
    "| |_________________| |\n",
    "|  ___ ___ ___   ___  |\n",
    "| | 7 | 8 | 9 | | + | |\n",
    "| |___|___|___| |___| |      \n",
    "| | 4 | 5 | 6 | | - | |\n",
    "| |___|___|___| |___| |\n",
    "| | 1 | 2 | 3 | | x | |\n",
    "| |___|___|___| |___| |\n",
    "| | . | 0 | = | | / | |\n",
    "| |___|___|___| |___| |\n",
    "|_____________________| \n",
    "\n",
    "'''\n",
    "print(logo)\n",
    "# 계산 순서 지정\n",
    "repeat = True\n",
    "\n",
    "# 계산기 연산 함수\n",
    "def num_calculate(f_num, l_num, operation):\n",
    "    if operation == \"+\" :\n",
    "        result = f_num + l_num\n",
    "        return result\n",
    "    if operation == \"-\" :\n",
    "        result = f_num - l_num\n",
    "        return result\n",
    "    if operation == \"*\" :\n",
    "        result = f_num * l_num\n",
    "        return result\n",
    "    if operation == \"/\" :\n",
    "        result = f_num / l_num\n",
    "        return result\n",
    "\n",
    "def calculator(f_num, l_num, operation):\n",
    "    result_dic ={}\n",
    "    result_dic[\"계산결과\"] = num_calculate(f_num, l_num, operation)\n",
    "    return result_dic['계산결과']\n",
    "\n",
    "index = 1\n",
    "while repeat :\n",
    "    if index == 1:\n",
    "        f_num = int(input(\"첫번째 숫자를 입력해 주세요. :\"))\n",
    "        operation = input(\"계산할 연산 기호를 입력해 주세요.(+, -, *, /) :\")\n",
    "        l_num = int(input(\"두번째 숫자를 입력해 주세요. :\"))\n",
    "\n",
    "    else:\n",
    "        user_repeat = input(f\"계산 결과 {cal_result}에 이어서 계산할까요? 예 = y 또는 아니오 = n \")\n",
    "        if user_repeat == \"n\":\n",
    "            break\n",
    "        f_num = cal_result\n",
    "        operation = input(\"계산할 연산 기호를 입력해 주세요.(+, -, *, /) :\")\n",
    "        l_num = int(input(\"숫자를 입력해 주세요. :\"))\n",
    "\n",
    "    cal_result = calculator(f_num=f_num, l_num=l_num, operation=operation)\n",
    "    \n",
    "    print(f\"{index}번째 계산결과 : {cal_result}\")\n",
    "    index +=1\n",
    "\n",
    "print(\"계산 프로그램을 종료합니다.\")"
   ]
  },
  {
   "attachments": {},
   "cell_type": "markdown",
   "metadata": {},
   "source": [
    "### Udemy 강의 계산기 프로그램"
   ]
  },
  {
   "cell_type": "code",
   "execution_count": 11,
   "metadata": {},
   "outputs": [
    {
     "name": "stdout",
     "output_type": "stream",
     "text": [
      "\n",
      " _____________________\n",
      "|  _________________  |     \n",
      "| | JO           0. | |\n",
      "| |_________________| |\n",
      "|  ___ ___ ___   ___  |\n",
      "| | 7 | 8 | 9 | | + | |\n",
      "| |___|___|___| |___| |      \n",
      "| | 4 | 5 | 6 | | - | |\n",
      "| |___|___|___| |___| |\n",
      "| | 1 | 2 | 3 | | x | |\n",
      "| |___|___|___| |___| |\n",
      "| | . | 0 | = | | / | |\n",
      "| |___|___|___| |___| |\n",
      "|_____________________| \n",
      "\n",
      "\n",
      "+\n",
      "-\n",
      "*\n",
      "/\n",
      "5.0 + 0.2 = 5.2\n",
      "5.2 * 15.0 = 78.0\n",
      "+\n",
      "-\n",
      "*\n",
      "/\n",
      "75.0 / 4.0 = 18.75\n",
      "계산기를 종료합니다.\n"
     ]
    },
    {
     "ename": "ValueError",
     "evalue": "could not convert string to float: ''",
     "output_type": "error",
     "traceback": [
      "\u001b[0;31m---------------------------------------------------------------------------\u001b[0m",
      "\u001b[0;31mValueError\u001b[0m                                Traceback (most recent call last)",
      "Cell \u001b[0;32mIn[11], line 69\u001b[0m\n\u001b[1;32m     66\u001b[0m             should_continue \u001b[39m=\u001b[39m \u001b[39mFalse\u001b[39;00m\n\u001b[1;32m     67\u001b[0m     \u001b[39mreturn\u001b[39;00m \u001b[39mprint\u001b[39m(\u001b[39m\"\u001b[39m\u001b[39m계산기를 종료합니다.\u001b[39m\u001b[39m\"\u001b[39m)\n\u001b[0;32m---> 69\u001b[0m calculator()\n",
      "Cell \u001b[0;32mIn[11], line 53\u001b[0m, in \u001b[0;36mcalculator\u001b[0;34m()\u001b[0m\n\u001b[1;32m     51\u001b[0m \u001b[39mwhile\u001b[39;00m should_continue :\n\u001b[1;32m     52\u001b[0m     operation_symbol \u001b[39m=\u001b[39m \u001b[39minput\u001b[39m(\u001b[39m\"\u001b[39m\u001b[39m계산할 연산 기호를 입력해 주세요. :\u001b[39m\u001b[39m\"\u001b[39m)\n\u001b[0;32m---> 53\u001b[0m     num2 \u001b[39m=\u001b[39m \u001b[39mfloat\u001b[39m(\u001b[39minput\u001b[39m(\u001b[39m\"\u001b[39m\u001b[39m다음 숫자를 입력해 주세요. :\u001b[39m\u001b[39m\"\u001b[39m))\n\u001b[1;32m     54\u001b[0m     \u001b[39m#operation 딕셔너리에서 해당 연산기호의 함수이름을 calculation_function에 입력\u001b[39;00m\n\u001b[1;32m     55\u001b[0m     calculation_function \u001b[39m=\u001b[39m operation[operation_symbol]\n",
      "\u001b[0;31mValueError\u001b[0m: could not convert string to float: ''"
     ]
    }
   ],
   "source": [
    "logo = '''\n",
    " _____________________\n",
    "|  _________________  |     \n",
    "| | JO           0. | |\n",
    "| |_________________| |\n",
    "|  ___ ___ ___   ___  |\n",
    "| | 7 | 8 | 9 | | + | |\n",
    "| |___|___|___| |___| |      \n",
    "| | 4 | 5 | 6 | | - | |\n",
    "| |___|___|___| |___| |\n",
    "| | 1 | 2 | 3 | | x | |\n",
    "| |___|___|___| |___| |\n",
    "| | . | 0 | = | | / | |\n",
    "| |___|___|___| |___| |\n",
    "|_____________________| \n",
    "\n",
    "'''\n",
    "print(logo)\n",
    "\n",
    "#더하기\n",
    "def add(n1, n2):\n",
    "    return n1 + n2\n",
    "\n",
    "#빼기\n",
    "def subtract(n1, n2):\n",
    "    return n1 - n2\n",
    "\n",
    "#곱하기\n",
    "def multiply(n1, n2):\n",
    "    return n1 * n2\n",
    "\n",
    "#나누기\n",
    "def divide(n1, n2):\n",
    "    return n1 / n2\n",
    "\n",
    "#연산 딕셔너리\n",
    "#연산기호에 따라 함수를 값으로 연결\n",
    "operation = {\n",
    "\"+\":add,\n",
    "\"-\":subtract,\n",
    "\"*\":multiply,\n",
    "\"/\":divide\n",
    "} \n",
    "\n",
    "def calculator():\n",
    "    num1 = float(input(\"첫번째 숫자를 입력해 주세요. :\"))\n",
    "    for symbol in operation:  #operation 딕셔너리에서 for 반복문으로 키값 출력\n",
    "        print(symbol)\n",
    "    should_continue = True\n",
    "\n",
    "    while should_continue :\n",
    "        operation_symbol = input(\"계산할 연산 기호를 입력해 주세요. :\")\n",
    "        num2 = float(input(\"다음 숫자를 입력해 주세요. :\"))\n",
    "        #operation 딕셔너리에서 해당 연산기호의 함수이름을 calculation_function에 입력\n",
    "        calculation_function = operation[operation_symbol]\n",
    "        #calculation_function에 입력된 숫자 두개(num1, num2)추가하여 answer변수에 저장\n",
    "        answer = calculation_function(num1, num2)\n",
    "\n",
    "        print(f\"{num1} {operation_symbol} {num2} = {answer}\")\n",
    "        re_continue = input(\"이어서 계산할까요? 예 = y , 아니오 = n, 다시 시작 = new \")\n",
    "        if re_continue == \"y\" :\n",
    "            num1 = answer\n",
    "        elif re_continue == \"new\":\n",
    "            calculator() #자신의 함수를 다시 호출하여 새로운 계산을 할 수 있도록 함\n",
    "        elif re_continue == \"n\" :\n",
    "            should_continue = False\n",
    "    return print(\"계산기를 종료합니다.\")\n",
    "\n",
    "calculator()\n"
   ]
  }
 ],
 "metadata": {
  "kernelspec": {
   "display_name": "Python 3",
   "language": "python",
   "name": "python3"
  },
  "language_info": {
   "codemirror_mode": {
    "name": "ipython",
    "version": 3
   },
   "file_extension": ".py",
   "mimetype": "text/x-python",
   "name": "python",
   "nbconvert_exporter": "python",
   "pygments_lexer": "ipython3",
   "version": "3.11.0"
  },
  "orig_nbformat": 4,
  "vscode": {
   "interpreter": {
    "hash": "6ecdebf77f2ee3a47348d003f751c63e810ca996c1c68d1179f338200fa83b34"
   }
  }
 },
 "nbformat": 4,
 "nbformat_minor": 2
}
