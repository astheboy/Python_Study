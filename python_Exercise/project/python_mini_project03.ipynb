{
 "cells": [
  {
   "cell_type": "markdown",
   "metadata": {},
   "source": [
    "## 랜덤 동전"
   ]
  },
  {
   "cell_type": "markdown",
   "metadata": {},
   "source": [
    "### random.choice 활용하기"
   ]
  },
  {
   "cell_type": "code",
   "execution_count": 3,
   "metadata": {},
   "outputs": [
    {
     "name": "stdout",
     "output_type": "stream",
     "text": [
      "랜덤 동전입니다. 당신의 선택은?\n",
      "결과는?\n",
      "와우 맞췄어요.\n"
     ]
    }
   ],
   "source": [
    "#선택 리스트\n",
    "import random\n",
    "options = [\"앞\", \"뒤\"]\n",
    "\n",
    "print(\"랜덤 동전입니다. 당신의 선택은?\")\n",
    "\n",
    "select = input(\"동전의 앞, 뒤를 선택해 주세요. (앞, 뒤) : \")\n",
    "print(\"결과는?\")\n",
    "\n",
    "if random.choice(options) == select :\n",
    "    print(\"와우 맞췄어요.\")\n",
    "else :\n",
    "    print(\"틀렸어요.\")\n"
   ]
  },
  {
   "cell_type": "markdown",
   "metadata": {},
   "source": [
    "## 랜덤 발표자 뽑기"
   ]
  },
  {
   "cell_type": "markdown",
   "metadata": {},
   "source": [
    "### random.radint 활용하기"
   ]
  },
  {
   "cell_type": "code",
   "execution_count": 19,
   "metadata": {},
   "outputs": [
    {
     "name": "stdout",
     "output_type": "stream",
     "text": [
      "오늘의 발표자는 16번 입니다. \n"
     ]
    }
   ],
   "source": [
    "# 랜덤 라이브러리 불러오기\n",
    "import random\n",
    "\n",
    "class_student_count = int(input(\"반 학생 수를 입력해 주세요. : \"))\n",
    "# class_number = []\n",
    "# i = 1\n",
    "# while i <= class_student_count :\n",
    "#     class_number.append(i)\n",
    "#     i += 1\n",
    "\n",
    "# print(class_number)\n",
    "\n",
    "select_number = random.randint(1, class_student_count)\n",
    "print(f\"오늘의 발표자는 {select_number}번 입니다. \")"
   ]
  },
  {
   "cell_type": "markdown",
   "metadata": {},
   "source": [
    "## 금융가 룰렛"
   ]
  },
  {
   "cell_type": "markdown",
   "metadata": {},
   "source": [
    "### random.randint 와 len() 활용하기"
   ]
  },
  {
   "cell_type": "code",
   "execution_count": 11,
   "metadata": {},
   "outputs": [
    {
     "name": "stdout",
     "output_type": "stream",
     "text": [
      "오늘의 계산은 김겨울이 담청되었습니다.\n"
     ]
    }
   ],
   "source": [
    "# 랜덤 라이브러리 불러오기\n",
    "import random\n",
    "\n",
    "people_name = input(\"오늘 식사에 참석한 사람들의 이름을 입력해주세요. (예) 김가을, 김겨울, 김봄 : \").split(\",\") #\",\"를 기준으로 분리된 값이 리스트로 바로 생성됨\n",
    "\n",
    "i = random.randint(0, len(people_name)-1) #len()는 문자열이나 리스트의 요소수를 반환함.\n",
    "choice_result = people_name[i]\n",
    "\n",
    "# choice_result = random.choice(people_name)\n",
    "\n",
    "print(\"오늘의 계산은\" + choice_result + \"이 담청되었습니다.\")"
   ]
  },
  {
   "cell_type": "markdown",
   "metadata": {},
   "source": [
    "## 보물 지도\n"
   ]
  },
  {
   "cell_type": "markdown",
   "metadata": {},
   "source": [
    "### 프로그램 1(반복문과 출력문을 이용한 보물 찾기)\n",
    "- 참고사이트\n",
    "    - [동적 변수 활용 방법 - https://kin-archive.tistory.com/551](https://kin-archive.tistory.com/551)\n",
    "    - [변수 이름을 loop 돌려서 할당하기 - https://blog.naver.com/nomadgee/220857820094](https://blog.naver.com/nomadgee/220857820094)\n",
    "    - [파이썬으로 글자 출력하기](https://datascienceschool.net/01%20python/02.03%20%ED%8C%8C%EC%9D%B4%EC%8D%AC%EC%9C%BC%EB%A1%9C%20%EA%B8%80%EC%9E%90%EB%A5%BC%20%EC%B6%9C%EB%A0%A5%ED%95%98%EA%B8%B0.html)\n",
    "    - [for 문으로 동적 변수 생성하기](https://muzukphysics.tistory.com/entry/%ED%8C%8C%EC%9D%B4%EC%8D%AC-%EC%9E%90%EB%8F%99-%EB%B3%80%EC%88%98-%EC%83%9D%EC%84%B1-for%EB%AC%B8%EC%9C%BC%EB%A1%9C-%EB%8F%99%EC%A0%81-%EB%B3%80%EC%88%98-%EC%83%9D%EC%84%B1%ED%95%98%EA%B8%B0-Python)"
   ]
  },
  {
   "cell_type": "code",
   "execution_count": 156,
   "metadata": {},
   "outputs": [
    {
     "name": "stdout",
     "output_type": "stream",
     "text": [
      "보물지도 게임\n",
      "보물 위치를 찾아주세요.\n",
      "0  1  2  3  4  5  \n",
      "1 ⬜️ ⬜️ ⬜️ ⬜️ ⬜️\n",
      "2 ⬜️ ⬜️ ⬜️ ⬜️ ⬜️\n",
      "3 ⬜️ ⬜️ ⬜️ ⬜️ ⬜️\n",
      "4 ⬜️ ⬜️ ⬜️ ⬜️ ⬜️\n",
      "5 ⬜️ ⬜️ ⬜️ ⬜️ ⬜️\n",
      "죄송합니다. 보물의 위치가 틀렸어요. 보물의 위치는 : 35\n",
      "다시 도전해 보세요.\n"
     ]
    }
   ],
   "source": [
    "import random\n",
    "\n",
    "print(\"보물지도 게임\")\n",
    "\n",
    "#맵 만들기\n",
    "map_size = input(\"만들고 싶은 보물지도 크기를 입력해주세요. 예) 3*3, 4*4, 5*5 : \").split(\"*\")\n",
    "map_row = int(map_size[0])\n",
    "map_line = int(map_size[1])\n",
    "map = []\n",
    "print(\"보물 위치를 찾아주세요.\")\n",
    "for i in range(0, map_row+1) :  #열 번호 출력\n",
    "    print(str(i)+\"  \" , end=\"\")\n",
    "print()\n",
    "for i in range(1, map_line+1) : #아래의 동작을 행 크기만큼 반복\n",
    "    print(i, end=\"\") #행 번호 출력\n",
    "    globals()['row{}'.format(i)] = \" ⬜️\" * map_row  #기호을 열 크기만큼 갯수를 채워 row1, row2 .... 와 같은 동적변수에 입력\n",
    "    map.append(eval('row{}'.format(i)))  #map 리스트에 동적 변수(raw)를 입력\n",
    "    print(eval('row{}'.format(i))) #입력된 동적 변수의 값을 출력\n",
    "\n",
    "#랜덤 보물 숨기기\n",
    "random_row = random.randint(1, map_row)\n",
    "random_line = random.randint(1, map_line)\n",
    "random_location = str(random_row) + str(random_line)\n",
    "\n",
    "#유저가 보물 위치 선택하기\n",
    "user_select = input(\"당신이 생각한 보물의 위치는? 예) 가로 * 세로, 2*3 => 23 : \")\n",
    "\n",
    "#보물 위치 맞추기\n",
    "\n",
    "if random_location == user_select :\n",
    "    print(\"축하합니다. 당신이 보물의 위치를 맞췄어요\")\n",
    "    print(\"보물의 위치는 \" + random_location + \"입니다.\")\n",
    "else :\n",
    "    print(\"죄송합니다. 보물의 위치가 틀렸어요. 보물의 위치는 : \" + random_location)\n",
    "    print(\"다시 도전해 보세요.\")"
   ]
  },
  {
   "cell_type": "markdown",
   "metadata": {},
   "source": [
    "### 프로그램 2(이중 리스트를 이용한 보물 찾기)\n",
    "\n",
    "- 참고사이트\n",
    "    - [https://dojang.io/mod/page/view.php?id=2293](https://dojang.io/mod/page/view.php?id=2293)\n",
    "    - [https://dojang.io/mod/page/view.php?id=2283](https://dojang.io/mod/page/view.php?id=2283)\n",
    "    - [리스트 자료구조](https://docs.python.org/ko/3.9/tutorial/datastructures.html)"
   ]
  },
  {
   "cell_type": "code",
   "execution_count": 158,
   "metadata": {},
   "outputs": [
    {
     "name": "stdout",
     "output_type": "stream",
     "text": [
      "보물지도 게임\n",
      "보물 위치를 찾아주세요.\n",
      "0     1     2     3     4     5     6     7     8     9     \n",
      "1 [' ⬜️', ' ⬜️', ' ⬜️', ' ⬜️', ' ⬜️', ' ⬜️', ' ⬜️', ' ⬜️', ' ⬜️']\n",
      "2 [' ⬜️', ' ⬜️', ' ⬜️', ' ⬜️', ' ⬜️', ' ⬜️', ' ⬜️', ' ⬜️', ' ⬜️']\n",
      "3 [' ⬜️', ' ⬜️', ' ⬜️', ' ⬜️', ' ⬜️', ' ⬜️', ' ⬜️', ' ⬜️', ' ⬜️']\n",
      "4 [' ⬜️', ' ⬜️', ' ⬜️', ' ⬜️', ' ⬜️', ' ⬜️', ' ⬜️', ' ⬜️', ' ⬜️']\n",
      "5 [' ⬜️', ' ⬜️', ' ⬜️', ' ⬜️', ' ⬜️', ' ⬜️', ' ⬜️', ' ⬜️', ' ⬜️']\n",
      "6 [' ⬜️', ' ⬜️', ' ⬜️', ' ⬜️', ' ⬜️', ' ⬜️', ' ⬜️', ' ⬜️', ' ⬜️']\n",
      "7 [' ⬜️', ' ⬜️', ' ⬜️', ' ⬜️', ' ⬜️', ' ⬜️', ' ⬜️', ' ⬜️', ' ⬜️']\n",
      "8 [' ⬜️', ' ⬜️', ' ⬜️', ' ⬜️', ' ⬜️', ' ⬜️', ' ⬜️', ' ⬜️', ' ⬜️']\n",
      "9 [' ⬜️', ' ⬜️', ' ⬜️', ' ⬜️', ' ⬜️', ' ⬜️', ' ⬜️', ' ⬜️', ' ⬜️']\n",
      "\n",
      "보물 위치를 확인해 보세요.\n",
      "0     1     2     3     4     5     6     7     8     9     \n",
      "1 [' ⬜️', ' ⬜️', ' ⬜️', ' ⬜️', ' ⬜️', ' ⬜️', ' ⬜️', ' ⬜️', ' ⬜️']\n",
      "2 [' ⬜️', ' ⬜️', ' ⬜️', ' ⬜️', ' ⬜️', ' ⬜️', ' ⬜️', ' ⬜️', ' ⬜️']\n",
      "3 [' ⬜️', ' ⬜️', ' ⬜️', ' ⬜️', ' ⬜️', ' ⬜️', ' ⬜️', ' ⬜️', ' ⬜️']\n",
      "4 [' ⬜️', ' ⬜️', ' ⬜️', ' ⬜️', ' ⬜️', ' ⬜️', ' ⬜️', ' ⬜️', ' ⬜️']\n",
      "5 [' ⬜️', ' ⬜️', ' ⬜️', ' ⬜️', ' ⬜️', ' ⬜️', ' ⬜️', ' ⬜️', '💰']\n",
      "6 [' ⬜️', ' ⬜️', ' ⬜️', ' ⬜️', ' ⬜️', ' ⬜️', ' ⬜️', ' ⬜️', ' ⬜️']\n",
      "7 [' ⬜️', ' ⬜️', ' ⬜️', ' ⬜️', ' ⬜️', ' ⬜️', ' ⬜️', ' ⬜️', ' ⬜️']\n",
      "8 [' ⬜️', ' ⬜️', ' ⬜️', ' ⬜️', ' ⬜️', ' ⬜️', ' ⬜️', ' ⬜️', ' ⬜️']\n",
      "9 [' ⬜️', ' ⬜️', ' ⬜️', ' ⬜️', ' ⬜️', ' ⬜️', ' ⬜️', ' ⬜️', ' ⬜️']\n",
      "죄송합니다. 보물의 위치가 틀렸어요. 보물의 위치는 : 95\n",
      "다시 도전해 보세요.\n"
     ]
    }
   ],
   "source": [
    "import random\n",
    "\n",
    "print(\"보물지도 게임\")\n",
    "\n",
    "#맵 만들기\n",
    "map_size = input(\"만들고 싶은 보물지도 크기를 입력해주세요. 예) 3*3, 4*4, 5*5 : \").split(\"*\")\n",
    "map_row = int(map_size[0])\n",
    "map_line = int(map_size[1])\n",
    "map = []\n",
    "print(\"보물 위치를 찾아주세요.\")\n",
    "for i in range(0, map_row+1) :  #열 번호 출력\n",
    "    print(str(i)+\"     \" , end=\"\")\n",
    "print()\n",
    "for i in range(0, map_line) : #아래의 동작을 행 크기만큼 반복\n",
    "    map_item = []\n",
    "    for k in range(0, map_row) :\n",
    "        map_item.append(\" ⬜️\")\n",
    "    map.append(map_item)\n",
    "\n",
    "#맵 출력하기\n",
    "for index, value in enumerate(map) :\n",
    "    print(index+1, value)\n",
    "\n",
    "#랜덤 보물 숨기기\n",
    "random_row = random.randint(1, map_row)\n",
    "random_line = random.randint(1, map_line)\n",
    "random_location = str(random_row) + str(random_line)\n",
    "map[random_line-1][random_row-1] = \"💰\"  #맵에서 보물의 위치를 행과 열의 순서로 리스트 값을 찾아 💰으로 변환\n",
    "\n",
    "#유저가 보물 위치 선택하기\n",
    "user_select = input(\"당신이 생각한 보물의 위치는? 예) 가로 * 세로, 2*3 => 23 : \")\n",
    "\n",
    "#보물 위치 결과 확인\n",
    "print()\n",
    "print(\"보물 위치를 확인해 보세요.\")\n",
    "for i in range(0, map_row+1) :  #열 번호 출력\n",
    "    print(str(i)+\"     \" , end=\"\")\n",
    "print()\n",
    "\n",
    "for index, value in enumerate(map) :\n",
    "    print(index+1, value)\n",
    "\n",
    "if random_location == user_select :\n",
    "    print(\"축하합니다. 당신이 보물의 위치를 맞췄어요\")\n",
    "    print(\"보물의 위치는 \" + random_location + \"입니다.\")\n",
    "else :\n",
    "    print(\"죄송합니다. 보물의 위치가 틀렸어요. 보물의 위치는 : \" + random_location)\n",
    "    print(\"다시 도전해 보세요.\")"
   ]
  }
 ],
 "metadata": {
  "kernelspec": {
   "display_name": "Python 3.9.13 ('base')",
   "language": "python",
   "name": "python3"
  },
  "language_info": {
   "codemirror_mode": {
    "name": "ipython",
    "version": 3
   },
   "file_extension": ".py",
   "mimetype": "text/x-python",
   "name": "python",
   "nbconvert_exporter": "python",
   "pygments_lexer": "ipython3",
   "version": "3.9.13"
  },
  "orig_nbformat": 4,
  "vscode": {
   "interpreter": {
    "hash": "1a78b5adbb636a1457b0c5d4cfcb2ac4d0cae006dda14d7173991df069a98825"
   }
  }
 },
 "nbformat": 4,
 "nbformat_minor": 2
}
