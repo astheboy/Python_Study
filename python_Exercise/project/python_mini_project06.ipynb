{
 "cells": [
  {
   "cell_type": "markdown",
   "metadata": {},
   "source": [
    "## 행맨 게임 만들기"
   ]
  },
  {
   "cell_type": "markdown",
   "metadata": {},
   "source": [
    "### 행맨 게임 FlowChart\n",
    "\n",
    "<img src=\"https://cdn-std.droplr.net/files/acc_602408/QILjyG\" width=\"40%\" height=\"40%\">"
   ]
  },
  {
   "cell_type": "markdown",
   "metadata": {},
   "source": [
    "### 1. 무작위 단어를 고르고 정답 확인하기"
   ]
  },
  {
   "cell_type": "code",
   "execution_count": 50,
   "metadata": {},
   "outputs": [
    {
     "name": "stdout",
     "output_type": "stream",
     "text": [
      "** 베스킨라빈스 아이스크림 행맨 게임 **\n",
      "베스킨라빈스 아이스크림 이름을 추측해서 맞춰보세요.\n",
      "행맨을 꼭 살려주세요\n",
      "['비', '타', '5', '0', '0', '소', '르', '베']\n"
     ]
    }
   ],
   "source": [
    "import random\n",
    "\n",
    "print(\"** 베스킨라빈스 아이스크림 행맨 게임 **\")\n",
    "print(\"베스킨라빈스 아이스크림 이름을 추측해서 맞춰보세요.\")\n",
    "print(\"행맨을 꼭 살려주세요\")\n",
    "\n",
    "wordlist = [\"아이스허쉬앤리세스\", \"핑크스푼비긴즈\", \"비타500소르베\",\"피나콜라다\", \"초코넛마카다미아\", \"오레오쿠키앤크림\", \n",
    "\"월넛\", \"오레오쿠키앤카라멜\", \"엄마는외계인\", \"아몬드봉봉\", \"민트초콜릿칩\", \"슈팅스타\", \"베리베리스트로베리\", \"바람과함꼐사라지다\", \n",
    "\"레인보유샤베트\", \"31요커트\", \"체리쥬빌레\" ]\n",
    "\n",
    "randomword = list(random.choice(wordlist)) # 문자열을 한 글자씩 끊어서 리스트로 바꾸기\n",
    "\n",
    "print(randomword)\n"
   ]
  },
  {
   "cell_type": "markdown",
   "metadata": {},
   "source": [
    "### 2. 무작위 단어를 빈칸으로 바꿔 표현하기"
   ]
  },
  {
   "cell_type": "code",
   "execution_count": 51,
   "metadata": {},
   "outputs": [
    {
     "name": "stdout",
     "output_type": "stream",
     "text": [
      "['_', '_', '_', '_', '_', '_', '_', '_']\n"
     ]
    }
   ],
   "source": [
    "blankword = []\n",
    "for i in range(len(randomword)) :\n",
    "    blankword.append(\"_\") \n",
    "\n",
    "print(blankword)"
   ]
  },
  {
   "cell_type": "markdown",
   "metadata": {},
   "source": [
    "### 3. 유저의 정답을 확인하고 빈칸을 맞춘 글자로 바꾸기\n",
    "\n",
    "- 참고사이트\n",
    "    - [list에서 value 값으로 다중 index 찾기](https://bill1224.tistory.com/228)\n",
    "    - [Google for Education - Python](https://developers.google.com/edu/python/lists)"
   ]
  },
  {
   "cell_type": "code",
   "execution_count": null,
   "metadata": {},
   "outputs": [],
   "source": [
    "# 유저가 단어를 맞출 수 있는 기회 안내\n",
    "\n",
    "print(f\"당신이 단어를 맞출 수 있는 기회는 총 {userlife}회 입니다.\")\n",
    "print(\"비어있는 칸을 보고 예상되는 글자를 맞춰주세요.\")\n",
    "guessword = input(\"예상되는 글자를 입력해 주세요. : \")\n",
    "if guessword in randomword :\n",
    "    randomwordindex = list(filter(lambda x : randomword[x] == guessword, range(len(randomword)))) #list에서 value 값으로 다중 index찾기\n",
    "    for i in range(len(randomwordindex)) :\n",
    "        blankword[randomwordindex[i]] = guessword  #정답을 맞춘 글자로 바꾸기\n",
    "    print(randomwordindex)\n",
    "    print(blankword)"
   ]
  },
  {
   "cell_type": "markdown",
   "metadata": {},
   "source": [
    "### 플레이어가 이겼는지 확인하기"
   ]
  },
  {
   "cell_type": "code",
   "execution_count": 52,
   "metadata": {},
   "outputs": [
    {
     "name": "stdout",
     "output_type": "stream",
     "text": [
      "당신이 단어를 맞출 수 있는 기회는 총 8회 입니다.\n",
      "비어있는 칸을 보고 예상되는 글자를 맞춰주세요.\n",
      "맞췄어요. 기회는 7회 남았습니다.\n",
      "['비', '_', '_', '_', '_', '_', '_', '_']\n",
      "맞췄어요. 기회는 6회 남았습니다.\n",
      "['비', '타', '_', '_', '_', '_', '_', '_']\n",
      "맞췄어요. 기회는 5회 남았습니다.\n",
      "['비', '타', '5', '_', '_', '_', '_', '_']\n",
      "맞췄어요. 기회는 4회 남았습니다.\n",
      "['비', '타', '5', '0', '0', '_', '_', '_']\n",
      "맞췄어요. 기회는 3회 남았습니다.\n",
      "['비', '타', '5', '0', '0', '소', '_', '_']\n",
      "맞췄어요. 기회는 2회 남았습니다.\n",
      "['비', '타', '5', '0', '0', '소', '르', '_']\n",
      "맞췄어요. 기회는 1회 남았습니다.\n",
      "['비', '타', '5', '0', '0', '소', '르', '베']\n",
      "당신이 맞췄군요. 대단해요.!\n"
     ]
    }
   ],
   "source": [
    "# 유저가 단어를 맞출 수 있는 기회 안내\n",
    "startlife = len(randomword)\n",
    "userlife = len(randomword)\n",
    "print(f\"당신이 단어를 맞출 수 있는 기회는 총 {userlife}회 입니다.\")\n",
    "print(\"비어있는 칸을 보고 예상되는 글자를 맞춰주세요.\")\n",
    "print()\n",
    "\n",
    "while userlife != 0 :\n",
    "\n",
    "    if blankword != randomword :\n",
    "        guessword = input(\"예상되는 글자를 입력해 주세요. : \")\n",
    "        userlife -= 1\n",
    "        if guessword in randomword :\n",
    "            randomwordindex = list(filter(lambda x : randomword[x] == guessword, range(len(randomword)))) #list에서 value 값으로 다중 index찾기\n",
    "            for i in range(len(randomwordindex)) :\n",
    "                blankword[randomwordindex[i]] = guessword  #정답을 맞춘 글자로 바꾸기\n",
    "            print(\"당신이 입력한 글자 : \" + guessword)        \n",
    "            print(f\"맞췄어요. 기회는 {userlife}회 남았습니다.\")\n",
    "            # print(randomwordindex)\n",
    "            print(blankword)\n",
    "        else:\n",
    "            print(f\"틀렸어요. 기회는 {userlife}회 남았습니다.\")\n",
    "        \n",
    "    else :\n",
    "        print(f\"대단해요! 당신은 {startlife-userlife}회만에 성공했네요. 축하합니다. \")\n",
    "        break\n",
    "\n",
    "for i in blankword :\n",
    "    if i == \"_\" :\n",
    "        print(\"당신은 실패했습니다. \")\n",
    "        break"
   ]
  },
  {
   "attachments": {},
   "cell_type": "markdown",
   "metadata": {},
   "source": [
    "### 행맨 아스키코드 추가 및 프로그램 수정"
   ]
  },
  {
   "cell_type": "code",
   "execution_count": 58,
   "metadata": {},
   "outputs": [
    {
     "name": "stdout",
     "output_type": "stream",
     "text": [
      "** 베스킨라빈스 아이스크림 행맨 게임 **\n",
      "베스킨라빈스 아이스크림 이름을 추측해서 맞춰보세요.\n",
      "행맨을 꼭 살려주세요\n",
      "['_', '_', '_', '_', '_', '_', '_', '_']\n",
      "\n",
      "당신이 단어를 맞출 수 있는 기회는 총 7회 입니다.\n",
      "비어있는 칸을 보고 예상되는 글자를 맞춰주세요.\n",
      "\n",
      "틀렸어요\n",
      "\n",
      "  +---+\n",
      "  |   |\n",
      "      |\n",
      "      |\n",
      "      |\n",
      "      |\n",
      "=========\n",
      "\n",
      "틀렸어요\n",
      "\n",
      "  +---+\n",
      "  |   |\n",
      "  O   |\n",
      "      |\n",
      "      |\n",
      "      |\n",
      "=========\n",
      "\n",
      "틀렸어요\n",
      "\n",
      "  +---+\n",
      "  |   |\n",
      "  O   |\n",
      "  |   |\n",
      "      |\n",
      "      |\n",
      "=========\n",
      "\n",
      "틀렸어요\n",
      "\n",
      "  +---+\n",
      "  |   |\n",
      "  O   |\n",
      " /|   |\n",
      "      |\n",
      "      |\n",
      "=========\n",
      "틀렸어요\n",
      "\n",
      "  +---+\n",
      "  |   |\n",
      "  O   |\n",
      " /|\\  |\n",
      "      |\n",
      "      |\n",
      "=========\n",
      "\n",
      "틀렸어요\n",
      "\n",
      "  +---+\n",
      "  |   |\n",
      "  O   |\n",
      " /|\\  |\n",
      " /    |\n",
      "      |\n",
      "=========\n",
      "\n",
      "당신은 실패해습니다.\n"
     ]
    }
   ],
   "source": [
    "import random\n",
    "\n",
    "# 행맨 아스키코드 리스트\n",
    "stages = ['''  \n",
    "  +---+\n",
    "  |   |\n",
    "  O   |\n",
    " /|\\  |\n",
    " / \\  |\n",
    "      |\n",
    "=========\n",
    "''', '''\n",
    "  +---+\n",
    "  |   |\n",
    "  O   |\n",
    " /|\\  |\n",
    " /    |\n",
    "      |\n",
    "=========\n",
    "''', '''\n",
    "  +---+\n",
    "  |   |\n",
    "  O   |\n",
    " /|\\  |\n",
    "      |\n",
    "      |\n",
    "=========\n",
    "''', '''\n",
    "  +---+\n",
    "  |   |\n",
    "  O   |\n",
    " /|   |\n",
    "      |\n",
    "      |\n",
    "=========''', '''\n",
    "  +---+\n",
    "  |   |\n",
    "  O   |\n",
    "  |   |\n",
    "      |\n",
    "      |\n",
    "=========\n",
    "''', '''\n",
    "  +---+\n",
    "  |   |\n",
    "  O   |\n",
    "      |\n",
    "      |\n",
    "      |\n",
    "=========\n",
    "''', '''\n",
    "  +---+\n",
    "  |   |\n",
    "      |\n",
    "      |\n",
    "      |\n",
    "      |\n",
    "=========\n",
    "''']\n",
    "\n",
    "blankword = []\n",
    "end_of_game = False\n",
    "userlife = len(stages)-1\n",
    "startcount = len(stages)\n",
    "finalcount = len(stages)\n",
    "\n",
    "# 게임 시작 및 랜덤 단어 선택하기\n",
    "print(\"** 베스킨라빈스 아이스크림 행맨 게임 **\")\n",
    "print(\"베스킨라빈스 아이스크림 이름을 추측해서 맞춰보세요.\")\n",
    "print(\"행맨을 꼭 살려주세요\")\n",
    "\n",
    "wordlist = [\"아이스허쉬앤리세스\", \"핑크스푼비긴즈\", \"비타500소르베\",\"피나콜라다\", \"초코넛마카다미아\", \"오레오쿠키앤크림\", \n",
    "\"월넛\", \"오레오쿠키앤카라멜\", \"엄마는외계인\", \"아몬드봉봉\", \"민트초콜릿칩\", \"슈팅스타\", \"베리베리스트로베리\", \"바람과함꼐사라지다\", \n",
    "\"레인보유샤베트\", \"31요커트\", \"체리쥬빌레\" ]\n",
    "\n",
    "randomword = list(random.choice(wordlist)) # 문자열을 한 글자씩 끊어서 리스트로 바꾸기\n",
    "len_randomword = len(randomword)\n",
    "# 비어있는 단어 출력\n",
    "\n",
    "for i in range(len(randomword)) :\n",
    "    blankword.append(\"_\") \n",
    "\n",
    "print(blankword)\n",
    "print()\n",
    "\n",
    "# 단어 추측하기\n",
    "print(f\"당신이 단어를 맞출 수 있는 기회는 총 {startcount}회 입니다.\")\n",
    "print(\"비어있는 칸을 보고 예상되는 글자를 맞춰주세요.\")\n",
    "print()\n",
    "\n",
    "while end_of_game == False :\n",
    "    guessword = input(\"예상되는 글자를 입력해 주세요. : \")\n",
    "    print(\"당신이 입력한 글자 : \" + guessword)\n",
    "    if guessword in randomword :\n",
    "      for i in range(len_randomword) :\n",
    "        if randomword[i]== guessword :\n",
    "          blankword[i] = guessword\n",
    "      # randomwordindex = list(filter(lambda x : randomword[x] == guessword, range(len(randomword)))) #list에서 value 값으로 다중 index찾기\n",
    "      # for i in range(len(randomwordindex)) :\n",
    "      #     blankword[randomwordindex[i]] = guessword  #정답을 맞춘 글자로 바꾸기\n",
    "      finalcount -= 1\n",
    "      print(\"맞췄어요.\")\n",
    "      print(blankword)\n",
    "    else :\n",
    "      print(\"틀렸어요\")\n",
    "      print(stages[userlife])\n",
    "      userlife -= 1\n",
    "\n",
    "    if not \"_\" in blankword :\n",
    "      print(f\"대단해요! 당신은 {startcount-finalcount}회만에 성공했네요. 축하합니다. \")\n",
    "      end_of_game = True\n",
    "    \n",
    "    if userlife == 0 :\n",
    "      end_of_game = True\n",
    "      print(\"당신은 실패해습니다.\")"
   ]
  }
 ],
 "metadata": {
  "kernelspec": {
   "display_name": "Python 3 (ipykernel)",
   "language": "python",
   "name": "python3"
  },
  "language_info": {
   "codemirror_mode": {
    "name": "ipython",
    "version": 3
   },
   "file_extension": ".py",
   "mimetype": "text/x-python",
   "name": "python",
   "nbconvert_exporter": "python",
   "pygments_lexer": "ipython3",
   "version": "3.9.13 (main, Oct 13 2022, 16:12:30) \n[Clang 12.0.0 ]"
  },
  "vscode": {
   "interpreter": {
    "hash": "1a78b5adbb636a1457b0c5d4cfcb2ac4d0cae006dda14d7173991df069a98825"
   }
  }
 },
 "nbformat": 4,
 "nbformat_minor": 2
}
