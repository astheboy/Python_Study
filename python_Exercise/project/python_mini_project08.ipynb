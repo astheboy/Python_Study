{
 "cells": [
  {
   "cell_type": "markdown",
   "metadata": {},
   "source": [
    "## 딕셔너리, 네스팅 및 시크릿 옥션"
   ]
  },
  {
   "cell_type": "markdown",
   "metadata": {},
   "source": [
    "### 딕셔너리"
   ]
  },
  {
   "cell_type": "code",
   "execution_count": 18,
   "metadata": {},
   "outputs": [
    {
     "name": "stdout",
     "output_type": "stream",
     "text": [
      "위안\n",
      "{'kr': '원', 'us': '달러', 'jp': '엔화', 'ch': '위안', 'eu': '유로', 'ru': '루블'}\n",
      "kr\n",
      "원\n",
      "us\n",
      "달러\n",
      "jp\n",
      "엔화\n",
      "ch\n",
      "위안\n",
      "eu\n",
      "유로\n",
      "ru\n",
      "루블\n"
     ]
    }
   ],
   "source": [
    "money = {\"kr\":\"원\", \"us\":\"달러\", \"jp\":\"엔화\", \"ch\":\"위안\", \"eu\":\"유로\"}\n",
    "\n",
    "print(money[\"ch\"])\n",
    "money[\"ru\"] = \"루블\"\n",
    "print(money)\n",
    "\n",
    "for key in money:\n",
    "    print(key)\n",
    "    print(money[key])"
   ]
  },
  {
   "cell_type": "markdown",
   "metadata": {},
   "source": [
    "### 성적 처리 프로그램"
   ]
  },
  {
   "cell_type": "code",
   "execution_count": 5,
   "metadata": {},
   "outputs": [
    {
     "name": "stdout",
     "output_type": "stream",
     "text": [
      "{'김철수': '우수', '김강민': '최우수', '나수학': '미흡', '박기영': '우수', '한국인': '최우수', '홍길동': '보통', '박상면': '우수'}\n"
     ]
    }
   ],
   "source": [
    "student_score_dic = {\n",
    "    \"김철수\":87, \n",
    "    \"김강민\":97,\n",
    "    \"나수학\":68,\n",
    "    \"박기영\":88,\n",
    "    \"한국인\":100,\n",
    "    \"홍길동\":77,\n",
    "    \"박상면\":83,\n",
    "}\n",
    "\n",
    "# input_data = input(\"학생 이름과 성적을 입력해 주세요. ((예) 나강민,85) :\")\n",
    "# student_name, student_score = input_data.split(\",\")\n",
    "# student_score_dic[student_name] = int(student_score)\n",
    "\n",
    "student_grades = {}\n",
    "\n",
    "for name in student_score_dic :\n",
    "    if student_score_dic[name] >= 91 :\n",
    "        student_grades[name] = \"최우수\"\n",
    "    elif student_score_dic[name] >= 81 :\n",
    "        student_grades[name] = \"우수\"\n",
    "    elif student_score_dic[name] >= 71 :\n",
    "        student_grades[name] = \"보통\"\n",
    "    else :\n",
    "        student_grades[name] = \"미흡\"\n",
    "\n",
    "print(student_grades)"
   ]
  },
  {
   "cell_type": "markdown",
   "metadata": {},
   "source": [
    "### 리스트와 딕셔너리 중첩하기"
   ]
  },
  {
   "cell_type": "code",
   "execution_count": null,
   "metadata": {},
   "outputs": [],
   "source": [
    "capitals ={\n",
    "    \"France\":\"Paris\",\n",
    "    \"Germany\":\"Berlin\"\n",
    "}\n",
    "\n",
    "travel_log ={\n",
    "    \"France\" : {\"travle_visited\": [\"Paris\", \"Lille\", \"Dijon\"], \"total_visits\": 12},\n",
    "    \"Germany\" : {\"travle_visited\": [\"Berlin\", \"Hamburg\", \"Stuttgart\"], \"total_visits\": 7}\n",
    "}\n",
    "\n",
    "travel_map =[\n",
    "    {\n",
    "        \"country\" : \"France\" , \n",
    "        \"travle_visited\": [\"Paris\", \"Lille\", \"Dijon\"], \n",
    "        \"total_visits\": 12\n",
    "    },\n",
    "    {\n",
    "        \"country\" : \"Germany\" , \n",
    "        \"travle_visited\": [\"Berlin\", \"Hamburg\", \"Stuttgart\"], \n",
    "        \"total_visits\": 7\n",
    "    }\n",
    "]\n"
   ]
  },
  {
   "cell_type": "markdown",
   "metadata": {},
   "source": [
    "### 리스트 속 딕셔너리 추가하기"
   ]
  },
  {
   "cell_type": "code",
   "execution_count": 4,
   "metadata": {},
   "outputs": [
    {
     "name": "stdout",
     "output_type": "stream",
     "text": [
      "[{'country': 'France', 'travel_visited': ['Paris', 'Lille', 'Dijon'], 'travel_day': 12}, {'country': 'Germany', 'travel_visited': ['Berlin', 'Hamburg', 'Stuttgart'], 'travel_day': 7}, {'country': '한국', 'travel_visited': ['서울', '부산', '제주도', '여수', '광양'], 'travel_day': 7}]\n"
     ]
    }
   ],
   "source": [
    "travel_map =[\n",
    "    {\n",
    "        \"country\" : \"France\" , \n",
    "        \"travel_visited\": [\"Paris\", \"Lille\", \"Dijon\"], \n",
    "        \"travel_day\": 12\n",
    "    },\n",
    "    {\n",
    "        \"country\" : \"Germany\" , \n",
    "        \"travel_visited\": [\"Berlin\", \"Hamburg\", \"Stuttgart\"], \n",
    "        \"travel_day\": 7\n",
    "    }\n",
    "]\n",
    "\n",
    "def add_travel_map(country, city, day):\n",
    "    travel_map.append({\"country\":new_country, \"travel_visited\": travel_city, \"travel_day\": day})\n",
    "    return\n",
    "\n",
    "new_country = input(\"당신이 여행했던 나라를 입력해 주세요. 예)한국 \")\n",
    "travel_city = input(\"그 나라에서 여행을 갔던 도시를 입력해 주세요. 예)서울,부산,광주 \").split(\",\")\n",
    "day = int(input(\"며칠을 방문했나요? 숫자로 입력해주세요\"))\n",
    "\n",
    "add_travel_map(new_country, travel_city, day)\n",
    "\n",
    "print(travel_map)"
   ]
  },
  {
   "cell_type": "markdown",
   "metadata": {},
   "source": [
    "### 비밀 경매 프로그램"
   ]
  },
  {
   "cell_type": "code",
   "execution_count": 12,
   "metadata": {},
   "outputs": [
    {
     "name": "stdout",
     "output_type": "stream",
     "text": [
      "\n",
      "         ___________\n",
      "                         \\         /\n",
      "                          )_______(\n",
      "                          |\"\"\"\"\"\"\"|_.-._,.---------.,_.-._\n",
      "                          |       | | |               | | ''-.\n",
      "                          |       |_| |_             _| |_..-'\n",
      "                          |_______| '-' `'---------'` '-'\n",
      "                          )\"\"\"\"\"\"\"(\n",
      "                         /_________                         `'-------'`\n",
      "                       .-------------.\n",
      "                   jgs/_______________\n",
      "\n",
      "입찰자 정보\n",
      "{'홍길동': 40000, '김길수': 50000, '나영심': 45000, '김영희': 70000}\n",
      "최종 낙찰자는 70000원을 입찰한 김영희입니다 \n"
     ]
    }
   ],
   "source": [
    "logo = '''\n",
    "         ___________\n",
    "                         \\         /\n",
    "                          )_______(\n",
    "                          |\"\"\"\"\"\"\"|_.-._,.---------.,_.-._\n",
    "                          |       | | |               | | ''-.\n",
    "                          |       |_| |_             _| |_..-'\n",
    "                          |_______| '-' `'---------'` '-'\n",
    "                          )\"\"\"\"\"\"\"(\n",
    "                         /_________\\\n",
    "                         `'-------'`\n",
    "                       .-------------.\n",
    "                   jgs/_______________\\\n",
    "\n",
    "'''\n",
    "print(logo)\n",
    "game_start = \"예\"\n",
    "\n",
    "blind_auction_dic = {}\n",
    "\n",
    "def add_blind_auction(name, money):\n",
    "  blind_auction_dic[name] = money\n",
    "  return\n",
    "\n",
    "def successful_bid():\n",
    "  result = []\n",
    "  result_money = 0\n",
    "\n",
    "  for bid_user in blind_auction_dic :\n",
    "    if result_money < blind_auction_dic[bid_user] :\n",
    "      result_money = blind_auction_dic[bid_user]\n",
    "      result = [bid_user, result_money]\n",
    "  \n",
    "  print(f\"최종 낙찰자는 {result[1]}원을 입찰한 {result[0]}입니다 \")\n",
    "  return\n",
    "\n",
    "while game_start == \"예\" :\n",
    "  user_name = input(\"경매 입찰자의 이름을 입력해 주세요.\")\n",
    "  user_money = int(input(\"경매 입찰 가격을 입력해 주세요.\"))\n",
    "  add_blind_auction(user_name, user_money)\n",
    "  game_start = input(\"경매에 참가하는 사람이 더 있습니까? 예, 아니오 입력\")\n",
    "\n",
    "print(\"입찰자 정보\")\n",
    "print(blind_auction_dic)\n",
    "successful_bid()\n",
    "\n",
    "\n"
   ]
  }
 ],
 "metadata": {
  "kernelspec": {
   "display_name": "Python 3 (ipykernel)",
   "language": "python",
   "name": "python3"
  },
  "language_info": {
   "codemirror_mode": {
    "name": "ipython",
    "version": 3
   },
   "file_extension": ".py",
   "mimetype": "text/x-python",
   "name": "python",
   "nbconvert_exporter": "python",
   "pygments_lexer": "ipython3",
   "version": "3.11.0 (main, Oct 26 2022, 19:06:18) [Clang 14.0.0 (clang-1400.0.29.202)]"
  },
  "vscode": {
   "interpreter": {
    "hash": "6ecdebf77f2ee3a47348d003f751c63e810ca996c1c68d1179f338200fa83b34"
   }
  }
 },
 "nbformat": 4,
 "nbformat_minor": 2
}
