{
 "cells": [
  {
   "cell_type": "code",
   "execution_count": 1,
   "id": "48e4b69b",
   "metadata": {},
   "outputs": [
    {
     "name": "stdout",
     "output_type": "stream",
     "text": [
      "<built-in function print>\n"
     ]
    }
   ],
   "source": [
    "print(print)"
   ]
  },
  {
   "cell_type": "code",
   "execution_count": 2,
   "id": "fafae555",
   "metadata": {},
   "outputs": [
    {
     "name": "stdout",
     "output_type": "stream",
     "text": [
      "<built-in function print>\n"
     ]
    }
   ],
   "source": [
    "print(str(print))"
   ]
  },
  {
   "cell_type": "code",
   "execution_count": 3,
   "id": "902f0fe0",
   "metadata": {},
   "outputs": [
    {
     "name": "stdout",
     "output_type": "stream",
     "text": [
      "print\n"
     ]
    }
   ],
   "source": [
    "print(\"print\")"
   ]
  },
  {
   "cell_type": "code",
   "execution_count": 4,
   "id": "4425cc27",
   "metadata": {},
   "outputs": [
    {
     "name": "stdout",
     "output_type": "stream",
     "text": [
      "10\n"
     ]
    }
   ],
   "source": [
    "print(3+7)"
   ]
  },
  {
   "cell_type": "code",
   "execution_count": 5,
   "id": "8daa3d8d",
   "metadata": {},
   "outputs": [
    {
     "name": "stdout",
     "output_type": "stream",
     "text": [
      "-4\n"
     ]
    }
   ],
   "source": [
    "print(3-7)"
   ]
  },
  {
   "cell_type": "code",
   "execution_count": 6,
   "id": "63a9cbe7",
   "metadata": {},
   "outputs": [
    {
     "name": "stdout",
     "output_type": "stream",
     "text": [
      "1025615382326\n"
     ]
    }
   ],
   "source": [
    "print(34897934*29389)"
   ]
  },
  {
   "cell_type": "code",
   "execution_count": 7,
   "id": "e4a48022",
   "metadata": {},
   "outputs": [
    {
     "name": "stdout",
     "output_type": "stream",
     "text": [
      "13249885646\n"
     ]
    }
   ],
   "source": [
    "data=348874*37979\n",
    "print(data)"
   ]
  },
  {
   "cell_type": "code",
   "execution_count": 8,
   "id": "ae243af3",
   "metadata": {},
   "outputs": [
    {
     "name": "stdout",
     "output_type": "stream",
     "text": [
      "3375\n"
     ]
    }
   ],
   "source": [
    "print(15**3)"
   ]
  },
  {
   "cell_type": "code",
   "execution_count": 9,
   "id": "7fda8a1a",
   "metadata": {},
   "outputs": [
    {
     "name": "stdout",
     "output_type": "stream",
     "text": [
      "5\n"
     ]
    }
   ],
   "source": [
    "print(15//3)"
   ]
  },
  {
   "cell_type": "code",
   "execution_count": 10,
   "id": "7153611d",
   "metadata": {},
   "outputs": [
    {
     "name": "stdout",
     "output_type": "stream",
     "text": [
      "1\n"
     ]
    }
   ],
   "source": [
    "print(7%3)"
   ]
  },
  {
   "cell_type": "code",
   "execution_count": 11,
   "id": "b6f2d637",
   "metadata": {},
   "outputs": [
    {
     "name": "stdout",
     "output_type": "stream",
     "text": [
      "3\n"
     ]
    }
   ],
   "source": [
    "print(15//4)"
   ]
  },
  {
   "cell_type": "code",
   "execution_count": 16,
   "id": "a000a879",
   "metadata": {},
   "outputs": [
    {
     "name": "stdout",
     "output_type": "stream",
     "text": [
      "2\n"
     ]
    }
   ],
   "source": [
    "print(15//7) #몫"
   ]
  },
  {
   "cell_type": "code",
   "execution_count": 17,
   "id": "fa3a5745",
   "metadata": {},
   "outputs": [
    {
     "name": "stdout",
     "output_type": "stream",
     "text": [
      "True\n"
     ]
    }
   ],
   "source": [
    "print( 3 < 7 )"
   ]
  },
  {
   "cell_type": "code",
   "execution_count": 18,
   "id": "ca006cbb",
   "metadata": {},
   "outputs": [
    {
     "name": "stdout",
     "output_type": "stream",
     "text": [
      "False\n"
     ]
    }
   ],
   "source": [
    "print(3>7)"
   ]
  },
  {
   "cell_type": "code",
   "execution_count": 19,
   "id": "2e6d3614",
   "metadata": {},
   "outputs": [
    {
     "name": "stdout",
     "output_type": "stream",
     "text": [
      "False\n"
     ]
    }
   ],
   "source": [
    "print(34 == 100)"
   ]
  },
  {
   "cell_type": "code",
   "execution_count": 20,
   "id": "ffa455f4",
   "metadata": {},
   "outputs": [
    {
     "name": "stdout",
     "output_type": "stream",
     "text": [
      "True\n"
     ]
    }
   ],
   "source": [
    "print(34 != 100)"
   ]
  },
  {
   "cell_type": "code",
   "execution_count": null,
   "id": "d296fa49",
   "metadata": {},
   "outputs": [],
   "source": []
  }
 ],
 "metadata": {
  "kernelspec": {
   "display_name": "Python 3 (ipykernel)",
   "language": "python",
   "name": "python3"
  },
  "language_info": {
   "codemirror_mode": {
    "name": "ipython",
    "version": 3
   },
   "file_extension": ".py",
   "mimetype": "text/x-python",
   "name": "python",
   "nbconvert_exporter": "python",
   "pygments_lexer": "ipython3",
   "version": "3.9.7"
  }
 },
 "nbformat": 4,
 "nbformat_minor": 5
}
