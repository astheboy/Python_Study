{
 "cells": [
  {
   "cell_type": "code",
   "execution_count": 2,
   "id": "7b386685",
   "metadata": {},
   "outputs": [
    {
     "data": {
      "text/plain": [
       "'split() 함수는 문자열을 쪼갤 구분자를 지정할 수도 있고, 구분자를 기준으로 최대 몇번 쪼갤지도 지정할 수 있습니다.'"
      ]
     },
     "execution_count": 2,
     "metadata": {},
     "output_type": "execute_result"
    }
   ],
   "source": [
    "data1 = ('split() 함수는 문자열을 쪼갤 구분자를 지정할 수도 있고, 구분자를 기준으로 최대 몇번 쪼갤지도 지정할 수 있습니다.')\n",
    "data1"
   ]
  },
  {
   "cell_type": "code",
   "execution_count": 3,
   "id": "a963e3c5",
   "metadata": {},
   "outputs": [
    {
     "data": {
      "text/plain": [
       "['split()',\n",
       " '함수는',\n",
       " '문자열을',\n",
       " '쪼갤',\n",
       " '구분자를',\n",
       " '지정할',\n",
       " '수도',\n",
       " '있고,',\n",
       " '구분자를',\n",
       " '기준으로',\n",
       " '최대',\n",
       " '몇번',\n",
       " '쪼갤지도',\n",
       " '지정할',\n",
       " '수',\n",
       " '있습니다.']"
      ]
     },
     "execution_count": 3,
     "metadata": {},
     "output_type": "execute_result"
    }
   ],
   "source": [
    "data1.split()"
   ]
  },
  {
   "cell_type": "code",
   "execution_count": 4,
   "id": "2b63ae87",
   "metadata": {},
   "outputs": [
    {
     "data": {
      "text/plain": [
       "'구분자 지정없이 split()만 쓴다면 공백을 구분자로 나누게 됩니다.'"
      ]
     },
     "execution_count": 4,
     "metadata": {},
     "output_type": "execute_result"
    }
   ],
   "source": [
    "data2 =('구분자 지정없이 split()만 쓴다면 공백을 구분자로 나누게 됩니다.')\n",
    "data2"
   ]
  },
  {
   "cell_type": "code",
   "execution_count": 5,
   "id": "bd4ec978",
   "metadata": {},
   "outputs": [],
   "source": [
    "data_s1 = set(data1.split())\n",
    "data_s2 = set(data2.split())"
   ]
  },
  {
   "cell_type": "code",
   "execution_count": 6,
   "id": "6471209e",
   "metadata": {},
   "outputs": [
    {
     "data": {
      "text/plain": [
       "set()"
      ]
     },
     "execution_count": 6,
     "metadata": {},
     "output_type": "execute_result"
    }
   ],
   "source": [
    "data_s1 & data_s2"
   ]
  },
  {
   "cell_type": "code",
   "execution_count": 7,
   "id": "403960cc",
   "metadata": {},
   "outputs": [
    {
     "data": {
      "text/plain": [
       "{'split()',\n",
       " '구분자를',\n",
       " '기준으로',\n",
       " '몇번',\n",
       " '문자열을',\n",
       " '수',\n",
       " '수도',\n",
       " '있고,',\n",
       " '있습니다.',\n",
       " '지정할',\n",
       " '쪼갤',\n",
       " '쪼갤지도',\n",
       " '최대',\n",
       " '함수는'}"
      ]
     },
     "execution_count": 7,
     "metadata": {},
     "output_type": "execute_result"
    }
   ],
   "source": [
    "data_s1"
   ]
  },
  {
   "cell_type": "code",
   "execution_count": 8,
   "id": "a766c2a1",
   "metadata": {},
   "outputs": [
    {
     "data": {
      "text/plain": [
       "{'split()만', '공백을', '구분자', '구분자로', '나누게', '됩니다.', '쓴다면', '지정없이'}"
      ]
     },
     "execution_count": 8,
     "metadata": {},
     "output_type": "execute_result"
    }
   ],
   "source": [
    "data_s2"
   ]
  },
  {
   "cell_type": "code",
   "execution_count": 9,
   "id": "a4bf6cfd",
   "metadata": {},
   "outputs": [
    {
     "data": {
      "text/plain": [
       "{'split()',\n",
       " 'split()만',\n",
       " '공백을',\n",
       " '구분자',\n",
       " '구분자로',\n",
       " '구분자를',\n",
       " '기준으로',\n",
       " '나누게',\n",
       " '됩니다.',\n",
       " '몇번',\n",
       " '문자열을',\n",
       " '수',\n",
       " '수도',\n",
       " '쓴다면',\n",
       " '있고,',\n",
       " '있습니다.',\n",
       " '지정없이',\n",
       " '지정할',\n",
       " '쪼갤',\n",
       " '쪼갤지도',\n",
       " '최대',\n",
       " '함수는'}"
      ]
     },
     "execution_count": 9,
     "metadata": {},
     "output_type": "execute_result"
    }
   ],
   "source": [
    "data_s1 | data_s2"
   ]
  },
  {
   "cell_type": "code",
   "execution_count": 10,
   "id": "e3b1c60e",
   "metadata": {},
   "outputs": [
    {
     "data": {
      "text/plain": [
       "{'split()',\n",
       " '구분자를',\n",
       " '기준으로',\n",
       " '몇번',\n",
       " '문자열을',\n",
       " '수',\n",
       " '수도',\n",
       " '있고,',\n",
       " '있습니다.',\n",
       " '지정할',\n",
       " '쪼갤',\n",
       " '쪼갤지도',\n",
       " '최대',\n",
       " '함수는'}"
      ]
     },
     "execution_count": 10,
     "metadata": {},
     "output_type": "execute_result"
    }
   ],
   "source": [
    "data_s1 - data_s2"
   ]
  },
  {
   "cell_type": "code",
   "execution_count": 11,
   "id": "1a0c4023",
   "metadata": {},
   "outputs": [
    {
     "data": {
      "text/plain": [
       "{'split()만', '공백을', '구분자', '구분자로', '나누게', '됩니다.', '쓴다면', '지정없이'}"
      ]
     },
     "execution_count": 11,
     "metadata": {},
     "output_type": "execute_result"
    }
   ],
   "source": [
    "data_s2 - data_s1"
   ]
  },
  {
   "cell_type": "code",
   "execution_count": 12,
   "id": "ab054ac6",
   "metadata": {},
   "outputs": [
    {
     "data": {
      "text/plain": [
       "{'split()',\n",
       " 'split()만',\n",
       " '공백을',\n",
       " '구분자',\n",
       " '구분자로',\n",
       " '구분자를',\n",
       " '기준으로',\n",
       " '나누게',\n",
       " '됩니다.',\n",
       " '몇번',\n",
       " '문자열을',\n",
       " '수',\n",
       " '수도',\n",
       " '쓴다면',\n",
       " '있고,',\n",
       " '있습니다.',\n",
       " '지정없이',\n",
       " '지정할',\n",
       " '쪼갤',\n",
       " '쪼갤지도',\n",
       " '최대',\n",
       " '함수는'}"
      ]
     },
     "execution_count": 12,
     "metadata": {},
     "output_type": "execute_result"
    }
   ],
   "source": [
    "data_s1 ^ data_s2"
   ]
  },
  {
   "cell_type": "code",
   "execution_count": 13,
   "id": "592f7853",
   "metadata": {},
   "outputs": [],
   "source": [
    "data_l = data_s1 & data_s2"
   ]
  },
  {
   "cell_type": "code",
   "execution_count": 14,
   "id": "dd0569fa",
   "metadata": {},
   "outputs": [
    {
     "data": {
      "text/plain": [
       "set()"
      ]
     },
     "execution_count": 14,
     "metadata": {},
     "output_type": "execute_result"
    }
   ],
   "source": [
    "data_l"
   ]
  },
  {
   "cell_type": "code",
   "execution_count": 15,
   "id": "8452c42d",
   "metadata": {},
   "outputs": [],
   "source": [
    "list=[data1]"
   ]
  },
  {
   "cell_type": "code",
   "execution_count": 16,
   "id": "ac18009a",
   "metadata": {},
   "outputs": [
    {
     "name": "stdout",
     "output_type": "stream",
     "text": [
      "['split() 함수는 문자열을 쪼갤 구분자를 지정할 수도 있고, 구분자를 기준으로 최대 몇번 쪼갤지도 지정할 수 있습니다.']\n"
     ]
    }
   ],
   "source": [
    "print(list)"
   ]
  },
  {
   "cell_type": "code",
   "execution_count": 17,
   "id": "c87afa04",
   "metadata": {},
   "outputs": [
    {
     "data": {
      "text/plain": [
       "[set()]"
      ]
     },
     "execution_count": 17,
     "metadata": {},
     "output_type": "execute_result"
    }
   ],
   "source": [
    "list=[data_l]\n",
    "list"
   ]
  },
  {
   "cell_type": "code",
   "execution_count": 18,
   "id": "e1dae758",
   "metadata": {},
   "outputs": [],
   "source": [
    "data_l2 = data_s1 | data_s2"
   ]
  },
  {
   "cell_type": "code",
   "execution_count": 19,
   "id": "f2286984",
   "metadata": {},
   "outputs": [
    {
     "data": {
      "text/plain": [
       "[{'split()',\n",
       "  'split()만',\n",
       "  '공백을',\n",
       "  '구분자',\n",
       "  '구분자로',\n",
       "  '구분자를',\n",
       "  '기준으로',\n",
       "  '나누게',\n",
       "  '됩니다.',\n",
       "  '몇번',\n",
       "  '문자열을',\n",
       "  '수',\n",
       "  '수도',\n",
       "  '쓴다면',\n",
       "  '있고,',\n",
       "  '있습니다.',\n",
       "  '지정없이',\n",
       "  '지정할',\n",
       "  '쪼갤',\n",
       "  '쪼갤지도',\n",
       "  '최대',\n",
       "  '함수는'}]"
      ]
     },
     "execution_count": 19,
     "metadata": {},
     "output_type": "execute_result"
    }
   ],
   "source": [
    "list=[data_l2]\n",
    "list"
   ]
  },
  {
   "cell_type": "code",
   "execution_count": null,
   "id": "427fcf11",
   "metadata": {},
   "outputs": [],
   "source": []
  }
 ],
 "metadata": {
  "kernelspec": {
   "display_name": "Python 3.9.13 ('base')",
   "language": "python",
   "name": "python3"
  },
  "language_info": {
   "codemirror_mode": {
    "name": "ipython",
    "version": 3
   },
   "file_extension": ".py",
   "mimetype": "text/x-python",
   "name": "python",
   "nbconvert_exporter": "python",
   "pygments_lexer": "ipython3",
   "version": "3.9.13"
  },
  "vscode": {
   "interpreter": {
    "hash": "1a78b5adbb636a1457b0c5d4cfcb2ac4d0cae006dda14d7173991df069a98825"
   }
  }
 },
 "nbformat": 4,
 "nbformat_minor": 5
}
