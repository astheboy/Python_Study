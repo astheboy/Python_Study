{
 "cells": [
  {
   "cell_type": "markdown",
   "metadata": {},
   "source": [
    "### 튜플 선언"
   ]
  },
  {
   "cell_type": "code",
   "execution_count": 4,
   "metadata": {},
   "outputs": [
    {
     "name": "stdout",
     "output_type": "stream",
     "text": [
      "('a', 'b', 'c', 'd', 'e')\n"
     ]
    }
   ],
   "source": [
    "data=('a','b','c','d','e')\n",
    "\n",
    "print(data)"
   ]
  },
  {
   "cell_type": "code",
   "execution_count": 7,
   "metadata": {},
   "outputs": [
    {
     "name": "stdout",
     "output_type": "stream",
     "text": [
      "a e\n"
     ]
    }
   ],
   "source": [
    "print(data[0], data[-1]) #인덱스 프린트 가능"
   ]
  },
  {
   "cell_type": "markdown",
   "metadata": {},
   "source": [
    "### 튜플 데이터 제한사항"
   ]
  },
  {
   "cell_type": "code",
   "execution_count": 2,
   "metadata": {},
   "outputs": [
    {
     "ename": "TypeError",
     "evalue": "'tuple' object does not support item assignment",
     "output_type": "error",
     "traceback": [
      "\u001b[0;31m---------------------------------------------------------------------------\u001b[0m",
      "\u001b[0;31mTypeError\u001b[0m                                 Traceback (most recent call last)",
      "\u001b[0;32m/var/folders/2j/rtmpv1x91q9632mhk14cjxhr0000gn/T/ipykernel_33703/1257854919.py\u001b[0m in \u001b[0;36m<module>\u001b[0;34m\u001b[0m\n\u001b[1;32m      1\u001b[0m \u001b[0mtupledata\u001b[0m\u001b[0;34m=\u001b[0m\u001b[0;34m(\u001b[0m\u001b[0;34m'dave'\u001b[0m\u001b[0;34m,\u001b[0m \u001b[0;34m'fun-coding'\u001b[0m\u001b[0;34m,\u001b[0m\u001b[0;34m'endless'\u001b[0m\u001b[0;34m)\u001b[0m\u001b[0;34m\u001b[0m\u001b[0;34m\u001b[0m\u001b[0m\n\u001b[1;32m      2\u001b[0m \u001b[0;34m\u001b[0m\u001b[0m\n\u001b[0;32m----> 3\u001b[0;31m \u001b[0mtupledata\u001b[0m\u001b[0;34m[\u001b[0m\u001b[0;36m0\u001b[0m\u001b[0;34m]\u001b[0m\u001b[0;34m=\u001b[0m\u001b[0;34m'david'\u001b[0m \u001b[0;31m#튜플 데이터 추가 삭제가 안됨\u001b[0m\u001b[0;34m\u001b[0m\u001b[0;34m\u001b[0m\u001b[0m\n\u001b[0m",
      "\u001b[0;31mTypeError\u001b[0m: 'tuple' object does not support item assignment"
     ]
    }
   ],
   "source": [
    "tupledata=('dave', 'fun-coding','endless')\n",
    "\n",
    "tupledata[0]='david' #튜플 데이터 추가 삭제가 안됨\n"
   ]
  },
  {
   "cell_type": "markdown",
   "metadata": {},
   "source": [
    "### 파이썬의 변수 입력과 튜플 동작과정"
   ]
  },
  {
   "cell_type": "code",
   "execution_count": 1,
   "metadata": {},
   "outputs": [
    {
     "name": "stdout",
     "output_type": "stream",
     "text": [
      "1 2\n",
      "2 1\n"
     ]
    }
   ],
   "source": [
    "var1, var2 = 1, 2 #변수 입력을 파이썬 내부적으로 튜플처럼 동작하는 과정을 보여줌\n",
    "\n",
    "print(var1, var2)\n",
    "var1, var2 = var2, var1  #변수 값을 Swapping\n",
    "\n",
    "print(var1, var2)"
   ]
  },
  {
   "cell_type": "markdown",
   "metadata": {},
   "source": [
    "### 튜플 데이터를 리스트로 변경하여 자료 삭제하기"
   ]
  },
  {
   "cell_type": "code",
   "execution_count": 3,
   "metadata": {},
   "outputs": [
    {
     "data": {
      "text/plain": [
       "['fun-coding2', 'fun-coding3', 'fun-coding4', 'fun-coding5']"
      ]
     },
     "execution_count": 3,
     "metadata": {},
     "output_type": "execute_result"
    }
   ],
   "source": [
    "tupledata = ('fun-coding1', 'fun-coding2','fun-coding3','fun-coding4','fun-coding5')\n",
    "\n",
    "data = list(tupledata) #data에 튜플을 리스트로 저장\n",
    "\n",
    "del data[0]  #리스트 0번을 삭제\n",
    "\n",
    "data #data 출력"
   ]
  },
  {
   "cell_type": "code",
   "execution_count": 8,
   "metadata": {},
   "outputs": [
    {
     "name": "stdout",
     "output_type": "stream",
     "text": [
      "['fun-coding2', 'fun-coding3', 'fun-coding4', 'fun-coding5']\n",
      "('fun-coding2', 'fun-coding3', 'fun-coding4', 'fun-coding5')\n"
     ]
    }
   ],
   "source": [
    "tupledata = ('fun-coding1', 'fun-coding2','fun-coding3','fun-coding4','fun-coding5')\n",
    "\n",
    "data = list(tupledata) #data에 튜플을 리스트로 저장\n",
    "\n",
    "del data[0]  #리스트 0번을 삭제\n",
    "\n",
    "data1 = tuple(data) #튜플로 다시 변경한것을 data1에 저장\n",
    "\n",
    "print(data)\n",
    "print(data1)"
   ]
  },
  {
   "cell_type": "markdown",
   "metadata": {},
   "source": [
    "### 튜플을 리스트로 변환 후 자료 추가하기"
   ]
  },
  {
   "cell_type": "code",
   "execution_count": 11,
   "metadata": {},
   "outputs": [
    {
     "name": "stdout",
     "output_type": "stream",
     "text": [
      "['fun-coding1', 'fun-coding2', 'fun-coding3', 'fun-conding4']\n",
      "('fun-coding1', 'fun-coding2', 'fun-coding3', 'fun-conding4')\n"
     ]
    }
   ],
   "source": [
    "tupledata = ('fun-coding1', 'fun-coding2','fun-coding3')\n",
    "\n",
    "data = list(tupledata) #data에 튜플을 리스트로 저장\n",
    "data.append('fun-conding4') #리스트에서 'fun-condign4'을 추가\n",
    "\n",
    "data1 = tuple(data) #튜플로 다시 변경한것을 data1에 저장\n",
    "\n",
    "print(data)\n",
    "print(data1)"
   ]
  },
  {
   "cell_type": "code",
   "execution_count": 13,
   "metadata": {},
   "outputs": [
    {
     "name": "stdout",
     "output_type": "stream",
     "text": [
      "<class 'tuple'> <class 'list'> <class 'dict'>\n"
     ]
    }
   ],
   "source": [
    "data1 = tuple()\n",
    "data2 = list()\n",
    "data3 = dict()\n",
    "\n",
    "print(type(data1), type(data2), type(data3))"
   ]
  },
  {
   "cell_type": "markdown",
   "metadata": {},
   "source": [
    "### 딕셔너리 key, value를 리스트로 저장하기"
   ]
  },
  {
   "cell_type": "code",
   "execution_count": 15,
   "metadata": {},
   "outputs": [
    {
     "name": "stdout",
     "output_type": "stream",
     "text": [
      "{'environment': '환경', 'company': '회사', 'goverment': '정부, 정치', 'face': '얼굴'}\n",
      "['environment', 'company', 'goverment', 'face']\n",
      "['환경', '회사', '정부, 정치', '얼굴']\n"
     ]
    }
   ],
   "source": [
    "data = {'environment':'환경','company':'회사','goverment':'정부, 정치','face':'얼굴'} #딕셔너리 선언\n",
    "keys = data.keys() #딕셔너리에서 키캆만 keys에 저장\n",
    "values = data.values() #딕셔너리에서 값만 values에 저장\n",
    "\n",
    "print(data) \n",
    "print(list(keys))\n",
    "print(list(values))\n",
    "\n"
   ]
  },
  {
   "cell_type": "markdown",
   "metadata": {},
   "source": [
    "### 딕셔너리 key, value를 반복문을 이용하여 출력하기"
   ]
  },
  {
   "cell_type": "code",
   "execution_count": 18,
   "metadata": {},
   "outputs": [
    {
     "name": "stdout",
     "output_type": "stream",
     "text": [
      "environment : 환경\n",
      "company : 회사\n",
      "goverment : 정부, 정치\n",
      "face : 얼굴\n"
     ]
    }
   ],
   "source": [
    "data = {'environment':'환경','company':'회사','goverment':'정부, 정치','face':'얼굴'} #딕셔너리 선언\n",
    "\n",
    "for item in data.keys():\n",
    "    print(item, \":\", data[item])"
   ]
  },
  {
   "cell_type": "markdown",
   "metadata": {},
   "source": [
    "### 딕셔너리 value에 딕셔너리 넣기"
   ]
  },
  {
   "cell_type": "code",
   "execution_count": 22,
   "metadata": {},
   "outputs": [
    {
     "name": "stdout",
     "output_type": "stream",
     "text": [
      "environment\n",
      "goverment\n"
     ]
    }
   ],
   "source": [
    "data = {'environment':['환경', 'x'],'company': ['회사','o'],'goverment':['정부, 정치','x'],'face':['얼굴','o']} #딕셔너리 값안에 다양한 데이터 형태를 넣을 수 있음\n",
    "\n",
    "for item in data.keys():\n",
    "    data_list = data[item] #딕셔너리 아이템 값을 data_list에 넣기\n",
    "    if data_list[1] == 'x': #data_list 두번째 항목에 x값이면\n",
    "        print(item) #해당 item값을 출력"
   ]
  },
  {
   "cell_type": "markdown",
   "metadata": {},
   "source": [
    "### 딕셔너리 자료와 입력 자료를 비교하여 딕셔너리 value 값 수정하기"
   ]
  },
  {
   "cell_type": "code",
   "execution_count": 29,
   "metadata": {},
   "outputs": [
    {
     "name": "stdout",
     "output_type": "stream",
     "text": [
      "environment\n",
      "{'environment': ['환경', 'x'], 'company': ['회사', 'o'], 'goverment': ['정부, 정치', 'o'], 'face': ['얼굴', 'o']}\n"
     ]
    }
   ],
   "source": [
    "data = {'environment':['환경', 'x'],'company': ['회사','o'],'goverment':['정부, 정치','x'],'face':['얼굴','o']} #딕셔너리 값안에 다양한 데이터 형태를 넣을 수 있음\n",
    "\n",
    "english = input()\n",
    "if english in data.keys(): #딕셔너리 안에 키값에서 인풋된 내용과 일치한 것이 있으면\n",
    "    data[english][1] = 'o' #해당 키캆의 두번째 인수 값을 'o'로 변경\n",
    "\n",
    "for item in data.keys():\n",
    "    data_list = data[item] #딕셔너리 아이템 값을 data_list에 넣기\n",
    "\n",
    "    if data_list[1] == 'x': #data_list 두번째 항목에 x값이면\n",
    "        print(item) #해당 item값을 출력\n",
    "        print(data)"
   ]
  },
  {
   "cell_type": "markdown",
   "metadata": {},
   "source": [
    "### 여러가지 딕셔너리 자료 이용하기"
   ]
  },
  {
   "cell_type": "code",
   "execution_count": 33,
   "metadata": {},
   "outputs": [
    {
     "name": "stdout",
     "output_type": "stream",
     "text": [
      "{'environment': '환경', 'goverment': '정부, 정치'}\n",
      "{'environment': '환경', 'goverment': '정부, 정치', 'company': '회사', 'face': '얼굴', 'apple': '사과'}\n"
     ]
    }
   ],
   "source": [
    "dict_all = {'environment':'환경','goverment':'정부, 정치'}\n",
    "dict2 = {'company':'회사','face':'얼굴'}\n",
    "dict3 = {'apple':'사과'}\n",
    "\n",
    "print(dict_all)\n",
    "for item in dict2.keys():\n",
    "    dict_all[item] = dict2[item] #dict2의 아이템을 가지고 와서 dict_all 아이템을 넣기\n",
    "\n",
    "for item in dict3.keys():\n",
    "    dict_all[item] = dict3[item]\n",
    "\n",
    "print(dict_all)"
   ]
  },
  {
   "cell_type": "markdown",
   "metadata": {},
   "source": [
    "### 여러가지 딕셔너리 자료 활용하기"
   ]
  },
  {
   "cell_type": "code",
   "execution_count": 35,
   "metadata": {},
   "outputs": [
    {
     "name": "stdout",
     "output_type": "stream",
     "text": [
      "{'actor_details': {'생년월일': '1971-03-01', '성별': '남', '직업': '배우', '홈페이지': 'https://www.instagram.com/madongseok'}, 'actor_name': '마동석', 'actor_rate': 59361, 'date': '2017-10', 'movie_list': ['범죄도시', '부라더', '부산행']}\n"
     ]
    }
   ],
   "source": [
    "actor_info = {'actor_details':{'생년월일':'1971-03-01','성별':'남','직업':'배우','홈페이지':'https://www.instagram.com/madongseok'},\n",
    "'actor_name':'마동석','actor_rate':59361,'date':'2017-10','movie_list':['범죄도시', '부라더', '부산행']} #딕셔너리 안에 아이템값으로 딕셔너리를 추가하거나 리스트를 넣을 수 있음\n",
    "\n",
    "print(actor_info)"
   ]
  },
  {
   "cell_type": "code",
   "execution_count": 36,
   "metadata": {},
   "outputs": [
    {
     "name": "stdout",
     "output_type": "stream",
     "text": [
      "배우 이름: 마동석\n",
      "홈페이지: https://www.instagram.com/madongseok\n",
      "출연 영화 갯수: 3\n"
     ]
    }
   ],
   "source": [
    "actor_info = {'actor_details':{'생년월일':'1971-03-01','성별':'남','직업':'배우','홈페이지':'https://www.instagram.com/madongseok'},\n",
    "'actor_name':'마동석','actor_rate':59361,'date':'2017-10','movie_list':['범죄도시', '부라더', '부산행']} #딕셔너리 안에 아이템값으로 딕셔너리를 추가하거나 리스트를 넣을 수 있음\n",
    "\n",
    "print(\"배우 이름:\", actor_info['actor_name']) #배우 이름 출력\n",
    "print(\"홈페이지:\", actor_info['actor_details']['홈페이지'])  #actor_detail 키 값의 아이템에서(딕셔너리) 홈페이지 키의 아이템 값을 출력\n",
    "print(\"출연 영화 갯수:\", len(actor_info['movie_list'])) #len함수를 이용하여 movie_list의 리스트 갯수를 출력\n",
    "\n"
   ]
  },
  {
   "cell_type": "markdown",
   "metadata": {},
   "source": [
    "### 데이터 구조(집합)"
   ]
  },
  {
   "cell_type": "code",
   "execution_count": 38,
   "metadata": {},
   "outputs": [
    {
     "name": "stdout",
     "output_type": "stream",
     "text": [
      "{1, 2, 3, 4, 5, 6, 7, 8, 9, 10}\n"
     ]
    }
   ],
   "source": [
    "number_list = [5, 1, 2, 2, 3, 3, 4, 5, 5, 6, 7, 8, 9, 9, 10, 10]\n",
    "number_list1 = set(number_list)\n",
    "\n",
    "print(number_list1) #set을 이용하면 중복된 수를 제거하고 표시"
   ]
  },
  {
   "cell_type": "code",
   "execution_count": 41,
   "metadata": {},
   "outputs": [
    {
     "data": {
      "text/plain": [
       "{1, 3, 4, 5, 6}"
      ]
     },
     "execution_count": 41,
     "metadata": {},
     "output_type": "execute_result"
    }
   ],
   "source": [
    "number_list2 = {1, 2, 3}\n",
    "number_list2.add(4) #1개의 데이터를 추가할 때 add 사용\n",
    "number_list2.update([5, 6]) #여러 데이터를 추가할 때 update 사용\n",
    "number_list2.remove(2) #데이터를 제거할 때 remove 사용\n",
    "\n",
    "number_list2\n"
   ]
  },
  {
   "cell_type": "code",
   "execution_count": 42,
   "metadata": {},
   "outputs": [
    {
     "data": {
      "text/plain": [
       "{1, 2, 3, 4, 5, 6, 7, 8, 9, 10}"
      ]
     },
     "execution_count": 42,
     "metadata": {},
     "output_type": "execute_result"
    }
   ],
   "source": [
    "number_list1"
   ]
  },
  {
   "cell_type": "code",
   "execution_count": 43,
   "metadata": {},
   "outputs": [
    {
     "data": {
      "text/plain": [
       "{1, 3, 4, 5, 6}"
      ]
     },
     "execution_count": 43,
     "metadata": {},
     "output_type": "execute_result"
    }
   ],
   "source": [
    "number_list2"
   ]
  },
  {
   "cell_type": "code",
   "execution_count": 44,
   "metadata": {},
   "outputs": [
    {
     "data": {
      "text/plain": [
       "{1, 3, 4, 5, 6}"
      ]
     },
     "execution_count": 44,
     "metadata": {},
     "output_type": "execute_result"
    }
   ],
   "source": [
    "number_list1 & number_list2 #교집합"
   ]
  },
  {
   "cell_type": "code",
   "execution_count": 45,
   "metadata": {},
   "outputs": [
    {
     "data": {
      "text/plain": [
       "{2, 7, 8, 9, 10}"
      ]
     },
     "execution_count": 45,
     "metadata": {},
     "output_type": "execute_result"
    }
   ],
   "source": [
    "number_list1 - number_list2 #차집합"
   ]
  },
  {
   "cell_type": "code",
   "execution_count": 46,
   "metadata": {},
   "outputs": [
    {
     "data": {
      "text/plain": [
       "{1, 2, 3, 4, 5, 6, 7, 8, 9, 10}"
      ]
     },
     "execution_count": 46,
     "metadata": {},
     "output_type": "execute_result"
    }
   ],
   "source": [
    "number_list1 | number_list2 #합집합"
   ]
  }
 ],
 "metadata": {
  "kernelspec": {
   "display_name": "Python 3.9.13 ('base')",
   "language": "python",
   "name": "python3"
  },
  "language_info": {
   "codemirror_mode": {
    "name": "ipython",
    "version": 3
   },
   "file_extension": ".py",
   "mimetype": "text/x-python",
   "name": "python",
   "nbconvert_exporter": "python",
   "pygments_lexer": "ipython3",
   "version": "3.9.13"
  },
  "orig_nbformat": 4,
  "vscode": {
   "interpreter": {
    "hash": "1a78b5adbb636a1457b0c5d4cfcb2ac4d0cae006dda14d7173991df069a98825"
   }
  }
 },
 "nbformat": 4,
 "nbformat_minor": 2
}
